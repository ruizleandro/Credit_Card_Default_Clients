{
  "nbformat": 4,
  "nbformat_minor": 0,
  "metadata": {
    "colab": {
      "name": "Portfolio 01.ipynb",
      "provenance": [],
      "collapsed_sections": [
        "qLJxJLvAjGJv",
        "I3Nk43inlKDV",
        "YujmP45DskYL",
        "HKExF6eB3Bbs",
        "AuoC2_H9273E",
        "PtMh1uZO1i_c",
        "_ZmC8WmT1m6C",
        "k6wQzcfo1pJh",
        "IkGs0tH7QdvH",
        "VWgcVsQk0uk5",
        "lZJJdPI-01xf",
        "cP1KZWkn04x2",
        "hbBeqB_I1EQn",
        "MOOYV1eNp2X4",
        "zwR_RBLXkv4D",
        "fRKSZwN6qIK1",
        "9sXj_Qmu1XVj"
      ],
      "authorship_tag": "ABX9TyOl/oNZZhQShN2FNi303e2U",
      "include_colab_link": true
    },
    "kernelspec": {
      "name": "python3",
      "display_name": "Python 3"
    },
    "accelerator": "TPU"
  },
  "cells": [
    {
      "cell_type": "markdown",
      "metadata": {
        "id": "view-in-github",
        "colab_type": "text"
      },
      "source": [
        "<a href=\"https://colab.research.google.com/github/ruizleandro/Credit_Card_Default_Clients/blob/master/Credit_Card_Default_Clients.ipynb\" target=\"_parent\"><img src=\"https://colab.research.google.com/assets/colab-badge.svg\" alt=\"Open In Colab\"/></a>"
      ]
    },
    {
      "cell_type": "markdown",
      "metadata": {
        "id": "npFG6ZoZ8UbJ",
        "colab_type": "text"
      },
      "source": [
        "# Necessary installations"
      ]
    },
    {
      "cell_type": "code",
      "metadata": {
        "id": "zZS6wjsSha6B",
        "colab_type": "code",
        "outputId": "e2288918-2f82-4b55-c3f9-483d26d1def3",
        "colab": {
          "base_uri": "https://localhost:8080/",
          "height": 70
        }
      },
      "source": [
        "import pandas as pd\n",
        "import numpy as np\n",
        "import matplotlib.pyplot as plt\n",
        "import seaborn as sns"
      ],
      "execution_count": 0,
      "outputs": [
        {
          "output_type": "stream",
          "text": [
            "/usr/local/lib/python3.6/dist-packages/statsmodels/tools/_testing.py:19: FutureWarning: pandas.util.testing is deprecated. Use the functions in the public API at pandas.testing instead.\n",
            "  import pandas.util.testing as tm\n"
          ],
          "name": "stderr"
        }
      ]
    },
    {
      "cell_type": "markdown",
      "metadata": {
        "id": "qLJxJLvAjGJv",
        "colab_type": "text"
      },
      "source": [
        "## Downgrading Java so Spark works properly"
      ]
    },
    {
      "cell_type": "code",
      "metadata": {
        "id": "-k5IaIInjKET",
        "colab_type": "code",
        "outputId": "cb22f038-1d0c-40db-e4de-7ef9a56b715b",
        "colab": {
          "base_uri": "https://localhost:8080/"
        }
      },
      "source": [
        "!apt-get install openjdk-8-jdk-headless -qq > /dev/null\n",
        "import os\n",
        "os.environ[\"JAVA_HOME\"] = \"/usr/lib/jvm/java-8-openjdk-amd64\"\n",
        "!update-alternatives --set java /usr/lib/jvm/java-8-openjdk-amd64/jre/bin/java\n",
        "!java -version"
      ],
      "execution_count": 0,
      "outputs": [
        {
          "output_type": "stream",
          "text": [
            "update-alternatives: using /usr/lib/jvm/java-8-openjdk-amd64/jre/bin/java to provide /usr/bin/java (java) in manual mode\n",
            "openjdk version \"1.8.0_252\"\n",
            "OpenJDK Runtime Environment (build 1.8.0_252-8u252-b09-1~18.04-b09)\n",
            "OpenJDK 64-Bit Server VM (build 25.252-b09, mixed mode)\n"
          ],
          "name": "stdout"
        }
      ]
    },
    {
      "cell_type": "markdown",
      "metadata": {
        "id": "kRRQKZrHjTRz",
        "colab_type": "text"
      },
      "source": [
        "###### Spark Installation"
      ]
    },
    {
      "cell_type": "code",
      "metadata": {
        "id": "c8q3CtvmjSGp",
        "colab_type": "code",
        "outputId": "75014cb6-f165-4b40-b23a-cd184ed78872",
        "colab": {
          "base_uri": "https://localhost:8080/"
        }
      },
      "source": [
        "!pip install pyspark\n",
        "\n",
        "from pyspark.sql import SparkSession\n",
        "spark = SparkSession.builder.appName(\n",
        "    'portfolio_default_of_credit_card_clients').getOrCreate()"
      ],
      "execution_count": 0,
      "outputs": [
        {
          "output_type": "stream",
          "text": [
            "Collecting pyspark\n",
            "\u001b[?25l  Downloading https://files.pythonhosted.org/packages/9a/5a/271c416c1c2185b6cb0151b29a91fff6fcaed80173c8584ff6d20e46b465/pyspark-2.4.5.tar.gz (217.8MB)\n",
            "\u001b[K     |████████████████████████████████| 217.8MB 57kB/s \n",
            "\u001b[?25hCollecting py4j==0.10.7\n",
            "\u001b[?25l  Downloading https://files.pythonhosted.org/packages/e3/53/c737818eb9a7dc32a7cd4f1396e787bd94200c3997c72c1dbe028587bd76/py4j-0.10.7-py2.py3-none-any.whl (197kB)\n",
            "\u001b[K     |████████████████████████████████| 204kB 39.9MB/s \n",
            "\u001b[?25hBuilding wheels for collected packages: pyspark\n",
            "  Building wheel for pyspark (setup.py) ... \u001b[?25l\u001b[?25hdone\n",
            "  Created wheel for pyspark: filename=pyspark-2.4.5-py2.py3-none-any.whl size=218257927 sha256=240e50d03138325f92ac3b5bb6b51a075e7414250bd34973790dee9f23ae195c\n",
            "  Stored in directory: /root/.cache/pip/wheels/bf/db/04/61d66a5939364e756eb1c1be4ec5bdce6e04047fc7929a3c3c\n",
            "Successfully built pyspark\n",
            "Installing collected packages: py4j, pyspark\n",
            "Successfully installed py4j-0.10.7 pyspark-2.4.5\n"
          ],
          "name": "stdout"
        }
      ]
    },
    {
      "cell_type": "markdown",
      "metadata": {
        "id": "Y-7Qn9Kv8cms",
        "colab_type": "text"
      },
      "source": [
        "# Getting the data"
      ]
    },
    {
      "cell_type": "markdown",
      "metadata": {
        "id": "hQAL4ySwjPlW",
        "colab_type": "text"
      },
      "source": [
        "[Link to dataset's Kaggle page](https://www.kaggle.com/uciml/default-of-credit-card-clients-dataset)\n"
      ]
    },
    {
      "cell_type": "code",
      "metadata": {
        "id": "mKz-WwJFcd7D",
        "colab_type": "code",
        "outputId": "d9d5172d-b07b-4a3c-9c7d-02a248002c87",
        "colab": {
          "resources": {
            "http://localhost:8080/nbextensions/google.colab/files.js": {
              "data": "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",
              "ok": true,
              "headers": [
                [
                  "content-type",
                  "application/javascript"
                ]
              ],
              "status": 200,
              "status_text": ""
            }
          },
          "base_uri": "https://localhost:8080/"
        }
      },
      "source": [
        "from google.colab import files\n",
        "\n",
        "uploaded = files.upload()\n",
        "\n",
        "for fn in uploaded.keys():\n",
        "  print('User uploaded file \"{name}\" with length {length} bytes'.format(\n",
        "      name=fn, length=len(uploaded[fn])))"
      ],
      "execution_count": 0,
      "outputs": [
        {
          "output_type": "display_data",
          "data": {
            "text/html": [
              "\n",
              "     <input type=\"file\" id=\"files-cd34bcfc-28b5-4fd9-b0ca-1ffdeded1097\" name=\"files[]\" multiple disabled />\n",
              "     <output id=\"result-cd34bcfc-28b5-4fd9-b0ca-1ffdeded1097\">\n",
              "      Upload widget is only available when the cell has been executed in the\n",
              "      current browser session. Please rerun this cell to enable.\n",
              "      </output>\n",
              "      <script src=\"/nbextensions/google.colab/files.js\"></script> "
            ],
            "text/plain": [
              "<IPython.core.display.HTML object>"
            ]
          },
          "metadata": {
            "tags": []
          }
        },
        {
          "output_type": "stream",
          "text": [
            "Saving default_of_credit_card_clients.xls to default_of_credit_card_clients.xls\n",
            "User uploaded file \"default_of_credit_card_clients.xls\" with length 5539328 bytes\n"
          ],
          "name": "stdout"
        }
      ]
    },
    {
      "cell_type": "code",
      "metadata": {
        "id": "o3AW23LdRhGw",
        "colab_type": "code",
        "colab": {}
      },
      "source": [
        "df = pd.read_excel(\"default_of_credit_card_clients.xls\", skiprows=1)\n",
        "df.set_index('ID', inplace=True)"
      ],
      "execution_count": 0,
      "outputs": []
    },
    {
      "cell_type": "markdown",
      "metadata": {
        "id": "I3Nk43inlKDV",
        "colab_type": "text"
      },
      "source": [
        "# Data Cleaning"
      ]
    },
    {
      "cell_type": "markdown",
      "metadata": {
        "id": "YujmP45DskYL",
        "colab_type": "text"
      },
      "source": [
        " ## Variable description"
      ]
    },
    {
      "cell_type": "markdown",
      "metadata": {
        "id": "OS0WxnuLe7Kt",
        "colab_type": "text"
      },
      "source": [
        "There are 25 variables:\n",
        "\n",
        "* ID: ID of each client\n",
        "* LIMIT_BAL: Amount of given credit in NT dollars (includes individual and family/supplementary credit\n",
        "* SEX: Gender (1=male, 2=female)\n",
        "* EDUCATION: (1=graduate school, 2=university, 3=high school, 4=others, 5=unknown, 6=unknown)\n",
        "* MARRIAGE: Marital status (1=married, 2=single, 3=others)\n",
        "* AGE: Age in years\n",
        "* PAY_0: Repayment status in September, 2005 (-1=pay duly, 1=payment delay for one month, 2=payment delay for two months, … 8=payment delay for eight months, 9=payment delay for nine months and above)\n",
        "* PAY_2: Repayment status in August, 2005 (scale same as above)\n",
        "* PAY_3: Repayment status in July, 2005 (scale same as above)\n",
        "* PAY_4: Repayment status in June, 2005 (scale same as above)\n",
        "* PAY_5: Repayment status in May, 2005 (scale same as above)\n",
        "* PAY_6: Repayment status in April, 2005 (scale same as above)\n",
        "* BILL_AMT1: Amount of bill statement in September, 2005 (NT dollar)\n",
        "* BILL_AMT2: Amount of bill statement in August, 2005 (NT dollar)\n",
        "* BILL_AMT3: Amount of bill statement in July, 2005 (NT dollar)\n",
        "* BILL_AMT4: Amount of bill statement in June, 2005 (NT dollar)\n",
        "* BILL_AMT5: Amount of bill statement in May, 2005 (NT dollar)\n",
        "* BILL_AMT6: Amount of bill statement in April, 2005 (NT dollar)\n",
        "* PAY_AMT1: Amount of previous payment in September, 2005 (NT dollar)\n",
        "* PAY_AMT2: Amount of previous payment in August, 2005 (NT dollar)\n",
        "* PAY_AMT3: Amount of previous payment in July, 2005 (NT dollar)\n",
        "* PAY_AMT4: Amount of previous payment in June, 2005 (NT dollar)\n",
        "* PAY_AMT5: Amount of previous payment in May, 2005 (NT dollar)\n",
        "* PAY_AMT6: Amount of previous payment in April, 2005 (NT dollar)\n",
        "* default.payment.next.month: Default payment (1=yes, 0=no)"
      ]
    },
    {
      "cell_type": "markdown",
      "metadata": {
        "id": "XkSDCSTcseIq",
        "colab_type": "text"
      },
      "source": [
        "## Feature edition"
      ]
    },
    {
      "cell_type": "markdown",
      "metadata": {
        "id": "qpze5bGot4Fx",
        "colab_type": "text"
      },
      "source": [
        "I'll change the name of the target column and the name of `PAY_0` to `PAY_1` just for simplicity sake."
      ]
    },
    {
      "cell_type": "code",
      "metadata": {
        "id": "vu5waaK1tPLT",
        "colab_type": "code",
        "colab": {}
      },
      "source": [
        "df = df.rename(columns={'default payment next month': 'default', \n",
        "                        'PAY_0': 'PAY_1'})"
      ],
      "execution_count": 0,
      "outputs": []
    },
    {
      "cell_type": "markdown",
      "metadata": {
        "id": "WrLDonxouRYY",
        "colab_type": "text"
      },
      "source": [
        "In the variable description we can see that a value of `-1` on `PAY_N` means pay duly, so it has more sense if I change that value to `0`, meaning that the client doesn't have payment delay. And the value `-2` is undocumented, but we can guess that means the same as `-1`."
      ]
    },
    {
      "cell_type": "code",
      "metadata": {
        "id": "dWh5g3xQssvn",
        "colab_type": "code",
        "colab": {}
      },
      "source": [
        "df.loc[df.PAY_1 == -2, 'PAY_1'] = 0\n",
        "df.loc[df.PAY_1 == -1, 'PAY_1'] = 0\n",
        "df.loc[df.PAY_2 == -2, 'PAY_2'] = 0\n",
        "df.loc[df.PAY_2 == -1, 'PAY_2'] = 0\n",
        "df.loc[df.PAY_3 == -2, 'PAY_3'] = 0\n",
        "df.loc[df.PAY_3 == -1, 'PAY_3'] = 0\n",
        "df.loc[df.PAY_4 == -2, 'PAY_4'] = 0\n",
        "df.loc[df.PAY_4 == -1, 'PAY_4'] = 0\n",
        "df.loc[df.PAY_5 == -2, 'PAY_5'] = 0\n",
        "df.loc[df.PAY_5 == -1, 'PAY_5'] = 0\n",
        "df.loc[df.PAY_6 == -2, 'PAY_6'] = 0\n",
        "df.loc[df.PAY_6 == -1, 'PAY_6'] = 0"
      ],
      "execution_count": 0,
      "outputs": []
    },
    {
      "cell_type": "markdown",
      "metadata": {
        "id": "tJchW4XQnBjB",
        "colab_type": "text"
      },
      "source": [
        "I am going to group the label `MARRIAGE = 0` (that is undocumented) with `MARRAIAGE = 3` (others). "
      ]
    },
    {
      "cell_type": "code",
      "metadata": {
        "id": "-kkTXptel-pk",
        "colab_type": "code",
        "outputId": "7fdc8de6-bb09-4846-d334-fda00da7a939",
        "colab": {
          "base_uri": "https://localhost:8080/",
          "height": 84
        }
      },
      "source": [
        "df.loc[df.MARRIAGE == 0, 'MARRIAGE'] = 3\n",
        "df.MARRIAGE.value_counts()"
      ],
      "execution_count": 0,
      "outputs": [
        {
          "output_type": "execute_result",
          "data": {
            "text/plain": [
              "2    15964\n",
              "1    13659\n",
              "3      377\n",
              "Name: MARRIAGE, dtype: int64"
            ]
          },
          "metadata": {
            "tags": []
          },
          "execution_count": 9
        }
      ]
    },
    {
      "cell_type": "markdown",
      "metadata": {
        "id": "Qg7z2JIUnQo8",
        "colab_type": "text"
      },
      "source": [
        "And I'll do the same with `EDUCATION = 0` (undocumented), `EDUCATION = 5` (unknown), and `EDUCATION = 6` (also unknown). I am going to group all this labels in `EDUCATION = 4` (others)."
      ]
    },
    {
      "cell_type": "code",
      "metadata": {
        "id": "dznQVkSzmRyW",
        "colab_type": "code",
        "outputId": "cac48ce4-012b-4da9-8aff-32432f749636",
        "colab": {
          "base_uri": "https://localhost:8080/",
          "height": 101
        }
      },
      "source": [
        "df.loc[(df.EDUCATION == 0) | (df.EDUCATION == 5) | (df.EDUCATION == 6),\n",
        "       'EDUCATION'] = 4\n",
        "df.EDUCATION.value_counts()"
      ],
      "execution_count": 0,
      "outputs": [
        {
          "output_type": "execute_result",
          "data": {
            "text/plain": [
              "2    14030\n",
              "1    10585\n",
              "3     4917\n",
              "4      468\n",
              "Name: EDUCATION, dtype: int64"
            ]
          },
          "metadata": {
            "tags": []
          },
          "execution_count": 10
        }
      ]
    },
    {
      "cell_type": "markdown",
      "metadata": {
        "id": "r0vGzg7LUSKs",
        "colab_type": "text"
      },
      "source": [
        "# Exploratory Data Analysis"
      ]
    },
    {
      "cell_type": "markdown",
      "metadata": {
        "id": "HKExF6eB3Bbs",
        "colab_type": "text"
      },
      "source": [
        "### Shape and quick look to the dataset"
      ]
    },
    {
      "cell_type": "code",
      "metadata": {
        "id": "69u1ZfiAUPNb",
        "colab_type": "code",
        "outputId": "2096e3aa-095b-4d4e-b7fc-6a6b61e67637",
        "colab": {
          "base_uri": "https://localhost:8080/"
        }
      },
      "source": [
        "df.shape"
      ],
      "execution_count": 0,
      "outputs": [
        {
          "output_type": "execute_result",
          "data": {
            "text/plain": [
              "(30000, 24)"
            ]
          },
          "metadata": {
            "tags": []
          },
          "execution_count": 11
        }
      ]
    },
    {
      "cell_type": "code",
      "metadata": {
        "id": "IRNlN3plRsMj",
        "colab_type": "code",
        "outputId": "09c693fd-a91e-40c2-df5c-731d19ea7fad",
        "colab": {
          "base_uri": "https://localhost:8080/"
        }
      },
      "source": [
        "df.head(10) "
      ],
      "execution_count": 0,
      "outputs": [
        {
          "output_type": "execute_result",
          "data": {
            "text/html": [
              "<div>\n",
              "<style scoped>\n",
              "    .dataframe tbody tr th:only-of-type {\n",
              "        vertical-align: middle;\n",
              "    }\n",
              "\n",
              "    .dataframe tbody tr th {\n",
              "        vertical-align: top;\n",
              "    }\n",
              "\n",
              "    .dataframe thead th {\n",
              "        text-align: right;\n",
              "    }\n",
              "</style>\n",
              "<table border=\"1\" class=\"dataframe\">\n",
              "  <thead>\n",
              "    <tr style=\"text-align: right;\">\n",
              "      <th></th>\n",
              "      <th>LIMIT_BAL</th>\n",
              "      <th>SEX</th>\n",
              "      <th>EDUCATION</th>\n",
              "      <th>MARRIAGE</th>\n",
              "      <th>AGE</th>\n",
              "      <th>PAY_1</th>\n",
              "      <th>PAY_2</th>\n",
              "      <th>PAY_3</th>\n",
              "      <th>PAY_4</th>\n",
              "      <th>PAY_5</th>\n",
              "      <th>PAY_6</th>\n",
              "      <th>BILL_AMT1</th>\n",
              "      <th>BILL_AMT2</th>\n",
              "      <th>BILL_AMT3</th>\n",
              "      <th>BILL_AMT4</th>\n",
              "      <th>BILL_AMT5</th>\n",
              "      <th>BILL_AMT6</th>\n",
              "      <th>PAY_AMT1</th>\n",
              "      <th>PAY_AMT2</th>\n",
              "      <th>PAY_AMT3</th>\n",
              "      <th>PAY_AMT4</th>\n",
              "      <th>PAY_AMT5</th>\n",
              "      <th>PAY_AMT6</th>\n",
              "      <th>default</th>\n",
              "    </tr>\n",
              "    <tr>\n",
              "      <th>ID</th>\n",
              "      <th></th>\n",
              "      <th></th>\n",
              "      <th></th>\n",
              "      <th></th>\n",
              "      <th></th>\n",
              "      <th></th>\n",
              "      <th></th>\n",
              "      <th></th>\n",
              "      <th></th>\n",
              "      <th></th>\n",
              "      <th></th>\n",
              "      <th></th>\n",
              "      <th></th>\n",
              "      <th></th>\n",
              "      <th></th>\n",
              "      <th></th>\n",
              "      <th></th>\n",
              "      <th></th>\n",
              "      <th></th>\n",
              "      <th></th>\n",
              "      <th></th>\n",
              "      <th></th>\n",
              "      <th></th>\n",
              "      <th></th>\n",
              "    </tr>\n",
              "  </thead>\n",
              "  <tbody>\n",
              "    <tr>\n",
              "      <th>1</th>\n",
              "      <td>20000</td>\n",
              "      <td>2</td>\n",
              "      <td>2</td>\n",
              "      <td>1</td>\n",
              "      <td>24</td>\n",
              "      <td>2</td>\n",
              "      <td>2</td>\n",
              "      <td>0</td>\n",
              "      <td>0</td>\n",
              "      <td>0</td>\n",
              "      <td>0</td>\n",
              "      <td>3913</td>\n",
              "      <td>3102</td>\n",
              "      <td>689</td>\n",
              "      <td>0</td>\n",
              "      <td>0</td>\n",
              "      <td>0</td>\n",
              "      <td>0</td>\n",
              "      <td>689</td>\n",
              "      <td>0</td>\n",
              "      <td>0</td>\n",
              "      <td>0</td>\n",
              "      <td>0</td>\n",
              "      <td>1</td>\n",
              "    </tr>\n",
              "    <tr>\n",
              "      <th>2</th>\n",
              "      <td>120000</td>\n",
              "      <td>2</td>\n",
              "      <td>2</td>\n",
              "      <td>2</td>\n",
              "      <td>26</td>\n",
              "      <td>0</td>\n",
              "      <td>2</td>\n",
              "      <td>0</td>\n",
              "      <td>0</td>\n",
              "      <td>0</td>\n",
              "      <td>2</td>\n",
              "      <td>2682</td>\n",
              "      <td>1725</td>\n",
              "      <td>2682</td>\n",
              "      <td>3272</td>\n",
              "      <td>3455</td>\n",
              "      <td>3261</td>\n",
              "      <td>0</td>\n",
              "      <td>1000</td>\n",
              "      <td>1000</td>\n",
              "      <td>1000</td>\n",
              "      <td>0</td>\n",
              "      <td>2000</td>\n",
              "      <td>1</td>\n",
              "    </tr>\n",
              "    <tr>\n",
              "      <th>3</th>\n",
              "      <td>90000</td>\n",
              "      <td>2</td>\n",
              "      <td>2</td>\n",
              "      <td>2</td>\n",
              "      <td>34</td>\n",
              "      <td>0</td>\n",
              "      <td>0</td>\n",
              "      <td>0</td>\n",
              "      <td>0</td>\n",
              "      <td>0</td>\n",
              "      <td>0</td>\n",
              "      <td>29239</td>\n",
              "      <td>14027</td>\n",
              "      <td>13559</td>\n",
              "      <td>14331</td>\n",
              "      <td>14948</td>\n",
              "      <td>15549</td>\n",
              "      <td>1518</td>\n",
              "      <td>1500</td>\n",
              "      <td>1000</td>\n",
              "      <td>1000</td>\n",
              "      <td>1000</td>\n",
              "      <td>5000</td>\n",
              "      <td>0</td>\n",
              "    </tr>\n",
              "    <tr>\n",
              "      <th>4</th>\n",
              "      <td>50000</td>\n",
              "      <td>2</td>\n",
              "      <td>2</td>\n",
              "      <td>1</td>\n",
              "      <td>37</td>\n",
              "      <td>0</td>\n",
              "      <td>0</td>\n",
              "      <td>0</td>\n",
              "      <td>0</td>\n",
              "      <td>0</td>\n",
              "      <td>0</td>\n",
              "      <td>46990</td>\n",
              "      <td>48233</td>\n",
              "      <td>49291</td>\n",
              "      <td>28314</td>\n",
              "      <td>28959</td>\n",
              "      <td>29547</td>\n",
              "      <td>2000</td>\n",
              "      <td>2019</td>\n",
              "      <td>1200</td>\n",
              "      <td>1100</td>\n",
              "      <td>1069</td>\n",
              "      <td>1000</td>\n",
              "      <td>0</td>\n",
              "    </tr>\n",
              "    <tr>\n",
              "      <th>5</th>\n",
              "      <td>50000</td>\n",
              "      <td>1</td>\n",
              "      <td>2</td>\n",
              "      <td>1</td>\n",
              "      <td>57</td>\n",
              "      <td>0</td>\n",
              "      <td>0</td>\n",
              "      <td>0</td>\n",
              "      <td>0</td>\n",
              "      <td>0</td>\n",
              "      <td>0</td>\n",
              "      <td>8617</td>\n",
              "      <td>5670</td>\n",
              "      <td>35835</td>\n",
              "      <td>20940</td>\n",
              "      <td>19146</td>\n",
              "      <td>19131</td>\n",
              "      <td>2000</td>\n",
              "      <td>36681</td>\n",
              "      <td>10000</td>\n",
              "      <td>9000</td>\n",
              "      <td>689</td>\n",
              "      <td>679</td>\n",
              "      <td>0</td>\n",
              "    </tr>\n",
              "    <tr>\n",
              "      <th>6</th>\n",
              "      <td>50000</td>\n",
              "      <td>1</td>\n",
              "      <td>1</td>\n",
              "      <td>2</td>\n",
              "      <td>37</td>\n",
              "      <td>0</td>\n",
              "      <td>0</td>\n",
              "      <td>0</td>\n",
              "      <td>0</td>\n",
              "      <td>0</td>\n",
              "      <td>0</td>\n",
              "      <td>64400</td>\n",
              "      <td>57069</td>\n",
              "      <td>57608</td>\n",
              "      <td>19394</td>\n",
              "      <td>19619</td>\n",
              "      <td>20024</td>\n",
              "      <td>2500</td>\n",
              "      <td>1815</td>\n",
              "      <td>657</td>\n",
              "      <td>1000</td>\n",
              "      <td>1000</td>\n",
              "      <td>800</td>\n",
              "      <td>0</td>\n",
              "    </tr>\n",
              "    <tr>\n",
              "      <th>7</th>\n",
              "      <td>500000</td>\n",
              "      <td>1</td>\n",
              "      <td>1</td>\n",
              "      <td>2</td>\n",
              "      <td>29</td>\n",
              "      <td>0</td>\n",
              "      <td>0</td>\n",
              "      <td>0</td>\n",
              "      <td>0</td>\n",
              "      <td>0</td>\n",
              "      <td>0</td>\n",
              "      <td>367965</td>\n",
              "      <td>412023</td>\n",
              "      <td>445007</td>\n",
              "      <td>542653</td>\n",
              "      <td>483003</td>\n",
              "      <td>473944</td>\n",
              "      <td>55000</td>\n",
              "      <td>40000</td>\n",
              "      <td>38000</td>\n",
              "      <td>20239</td>\n",
              "      <td>13750</td>\n",
              "      <td>13770</td>\n",
              "      <td>0</td>\n",
              "    </tr>\n",
              "    <tr>\n",
              "      <th>8</th>\n",
              "      <td>100000</td>\n",
              "      <td>2</td>\n",
              "      <td>2</td>\n",
              "      <td>2</td>\n",
              "      <td>23</td>\n",
              "      <td>0</td>\n",
              "      <td>0</td>\n",
              "      <td>0</td>\n",
              "      <td>0</td>\n",
              "      <td>0</td>\n",
              "      <td>0</td>\n",
              "      <td>11876</td>\n",
              "      <td>380</td>\n",
              "      <td>601</td>\n",
              "      <td>221</td>\n",
              "      <td>-159</td>\n",
              "      <td>567</td>\n",
              "      <td>380</td>\n",
              "      <td>601</td>\n",
              "      <td>0</td>\n",
              "      <td>581</td>\n",
              "      <td>1687</td>\n",
              "      <td>1542</td>\n",
              "      <td>0</td>\n",
              "    </tr>\n",
              "    <tr>\n",
              "      <th>9</th>\n",
              "      <td>140000</td>\n",
              "      <td>2</td>\n",
              "      <td>3</td>\n",
              "      <td>1</td>\n",
              "      <td>28</td>\n",
              "      <td>0</td>\n",
              "      <td>0</td>\n",
              "      <td>2</td>\n",
              "      <td>0</td>\n",
              "      <td>0</td>\n",
              "      <td>0</td>\n",
              "      <td>11285</td>\n",
              "      <td>14096</td>\n",
              "      <td>12108</td>\n",
              "      <td>12211</td>\n",
              "      <td>11793</td>\n",
              "      <td>3719</td>\n",
              "      <td>3329</td>\n",
              "      <td>0</td>\n",
              "      <td>432</td>\n",
              "      <td>1000</td>\n",
              "      <td>1000</td>\n",
              "      <td>1000</td>\n",
              "      <td>0</td>\n",
              "    </tr>\n",
              "    <tr>\n",
              "      <th>10</th>\n",
              "      <td>20000</td>\n",
              "      <td>1</td>\n",
              "      <td>3</td>\n",
              "      <td>2</td>\n",
              "      <td>35</td>\n",
              "      <td>0</td>\n",
              "      <td>0</td>\n",
              "      <td>0</td>\n",
              "      <td>0</td>\n",
              "      <td>0</td>\n",
              "      <td>0</td>\n",
              "      <td>0</td>\n",
              "      <td>0</td>\n",
              "      <td>0</td>\n",
              "      <td>0</td>\n",
              "      <td>13007</td>\n",
              "      <td>13912</td>\n",
              "      <td>0</td>\n",
              "      <td>0</td>\n",
              "      <td>0</td>\n",
              "      <td>13007</td>\n",
              "      <td>1122</td>\n",
              "      <td>0</td>\n",
              "      <td>0</td>\n",
              "    </tr>\n",
              "  </tbody>\n",
              "</table>\n",
              "</div>"
            ],
            "text/plain": [
              "    LIMIT_BAL  SEX  EDUCATION  MARRIAGE  ...  PAY_AMT4  PAY_AMT5  PAY_AMT6  default\n",
              "ID                                       ...                                       \n",
              "1       20000    2          2         1  ...         0         0         0        1\n",
              "2      120000    2          2         2  ...      1000         0      2000        1\n",
              "3       90000    2          2         2  ...      1000      1000      5000        0\n",
              "4       50000    2          2         1  ...      1100      1069      1000        0\n",
              "5       50000    1          2         1  ...      9000       689       679        0\n",
              "6       50000    1          1         2  ...      1000      1000       800        0\n",
              "7      500000    1          1         2  ...     20239     13750     13770        0\n",
              "8      100000    2          2         2  ...       581      1687      1542        0\n",
              "9      140000    2          3         1  ...      1000      1000      1000        0\n",
              "10      20000    1          3         2  ...     13007      1122         0        0\n",
              "\n",
              "[10 rows x 24 columns]"
            ]
          },
          "metadata": {
            "tags": []
          },
          "execution_count": 12
        }
      ]
    },
    {
      "cell_type": "code",
      "metadata": {
        "id": "-mvHXBoHUVfi",
        "colab_type": "code",
        "outputId": "fb0c62f9-c422-4b87-cd6b-e2c2db131075",
        "colab": {
          "base_uri": "https://localhost:8080/"
        }
      },
      "source": [
        "df.info()"
      ],
      "execution_count": 0,
      "outputs": [
        {
          "output_type": "stream",
          "text": [
            "<class 'pandas.core.frame.DataFrame'>\n",
            "Int64Index: 30000 entries, 1 to 30000\n",
            "Data columns (total 24 columns):\n",
            " #   Column     Non-Null Count  Dtype\n",
            "---  ------     --------------  -----\n",
            " 0   LIMIT_BAL  30000 non-null  int64\n",
            " 1   SEX        30000 non-null  int64\n",
            " 2   EDUCATION  30000 non-null  int64\n",
            " 3   MARRIAGE   30000 non-null  int64\n",
            " 4   AGE        30000 non-null  int64\n",
            " 5   PAY_1      30000 non-null  int64\n",
            " 6   PAY_2      30000 non-null  int64\n",
            " 7   PAY_3      30000 non-null  int64\n",
            " 8   PAY_4      30000 non-null  int64\n",
            " 9   PAY_5      30000 non-null  int64\n",
            " 10  PAY_6      30000 non-null  int64\n",
            " 11  BILL_AMT1  30000 non-null  int64\n",
            " 12  BILL_AMT2  30000 non-null  int64\n",
            " 13  BILL_AMT3  30000 non-null  int64\n",
            " 14  BILL_AMT4  30000 non-null  int64\n",
            " 15  BILL_AMT5  30000 non-null  int64\n",
            " 16  BILL_AMT6  30000 non-null  int64\n",
            " 17  PAY_AMT1   30000 non-null  int64\n",
            " 18  PAY_AMT2   30000 non-null  int64\n",
            " 19  PAY_AMT3   30000 non-null  int64\n",
            " 20  PAY_AMT4   30000 non-null  int64\n",
            " 21  PAY_AMT5   30000 non-null  int64\n",
            " 22  PAY_AMT6   30000 non-null  int64\n",
            " 23  default    30000 non-null  int64\n",
            "dtypes: int64(24)\n",
            "memory usage: 5.7 MB\n"
          ],
          "name": "stdout"
        }
      ]
    },
    {
      "cell_type": "markdown",
      "metadata": {
        "id": "AuoC2_H9273E",
        "colab_type": "text"
      },
      "source": [
        "### Correlation Matrix"
      ]
    },
    {
      "cell_type": "code",
      "metadata": {
        "id": "zVXtMGaliK5w",
        "colab_type": "code",
        "outputId": "6e066c4a-bd5f-4c9a-d6e2-8f5cefa0f031",
        "colab": {
          "base_uri": "https://localhost:8080/"
        }
      },
      "source": [
        "corr_matrix = df.corr()\n",
        "corr_matrix['default'].sort_values(ascending=False)"
      ],
      "execution_count": 0,
      "outputs": [
        {
          "output_type": "execute_result",
          "data": {
            "text/plain": [
              "default      1.000000\n",
              "PAY_1        0.396019\n",
              "PAY_2        0.327093\n",
              "PAY_3        0.286999\n",
              "PAY_4        0.269055\n",
              "PAY_5        0.260850\n",
              "PAY_6        0.244437\n",
              "EDUCATION    0.033842\n",
              "AGE          0.013890\n",
              "BILL_AMT6   -0.005372\n",
              "BILL_AMT5   -0.006760\n",
              "BILL_AMT4   -0.010156\n",
              "BILL_AMT3   -0.014076\n",
              "BILL_AMT2   -0.014193\n",
              "BILL_AMT1   -0.019644\n",
              "MARRIAGE    -0.027575\n",
              "SEX         -0.039961\n",
              "PAY_AMT6    -0.053183\n",
              "PAY_AMT5    -0.055124\n",
              "PAY_AMT3    -0.056250\n",
              "PAY_AMT4    -0.056827\n",
              "PAY_AMT2    -0.058579\n",
              "PAY_AMT1    -0.072929\n",
              "LIMIT_BAL   -0.153520\n",
              "Name: default, dtype: float64"
            ]
          },
          "metadata": {
            "tags": []
          },
          "execution_count": 14
        }
      ]
    },
    {
      "cell_type": "markdown",
      "metadata": {
        "id": "-ekvWAXM3RAT",
        "colab_type": "text"
      },
      "source": [
        "Heatmap of the correlation matrix:"
      ]
    },
    {
      "cell_type": "code",
      "metadata": {
        "id": "A0XeFsvk3QkI",
        "colab_type": "code",
        "outputId": "5854127e-efca-48b1-cf1a-cbafc0769256",
        "colab": {
          "base_uri": "https://localhost:8080/"
        }
      },
      "source": [
        "mask = np.triu(np.ones_like(corr_matrix, dtype=np.bool))\n",
        "f, ax = plt.subplots(figsize=(11, 9))\n",
        "cmap = sns.diverging_palette(220, 10, as_cmap=True)\n",
        "sns.heatmap(corr_matrix, mask=mask, cmap=cmap, vmax=.3, center=0,\n",
        "            square=True, linewidths=.5, cbar_kws={\"shrink\": .5})"
      ],
      "execution_count": 0,
      "outputs": [
        {
          "output_type": "execute_result",
          "data": {
            "text/plain": [
              "<matplotlib.axes._subplots.AxesSubplot at 0x7f82b84fc0b8>"
            ]
          },
          "metadata": {
            "tags": []
          },
          "execution_count": 15
        },
        {
          "output_type": "display_data",
          "data": {
            "image/png": "[encoded data removed]",
            "text/plain": [
              "<Figure size 792x648 with 2 Axes>"
            ]
          },
          "metadata": {
            "tags": [],
            "needs_background": "light"
          }
        }
      ]
    },
    {
      "cell_type": "markdown",
      "metadata": {
        "id": "8a4M6OwDg3Wl",
        "colab_type": "text"
      },
      "source": [
        "## Feature Exploration"
      ]
    },
    {
      "cell_type": "markdown",
      "metadata": {
        "id": "mODW7-KBiv_a",
        "colab_type": "text"
      },
      "source": [
        "### Description of categorical features:"
      ]
    },
    {
      "cell_type": "markdown",
      "metadata": {
        "id": "UTRClo5zizM7",
        "colab_type": "text"
      },
      "source": [
        "Here, I have to count the values of every categorical variabel (SEX, AGE, EDUCATION and MARRIAGE)."
      ]
    },
    {
      "cell_type": "markdown",
      "metadata": {
        "id": "PtMh1uZO1i_c",
        "colab_type": "text"
      },
      "source": [
        "#### Gender"
      ]
    },
    {
      "cell_type": "markdown",
      "metadata": {
        "id": "mWGPbAQRFiQ0",
        "colab_type": "text"
      },
      "source": [
        "* 1 corresponds to MEN.\n",
        "* 2 corresponds to WOMEN."
      ]
    },
    {
      "cell_type": "markdown",
      "metadata": {
        "id": "O2aDdnrRDnX0",
        "colab_type": "text"
      },
      "source": [
        "Value counts:"
      ]
    },
    {
      "cell_type": "code",
      "metadata": {
        "id": "mTUM2ivgDpGG",
        "colab_type": "code",
        "outputId": "f2efdc1f-66f2-4f6d-9c09-413c0558a4dd",
        "colab": {
          "base_uri": "https://localhost:8080/"
        }
      },
      "source": [
        "print(df.SEX.value_counts(), '\\n')\n",
        "print('Women are the', (sum(df.SEX == 2) * 100 / 30000), '% of the samples.')"
      ],
      "execution_count": 0,
      "outputs": [
        {
          "output_type": "stream",
          "text": [
            "2    18112\n",
            "1    11888\n",
            "Name: SEX, dtype: int64 \n",
            "\n",
            "Women are the 60.373333333333335 % of the samples.\n"
          ],
          "name": "stdout"
        }
      ]
    },
    {
      "cell_type": "markdown",
      "metadata": {
        "id": "FrlR3UtOzn-m",
        "colab_type": "text"
      },
      "source": [
        "Default probabilities according to the gender of the clients:"
      ]
    },
    {
      "cell_type": "code",
      "metadata": {
        "id": "WPf3J1VjzaVc",
        "colab_type": "code",
        "outputId": "ced02e36-a489-4a72-a287-fcc19b09f448",
        "colab": {
          "base_uri": "https://localhost:8080/"
        }
      },
      "source": [
        "gender = df.groupby(['SEX', 'default']).size().unstack(1)\n",
        "gender.plot(kind='bar', stacked = True)"
      ],
      "execution_count": 0,
      "outputs": [
        {
          "output_type": "execute_result",
          "data": {
            "text/plain": [
              "<matplotlib.axes._subplots.AxesSubplot at 0x7f82bb1c50b8>"
            ]
          },
          "metadata": {
            "tags": []
          },
          "execution_count": 17
        },
        {
          "output_type": "display_data",
          "data": {
            "image/png": "[encoded data removed]",
            "text/plain": [
              "<Figure size 432x288 with 1 Axes>"
            ]
          },
          "metadata": {
            "tags": [],
            "needs_background": "light"
          }
        }
      ]
    },
    {
      "cell_type": "code",
      "metadata": {
        "id": "fBs2wgG00Vpk",
        "colab_type": "code",
        "outputId": "624d4ac4-35ac-4204-a68d-92ef25c06cd3",
        "colab": {
          "base_uri": "https://localhost:8080/"
        }
      },
      "source": [
        "gender['probability'] = (gender[1]/(gender[0] + gender[1]))\n",
        "gender"
      ],
      "execution_count": 0,
      "outputs": [
        {
          "output_type": "execute_result",
          "data": {
            "text/html": [
              "<div>\n",
              "<style scoped>\n",
              "    .dataframe tbody tr th:only-of-type {\n",
              "        vertical-align: middle;\n",
              "    }\n",
              "\n",
              "    .dataframe tbody tr th {\n",
              "        vertical-align: top;\n",
              "    }\n",
              "\n",
              "    .dataframe thead th {\n",
              "        text-align: right;\n",
              "    }\n",
              "</style>\n",
              "<table border=\"1\" class=\"dataframe\">\n",
              "  <thead>\n",
              "    <tr style=\"text-align: right;\">\n",
              "      <th>default</th>\n",
              "      <th>0</th>\n",
              "      <th>1</th>\n",
              "      <th>probability</th>\n",
              "    </tr>\n",
              "    <tr>\n",
              "      <th>SEX</th>\n",
              "      <th></th>\n",
              "      <th></th>\n",
              "      <th></th>\n",
              "    </tr>\n",
              "  </thead>\n",
              "  <tbody>\n",
              "    <tr>\n",
              "      <th>1</th>\n",
              "      <td>9015</td>\n",
              "      <td>2873</td>\n",
              "      <td>0.241672</td>\n",
              "    </tr>\n",
              "    <tr>\n",
              "      <th>2</th>\n",
              "      <td>14349</td>\n",
              "      <td>3763</td>\n",
              "      <td>0.207763</td>\n",
              "    </tr>\n",
              "  </tbody>\n",
              "</table>\n",
              "</div>"
            ],
            "text/plain": [
              "default      0     1  probability\n",
              "SEX                              \n",
              "1         9015  2873     0.241672\n",
              "2        14349  3763     0.207763"
            ]
          },
          "metadata": {
            "tags": []
          },
          "execution_count": 18
        }
      ]
    },
    {
      "cell_type": "markdown",
      "metadata": {
        "id": "-ZpwzAk42grJ",
        "colab_type": "text"
      },
      "source": [
        "We can see that men are 20 % more likely to default than women."
      ]
    },
    {
      "cell_type": "markdown",
      "metadata": {
        "id": "KDphFqLrJ6gf",
        "colab_type": "text"
      },
      "source": [
        "\n",
        "\n",
        "---\n",
        "\n"
      ]
    },
    {
      "cell_type": "markdown",
      "metadata": {
        "id": "_ZmC8WmT1m6C",
        "colab_type": "text"
      },
      "source": [
        "#### Education"
      ]
    },
    {
      "cell_type": "markdown",
      "metadata": {
        "id": "oaWEC7dNGRAr",
        "colab_type": "text"
      },
      "source": [
        "* 1 corresponds to school graduated.\n",
        "* 2 corresponds to university graduated.\n",
        "* 3 corresponds to high school graduated.\n",
        "* 4 corresponds to others."
      ]
    },
    {
      "cell_type": "markdown",
      "metadata": {
        "id": "0sQqSDarF1WI",
        "colab_type": "text"
      },
      "source": [
        "Value counts:"
      ]
    },
    {
      "cell_type": "code",
      "metadata": {
        "id": "rIA-GrbzF4aA",
        "colab_type": "code",
        "outputId": "10072f7b-5659-41f6-fe9a-92acf58081a2",
        "colab": {
          "base_uri": "https://localhost:8080/"
        }
      },
      "source": [
        "print(df.EDUCATION.value_counts(), '\\n')\n",
        "print('The', (sum(df.EDUCATION == 1) * 100 / 30000), \n",
        "      '% of the clients are school graduates.')\n",
        "print('The', (sum(df.EDUCATION == 2) * 100 / 30000), \n",
        "      '% of the clients are university graduates.')\n",
        "print('The', (sum(df.EDUCATION == 3) * 100 / 30000), \n",
        "      '% of the clients are high school graduates.')\n",
        "print('The', (sum(df.EDUCATION == 4) * 100 / 30000), \n",
        "      '% of the clients have other education level.')"
      ],
      "execution_count": 0,
      "outputs": [
        {
          "output_type": "stream",
          "text": [
            "2    14030\n",
            "1    10585\n",
            "3     4917\n",
            "4      468\n",
            "Name: EDUCATION, dtype: int64 \n",
            "\n",
            "The 35.28333333333333 % of the clients are school graduates.\n",
            "The 46.766666666666666 % of the clients are university graduates.\n",
            "The 16.39 % of the clients are high school graduates.\n",
            "The 1.56 % of the clients have other education level.\n"
          ],
          "name": "stdout"
        }
      ]
    },
    {
      "cell_type": "markdown",
      "metadata": {
        "id": "jNVuwMhTF2gv",
        "colab_type": "text"
      },
      "source": [
        "Default probabilities according to education of the clients:"
      ]
    },
    {
      "cell_type": "code",
      "metadata": {
        "id": "nhTZU2PC0DUa",
        "colab_type": "code",
        "outputId": "3e56b2dd-140f-4c10-ca49-2bfb7ceac670",
        "colab": {
          "base_uri": "https://localhost:8080/"
        }
      },
      "source": [
        "default_by_education = df.groupby(['EDUCATION', 'default']).size().unstack(1)\n",
        "default_by_education.plot(kind='bar', stacked = True)"
      ],
      "execution_count": 0,
      "outputs": [
        {
          "output_type": "execute_result",
          "data": {
            "text/plain": [
              "<matplotlib.axes._subplots.AxesSubplot at 0x7f82bb2ce0b8>"
            ]
          },
          "metadata": {
            "tags": []
          },
          "execution_count": 20
        },
        {
          "output_type": "display_data",
          "data": {
            "image/png": "[encoded data removed]",
            "text/plain": [
              "<Figure size 432x288 with 1 Axes>"
            ]
          },
          "metadata": {
            "tags": [],
            "needs_background": "light"
          }
        }
      ]
    },
    {
      "cell_type": "code",
      "metadata": {
        "id": "NwxRl86z0-Nz",
        "colab_type": "code",
        "outputId": "dcbefe51-0f08-4781-ea10-7ca807a45db0",
        "colab": {
          "base_uri": "https://localhost:8080/"
        }
      },
      "source": [
        "default_by_education['probability'] = (default_by_education[1]/\n",
        "                                      (default_by_education[0] +\n",
        "                                       default_by_education[1]))\n",
        "default_by_education"
      ],
      "execution_count": 0,
      "outputs": [
        {
          "output_type": "execute_result",
          "data": {
            "text/html": [
              "<div>\n",
              "<style scoped>\n",
              "    .dataframe tbody tr th:only-of-type {\n",
              "        vertical-align: middle;\n",
              "    }\n",
              "\n",
              "    .dataframe tbody tr th {\n",
              "        vertical-align: top;\n",
              "    }\n",
              "\n",
              "    .dataframe thead th {\n",
              "        text-align: right;\n",
              "    }\n",
              "</style>\n",
              "<table border=\"1\" class=\"dataframe\">\n",
              "  <thead>\n",
              "    <tr style=\"text-align: right;\">\n",
              "      <th>default</th>\n",
              "      <th>0</th>\n",
              "      <th>1</th>\n",
              "      <th>probability</th>\n",
              "    </tr>\n",
              "    <tr>\n",
              "      <th>EDUCATION</th>\n",
              "      <th></th>\n",
              "      <th></th>\n",
              "      <th></th>\n",
              "    </tr>\n",
              "  </thead>\n",
              "  <tbody>\n",
              "    <tr>\n",
              "      <th>1</th>\n",
              "      <td>8549</td>\n",
              "      <td>2036</td>\n",
              "      <td>0.192348</td>\n",
              "    </tr>\n",
              "    <tr>\n",
              "      <th>2</th>\n",
              "      <td>10700</td>\n",
              "      <td>3330</td>\n",
              "      <td>0.237349</td>\n",
              "    </tr>\n",
              "    <tr>\n",
              "      <th>3</th>\n",
              "      <td>3680</td>\n",
              "      <td>1237</td>\n",
              "      <td>0.251576</td>\n",
              "    </tr>\n",
              "    <tr>\n",
              "      <th>4</th>\n",
              "      <td>435</td>\n",
              "      <td>33</td>\n",
              "      <td>0.070513</td>\n",
              "    </tr>\n",
              "  </tbody>\n",
              "</table>\n",
              "</div>"
            ],
            "text/plain": [
              "default        0     1  probability\n",
              "EDUCATION                          \n",
              "1           8549  2036     0.192348\n",
              "2          10700  3330     0.237349\n",
              "3           3680  1237     0.251576\n",
              "4            435    33     0.070513"
            ]
          },
          "metadata": {
            "tags": []
          },
          "execution_count": 21
        }
      ]
    },
    {
      "cell_type": "markdown",
      "metadata": {
        "id": "6OWLrsNQJVWf",
        "colab_type": "text"
      },
      "source": [
        "Surprisingly, we can see that clients that only completed high school are more likely to default than university graduates."
      ]
    },
    {
      "cell_type": "markdown",
      "metadata": {
        "id": "dz6KnbLqJ4Gi",
        "colab_type": "text"
      },
      "source": [
        "\n",
        "\n",
        "---\n",
        "\n"
      ]
    },
    {
      "cell_type": "markdown",
      "metadata": {
        "id": "k6wQzcfo1pJh",
        "colab_type": "text"
      },
      "source": [
        "#### Marriage"
      ]
    },
    {
      "cell_type": "markdown",
      "metadata": {
        "id": "9b4VdLC4HoP2",
        "colab_type": "text"
      },
      "source": [
        "\n",
        "* 1 corresponds to married clients.\n",
        "* 2 corresponds to single clients.\n",
        "* 3 corresponds to clients with other marital status."
      ]
    },
    {
      "cell_type": "markdown",
      "metadata": {
        "id": "QlRQqvSXHmmW",
        "colab_type": "text"
      },
      "source": [
        "Value counts:"
      ]
    },
    {
      "cell_type": "code",
      "metadata": {
        "id": "fsRaX9C8Hl2E",
        "colab_type": "code",
        "outputId": "a471f89a-cf42-4aab-a3d6-465c26affff5",
        "colab": {
          "base_uri": "https://localhost:8080/"
        }
      },
      "source": [
        "print(df.MARRIAGE.value_counts(), '\\n')\n",
        "print('The', (sum(df.MARRIAGE == 1) * 100 / 30000), \n",
        "      '% of the clients are married.')\n",
        "print('The', (sum(df.MARRIAGE == 2) * 100 / 30000), \n",
        "      '% of the clients are single.')\n",
        "print('The', (sum(df.MARRIAGE == 3) * 100 / 30000), \n",
        "      '% of the clients have other marital status.')"
      ],
      "execution_count": 0,
      "outputs": [
        {
          "output_type": "stream",
          "text": [
            "2    15964\n",
            "1    13659\n",
            "3      377\n",
            "Name: MARRIAGE, dtype: int64 \n",
            "\n",
            "The 45.53 % of the clients are married.\n",
            "The 53.21333333333333 % of the clients are single.\n",
            "The 1.2566666666666666 % of the clients have other marital status.\n"
          ],
          "name": "stdout"
        }
      ]
    },
    {
      "cell_type": "markdown",
      "metadata": {
        "id": "L_wFMBntHbkR",
        "colab_type": "text"
      },
      "source": [
        "Default probabilities according to the marital status of the clients:"
      ]
    },
    {
      "cell_type": "code",
      "metadata": {
        "id": "7uJQfYEd1Skj",
        "colab_type": "code",
        "outputId": "2f2bfed4-90a1-484d-cf70-4150088e0d1b",
        "colab": {
          "base_uri": "https://localhost:8080/"
        }
      },
      "source": [
        "default_marriage = df.groupby(['MARRIAGE', 'default']).size().unstack(1)\n",
        "default_marriage.plot(kind='bar', stacked = True)"
      ],
      "execution_count": 0,
      "outputs": [
        {
          "output_type": "execute_result",
          "data": {
            "text/plain": [
              "<matplotlib.axes._subplots.AxesSubplot at 0x7f82bb265f98>"
            ]
          },
          "metadata": {
            "tags": []
          },
          "execution_count": 23
        },
        {
          "output_type": "display_data",
          "data": {
            "image/png": "[encoded data removed]",
            "text/plain": [
              "<Figure size 432x288 with 1 Axes>"
            ]
          },
          "metadata": {
            "tags": [],
            "needs_background": "light"
          }
        }
      ]
    },
    {
      "cell_type": "code",
      "metadata": {
        "id": "fVpjQzGZ1VLW",
        "colab_type": "code",
        "outputId": "7e72134d-e108-4e5d-8fe9-4f13b6a21137",
        "colab": {
          "base_uri": "https://localhost:8080/"
        }
      },
      "source": [
        "default_marriage['probability'] = (default_marriage[1]/\n",
        "                                  (default_marriage[0] + \n",
        "                                   default_marriage[1]))\n",
        "default_marriage"
      ],
      "execution_count": 0,
      "outputs": [
        {
          "output_type": "execute_result",
          "data": {
            "text/html": [
              "<div>\n",
              "<style scoped>\n",
              "    .dataframe tbody tr th:only-of-type {\n",
              "        vertical-align: middle;\n",
              "    }\n",
              "\n",
              "    .dataframe tbody tr th {\n",
              "        vertical-align: top;\n",
              "    }\n",
              "\n",
              "    .dataframe thead th {\n",
              "        text-align: right;\n",
              "    }\n",
              "</style>\n",
              "<table border=\"1\" class=\"dataframe\">\n",
              "  <thead>\n",
              "    <tr style=\"text-align: right;\">\n",
              "      <th>default</th>\n",
              "      <th>0</th>\n",
              "      <th>1</th>\n",
              "      <th>probability</th>\n",
              "    </tr>\n",
              "    <tr>\n",
              "      <th>MARRIAGE</th>\n",
              "      <th></th>\n",
              "      <th></th>\n",
              "      <th></th>\n",
              "    </tr>\n",
              "  </thead>\n",
              "  <tbody>\n",
              "    <tr>\n",
              "      <th>1</th>\n",
              "      <td>10453</td>\n",
              "      <td>3206</td>\n",
              "      <td>0.234717</td>\n",
              "    </tr>\n",
              "    <tr>\n",
              "      <th>2</th>\n",
              "      <td>12623</td>\n",
              "      <td>3341</td>\n",
              "      <td>0.209283</td>\n",
              "    </tr>\n",
              "    <tr>\n",
              "      <th>3</th>\n",
              "      <td>288</td>\n",
              "      <td>89</td>\n",
              "      <td>0.236074</td>\n",
              "    </tr>\n",
              "  </tbody>\n",
              "</table>\n",
              "</div>"
            ],
            "text/plain": [
              "default       0     1  probability\n",
              "MARRIAGE                          \n",
              "1         10453  3206     0.234717\n",
              "2         12623  3341     0.209283\n",
              "3           288    89     0.236074"
            ]
          },
          "metadata": {
            "tags": []
          },
          "execution_count": 24
        }
      ]
    },
    {
      "cell_type": "markdown",
      "metadata": {
        "id": "84jKUOOvJH3-",
        "colab_type": "text"
      },
      "source": [
        "We can see that single clients have less probabilities of default than clients that are married or have other marital status."
      ]
    },
    {
      "cell_type": "markdown",
      "metadata": {
        "id": "luIantVqJ_Gi",
        "colab_type": "text"
      },
      "source": [
        "\n",
        "\n",
        "---\n",
        "\n"
      ]
    },
    {
      "cell_type": "markdown",
      "metadata": {
        "id": "nxDiuuHQg7D7",
        "colab_type": "text"
      },
      "source": [
        "### Numerical features"
      ]
    },
    {
      "cell_type": "markdown",
      "metadata": {
        "id": "IkGs0tH7QdvH",
        "colab_type": "text"
      },
      "source": [
        "#### Age"
      ]
    },
    {
      "cell_type": "code",
      "metadata": {
        "id": "iNk-o5pRQffI",
        "colab_type": "code",
        "outputId": "db696995-fe5e-43bf-bdb9-ab298ff43ed5",
        "colab": {
          "base_uri": "https://localhost:8080/",
          "height": 621
        }
      },
      "source": [
        "class_0 = df.loc[df['default'] == 0][\"AGE\"]\n",
        "class_1 = df.loc[df['default'] == 1][\"AGE\"]\n",
        "plt.figure(figsize = (20,10))\n",
        "plt.title('Distribution of Default Clients According to their age')\n",
        "sns.set_color_codes(\"pastel\")\n",
        "sns.distplot(class_1, kde=True, bins=200, color=\"red\", label='No Default')\n",
        "sns.distplot(class_0, kde=True, bins=200, color=\"blue\", label='Default')\n",
        "plt.legend()\n",
        "plt.show()"
      ],
      "execution_count": 0,
      "outputs": [
        {
          "output_type": "display_data",
          "data": {
            "image/png": "[encoded data removed]",
            "text/plain": [
              "<Figure size 1440x720 with 1 Axes>"
            ]
          },
          "metadata": {
            "tags": [],
            "needs_background": "light"
          }
        }
      ]
    },
    {
      "cell_type": "markdown",
      "metadata": {
        "id": "VWgcVsQk0uk5",
        "colab_type": "text"
      },
      "source": [
        "#### Billing Amount"
      ]
    },
    {
      "cell_type": "code",
      "metadata": {
        "id": "7DSlNMfZg5az",
        "colab_type": "code",
        "outputId": "ce45918a-3b2e-4af6-c796-23417de7f82d",
        "colab": {
          "base_uri": "https://localhost:8080/"
        }
      },
      "source": [
        "bills = df[['BILL_AMT1', 'BILL_AMT2', 'BILL_AMT3',\n",
        "            'BILL_AMT4', 'BILL_AMT5', 'BILL_AMT6']]\n",
        "\n",
        "bills.hist(bins=20, figsize=(10,10))\n",
        "plt.show()"
      ],
      "execution_count": 0,
      "outputs": [
        {
          "output_type": "display_data",
          "data": {
            "image/png": "[encoded data removed]",
            "text/plain": [
              "<Figure size 720x720 with 6 Axes>"
            ]
          },
          "metadata": {
            "tags": [],
            "needs_background": "light"
          }
        }
      ]
    },
    {
      "cell_type": "markdown",
      "metadata": {
        "id": "lZJJdPI-01xf",
        "colab_type": "text"
      },
      "source": [
        "#### Payment Amount"
      ]
    },
    {
      "cell_type": "code",
      "metadata": {
        "id": "UQ-wg6HyhYvi",
        "colab_type": "code",
        "outputId": "74fd8b23-8dab-491c-8981-805760c7ca01",
        "colab": {
          "base_uri": "https://localhost:8080/"
        }
      },
      "source": [
        "payments = df[['PAY_AMT1', 'PAY_AMT2', 'PAY_AMT3',\n",
        "               'PAY_AMT4', 'PAY_AMT5', 'PAY_AMT6']]\n",
        "payments.hist(bins=20, figsize=(10,10))\n",
        "plt.show()"
      ],
      "execution_count": 0,
      "outputs": [
        {
          "output_type": "display_data",
          "data": {
            "image/png": "[encoded data removed]",
            "text/plain": [
              "<Figure size 720x720 with 6 Axes>"
            ]
          },
          "metadata": {
            "tags": [],
            "needs_background": "light"
          }
        }
      ]
    },
    {
      "cell_type": "markdown",
      "metadata": {
        "id": "cP1KZWkn04x2",
        "colab_type": "text"
      },
      "source": [
        "#### Months Owed"
      ]
    },
    {
      "cell_type": "code",
      "metadata": {
        "id": "L6SA-ZfnhsVt",
        "colab_type": "code",
        "outputId": "54cb56bc-58e8-42aa-f231-4926e0afff04",
        "colab": {
          "base_uri": "https://localhost:8080/"
        }
      },
      "source": [
        "late = df[['PAY_1', 'PAY_2', 'PAY_3',\n",
        "           'PAY_4', 'PAY_5', 'PAY_6']]\n",
        "\n",
        "late.hist(bins=20, figsize=(10,10))\n",
        "plt.show()"
      ],
      "execution_count": 0,
      "outputs": [
        {
          "output_type": "display_data",
          "data": {
            "image/png": "[encoded data removed]",
            "text/plain": [
              "<Figure size 720x720 with 6 Axes>"
            ]
          },
          "metadata": {
            "tags": [],
            "needs_background": "light"
          }
        }
      ]
    },
    {
      "cell_type": "markdown",
      "metadata": {
        "id": "hbBeqB_I1EQn",
        "colab_type": "text"
      },
      "source": [
        "#### Default According to Credit Limit"
      ]
    },
    {
      "cell_type": "code",
      "metadata": {
        "id": "7CxOrupf2aJ-",
        "colab_type": "code",
        "outputId": "0aa2fa68-1c2f-45d4-a8ae-bf0b4b2d67c1",
        "colab": {
          "base_uri": "https://localhost:8080/",
          "height": 622
        }
      },
      "source": [
        "class_0 = df.loc[df['default'] == 0][\"LIMIT_BAL\"]\n",
        "class_1 = df.loc[df['default'] == 1][\"LIMIT_BAL\"]\n",
        "plt.figure(figsize = (20,10))\n",
        "plt.title('Distribution of Default Clients According to Credit Limit')\n",
        "sns.set_color_codes(\"pastel\")\n",
        "sns.distplot(class_1, kde=True, bins=200, color=\"red\", label='No Default')\n",
        "sns.distplot(class_0, kde=True, bins=200, color=\"blue\", label='Default')\n",
        "plt.legend()\n",
        "plt.show()"
      ],
      "execution_count": 0,
      "outputs": [
        {
          "output_type": "display_data",
          "data": {
            "image/png": "[encoded data removed]",
            "text/plain": [
              "<Figure size 1440x720 with 1 Axes>"
            ]
          },
          "metadata": {
            "tags": [],
            "needs_background": "light"
          }
        }
      ]
    },
    {
      "cell_type": "markdown",
      "metadata": {
        "id": "6g1BWNOWFkA6",
        "colab_type": "text"
      },
      "source": [
        "In this graph we can see that the proportion of defaults according to the credit limit starts to go up around the $10,000 limit (the bast majority is below this limit). Above that limit, more than the half of the clients end defaulting."
      ]
    },
    {
      "cell_type": "markdown",
      "metadata": {
        "id": "CVYhZGMWyBAn",
        "colab_type": "text"
      },
      "source": [
        "## Summary of the Exploratory Data Analysis"
      ]
    },
    {
      "cell_type": "markdown",
      "metadata": {
        "id": "-vKHo6DLyF1k",
        "colab_type": "text"
      },
      "source": [
        "* Male clients and those who only are high school graduates are more prone to default their credit card payments.\n",
        "* More than half of customers with a monthly limit of more than $ 10,000 ends up in default.\n",
        "* You might think that younger clients would be more likely to default, but the data shows that clients in their 30s are the most likely to default."
      ]
    },
    {
      "cell_type": "markdown",
      "metadata": {
        "id": "MOOYV1eNp2X4",
        "colab_type": "text"
      },
      "source": [
        "# Data Preprocessing"
      ]
    },
    {
      "cell_type": "markdown",
      "metadata": {
        "id": "wcP7_Ll2qgC1",
        "colab_type": "text"
      },
      "source": [
        "The preprocessing of the data is a very important step before pass it through algorithm. We need to adjust the features of our set so that the data representation is more suitable for these algorithms. For example, some machine learning algorithms, like Neural Networks and Support Vector Machines, are very sensitive to the scaling of the data."
      ]
    },
    {
      "cell_type": "markdown",
      "metadata": {
        "id": "F6hHUYn8Adoo",
        "colab_type": "text"
      },
      "source": [
        "### Age Bining"
      ]
    },
    {
      "cell_type": "markdown",
      "metadata": {
        "id": "wXNfS8AE_lLt",
        "colab_type": "text"
      },
      "source": [
        "Next, I'll bin the `age` feature so we have a good idea of to what age group every client belongs, but without having to deal with a lot of unique values."
      ]
    },
    {
      "cell_type": "code",
      "metadata": {
        "id": "uOtbH3du_n5D",
        "colab_type": "code",
        "outputId": "c025dd1e-ed84-4ca5-ce05-551ca8d50e06",
        "colab": {
          "base_uri": "https://localhost:8080/"
        }
      },
      "source": [
        "df['AGE_BIN'] = pd.qcut(df['AGE'], 5)\n",
        "df.AGE_BIN.value_counts()"
      ],
      "execution_count": 0,
      "outputs": [
        {
          "output_type": "execute_result",
          "data": {
            "text/plain": [
              "(31.0, 37.0]      6728\n",
              "(20.999, 27.0]    6604\n",
              "(43.0, 79.0]      5986\n",
              "(27.0, 31.0]      5626\n",
              "(37.0, 43.0]      5056\n",
              "Name: AGE_BIN, dtype: int64"
            ]
          },
          "metadata": {
            "tags": []
          },
          "execution_count": 29
        }
      ]
    },
    {
      "cell_type": "code",
      "metadata": {
        "id": "tVkKdULMAMnw",
        "colab_type": "code",
        "outputId": "8ac60de3-ae68-4318-e213-4161f176e9e1",
        "colab": {
          "base_uri": "https://localhost:8080/"
        }
      },
      "source": [
        "bins_names = [1, 2, 3, 4, 5]\n",
        "df['AGE_BIN'] = pd.qcut(df['AGE'], 5, labels=bins_names)\n",
        "df.AGE_BIN.hist()"
      ],
      "execution_count": 0,
      "outputs": [
        {
          "output_type": "execute_result",
          "data": {
            "text/plain": [
              "<matplotlib.axes._subplots.AxesSubplot at 0x7f82bb7de160>"
            ]
          },
          "metadata": {
            "tags": []
          },
          "execution_count": 30
        },
        {
          "output_type": "display_data",
          "data": {
            "image/png": "[encoded data removed]",
            "text/plain": [
              "<Figure size 432x288 with 1 Axes>"
            ]
          },
          "metadata": {
            "tags": [],
            "needs_background": "light"
          }
        }
      ]
    },
    {
      "cell_type": "markdown",
      "metadata": {
        "id": "Zi902JxQAkDB",
        "colab_type": "text"
      },
      "source": [
        "### Encoding Categorical Variables"
      ]
    },
    {
      "cell_type": "markdown",
      "metadata": {
        "id": "64DzbfCc9UYj",
        "colab_type": "text"
      },
      "source": [
        "I need to encode the categorical features (that in this case have a numerical value), because as they are categories they lack of order against each other."
      ]
    },
    {
      "cell_type": "code",
      "metadata": {
        "id": "PaKAjWKsE73J",
        "colab_type": "code",
        "outputId": "8ca836e8-953e-47ad-fe5b-15cbda3a5e22",
        "colab": {
          "base_uri": "https://localhost:8080/"
        }
      },
      "source": [
        "gender_dummies = pd.get_dummies(df.SEX, prefix='SEX')\n",
        "education_dummies = pd.get_dummies(df.EDUCATION, prefix='EDUCATION')\n",
        "marriage_dummies = pd.get_dummies(df.MARRIAGE, prefix='MARRIAGE')\n",
        "\n",
        "binned_df = df.join(gender_dummies).join(education_dummies).join(\n",
        "    marriage_dummies)\n",
        "\n",
        "binned_df = binned_df.drop(['SEX', 'EDUCATION', 'MARRIAGE'], axis=1)\n",
        "binned_df"
      ],
      "execution_count": 0,
      "outputs": [
        {
          "output_type": "execute_result",
          "data": {
            "text/html": [
              "<div>\n",
              "<style scoped>\n",
              "    .dataframe tbody tr th:only-of-type {\n",
              "        vertical-align: middle;\n",
              "    }\n",
              "\n",
              "    .dataframe tbody tr th {\n",
              "        vertical-align: top;\n",
              "    }\n",
              "\n",
              "    .dataframe thead th {\n",
              "        text-align: right;\n",
              "    }\n",
              "</style>\n",
              "<table border=\"1\" class=\"dataframe\">\n",
              "  <thead>\n",
              "    <tr style=\"text-align: right;\">\n",
              "      <th></th>\n",
              "      <th>LIMIT_BAL</th>\n",
              "      <th>AGE</th>\n",
              "      <th>PAY_1</th>\n",
              "      <th>PAY_2</th>\n",
              "      <th>PAY_3</th>\n",
              "      <th>PAY_4</th>\n",
              "      <th>PAY_5</th>\n",
              "      <th>PAY_6</th>\n",
              "      <th>BILL_AMT1</th>\n",
              "      <th>BILL_AMT2</th>\n",
              "      <th>BILL_AMT3</th>\n",
              "      <th>BILL_AMT4</th>\n",
              "      <th>BILL_AMT5</th>\n",
              "      <th>BILL_AMT6</th>\n",
              "      <th>PAY_AMT1</th>\n",
              "      <th>PAY_AMT2</th>\n",
              "      <th>PAY_AMT3</th>\n",
              "      <th>PAY_AMT4</th>\n",
              "      <th>PAY_AMT5</th>\n",
              "      <th>PAY_AMT6</th>\n",
              "      <th>default</th>\n",
              "      <th>AGE_BIN</th>\n",
              "      <th>SEX_1</th>\n",
              "      <th>SEX_2</th>\n",
              "      <th>EDUCATION_1</th>\n",
              "      <th>EDUCATION_2</th>\n",
              "      <th>EDUCATION_3</th>\n",
              "      <th>EDUCATION_4</th>\n",
              "      <th>MARRIAGE_1</th>\n",
              "      <th>MARRIAGE_2</th>\n",
              "      <th>MARRIAGE_3</th>\n",
              "    </tr>\n",
              "    <tr>\n",
              "      <th>ID</th>\n",
              "      <th></th>\n",
              "      <th></th>\n",
              "      <th></th>\n",
              "      <th></th>\n",
              "      <th></th>\n",
              "      <th></th>\n",
              "      <th></th>\n",
              "      <th></th>\n",
              "      <th></th>\n",
              "      <th></th>\n",
              "      <th></th>\n",
              "      <th></th>\n",
              "      <th></th>\n",
              "      <th></th>\n",
              "      <th></th>\n",
              "      <th></th>\n",
              "      <th></th>\n",
              "      <th></th>\n",
              "      <th></th>\n",
              "      <th></th>\n",
              "      <th></th>\n",
              "      <th></th>\n",
              "      <th></th>\n",
              "      <th></th>\n",
              "      <th></th>\n",
              "      <th></th>\n",
              "      <th></th>\n",
              "      <th></th>\n",
              "      <th></th>\n",
              "      <th></th>\n",
              "      <th></th>\n",
              "    </tr>\n",
              "  </thead>\n",
              "  <tbody>\n",
              "    <tr>\n",
              "      <th>1</th>\n",
              "      <td>20000</td>\n",
              "      <td>24</td>\n",
              "      <td>2</td>\n",
              "      <td>2</td>\n",
              "      <td>0</td>\n",
              "      <td>0</td>\n",
              "      <td>0</td>\n",
              "      <td>0</td>\n",
              "      <td>3913</td>\n",
              "      <td>3102</td>\n",
              "      <td>689</td>\n",
              "      <td>0</td>\n",
              "      <td>0</td>\n",
              "      <td>0</td>\n",
              "      <td>0</td>\n",
              "      <td>689</td>\n",
              "      <td>0</td>\n",
              "      <td>0</td>\n",
              "      <td>0</td>\n",
              "      <td>0</td>\n",
              "      <td>1</td>\n",
              "      <td>1</td>\n",
              "      <td>0</td>\n",
              "      <td>1</td>\n",
              "      <td>0</td>\n",
              "      <td>1</td>\n",
              "      <td>0</td>\n",
              "      <td>0</td>\n",
              "      <td>1</td>\n",
              "      <td>0</td>\n",
              "      <td>0</td>\n",
              "    </tr>\n",
              "    <tr>\n",
              "      <th>2</th>\n",
              "      <td>120000</td>\n",
              "      <td>26</td>\n",
              "      <td>0</td>\n",
              "      <td>2</td>\n",
              "      <td>0</td>\n",
              "      <td>0</td>\n",
              "      <td>0</td>\n",
              "      <td>2</td>\n",
              "      <td>2682</td>\n",
              "      <td>1725</td>\n",
              "      <td>2682</td>\n",
              "      <td>3272</td>\n",
              "      <td>3455</td>\n",
              "      <td>3261</td>\n",
              "      <td>0</td>\n",
              "      <td>1000</td>\n",
              "      <td>1000</td>\n",
              "      <td>1000</td>\n",
              "      <td>0</td>\n",
              "      <td>2000</td>\n",
              "      <td>1</td>\n",
              "      <td>1</td>\n",
              "      <td>0</td>\n",
              "      <td>1</td>\n",
              "      <td>0</td>\n",
              "      <td>1</td>\n",
              "      <td>0</td>\n",
              "      <td>0</td>\n",
              "      <td>0</td>\n",
              "      <td>1</td>\n",
              "      <td>0</td>\n",
              "    </tr>\n",
              "    <tr>\n",
              "      <th>3</th>\n",
              "      <td>90000</td>\n",
              "      <td>34</td>\n",
              "      <td>0</td>\n",
              "      <td>0</td>\n",
              "      <td>0</td>\n",
              "      <td>0</td>\n",
              "      <td>0</td>\n",
              "      <td>0</td>\n",
              "      <td>29239</td>\n",
              "      <td>14027</td>\n",
              "      <td>13559</td>\n",
              "      <td>14331</td>\n",
              "      <td>14948</td>\n",
              "      <td>15549</td>\n",
              "      <td>1518</td>\n",
              "      <td>1500</td>\n",
              "      <td>1000</td>\n",
              "      <td>1000</td>\n",
              "      <td>1000</td>\n",
              "      <td>5000</td>\n",
              "      <td>0</td>\n",
              "      <td>3</td>\n",
              "      <td>0</td>\n",
              "      <td>1</td>\n",
              "      <td>0</td>\n",
              "      <td>1</td>\n",
              "      <td>0</td>\n",
              "      <td>0</td>\n",
              "      <td>0</td>\n",
              "      <td>1</td>\n",
              "      <td>0</td>\n",
              "    </tr>\n",
              "    <tr>\n",
              "      <th>4</th>\n",
              "      <td>50000</td>\n",
              "      <td>37</td>\n",
              "      <td>0</td>\n",
              "      <td>0</td>\n",
              "      <td>0</td>\n",
              "      <td>0</td>\n",
              "      <td>0</td>\n",
              "      <td>0</td>\n",
              "      <td>46990</td>\n",
              "      <td>48233</td>\n",
              "      <td>49291</td>\n",
              "      <td>28314</td>\n",
              "      <td>28959</td>\n",
              "      <td>29547</td>\n",
              "      <td>2000</td>\n",
              "      <td>2019</td>\n",
              "      <td>1200</td>\n",
              "      <td>1100</td>\n",
              "      <td>1069</td>\n",
              "      <td>1000</td>\n",
              "      <td>0</td>\n",
              "      <td>3</td>\n",
              "      <td>0</td>\n",
              "      <td>1</td>\n",
              "      <td>0</td>\n",
              "      <td>1</td>\n",
              "      <td>0</td>\n",
              "      <td>0</td>\n",
              "      <td>1</td>\n",
              "      <td>0</td>\n",
              "      <td>0</td>\n",
              "    </tr>\n",
              "    <tr>\n",
              "      <th>5</th>\n",
              "      <td>50000</td>\n",
              "      <td>57</td>\n",
              "      <td>0</td>\n",
              "      <td>0</td>\n",
              "      <td>0</td>\n",
              "      <td>0</td>\n",
              "      <td>0</td>\n",
              "      <td>0</td>\n",
              "      <td>8617</td>\n",
              "      <td>5670</td>\n",
              "      <td>35835</td>\n",
              "      <td>20940</td>\n",
              "      <td>19146</td>\n",
              "      <td>19131</td>\n",
              "      <td>2000</td>\n",
              "      <td>36681</td>\n",
              "      <td>10000</td>\n",
              "      <td>9000</td>\n",
              "      <td>689</td>\n",
              "      <td>679</td>\n",
              "      <td>0</td>\n",
              "      <td>5</td>\n",
              "      <td>1</td>\n",
              "      <td>0</td>\n",
              "      <td>0</td>\n",
              "      <td>1</td>\n",
              "      <td>0</td>\n",
              "      <td>0</td>\n",
              "      <td>1</td>\n",
              "      <td>0</td>\n",
              "      <td>0</td>\n",
              "    </tr>\n",
              "    <tr>\n",
              "      <th>...</th>\n",
              "      <td>...</td>\n",
              "      <td>...</td>\n",
              "      <td>...</td>\n",
              "      <td>...</td>\n",
              "      <td>...</td>\n",
              "      <td>...</td>\n",
              "      <td>...</td>\n",
              "      <td>...</td>\n",
              "      <td>...</td>\n",
              "      <td>...</td>\n",
              "      <td>...</td>\n",
              "      <td>...</td>\n",
              "      <td>...</td>\n",
              "      <td>...</td>\n",
              "      <td>...</td>\n",
              "      <td>...</td>\n",
              "      <td>...</td>\n",
              "      <td>...</td>\n",
              "      <td>...</td>\n",
              "      <td>...</td>\n",
              "      <td>...</td>\n",
              "      <td>...</td>\n",
              "      <td>...</td>\n",
              "      <td>...</td>\n",
              "      <td>...</td>\n",
              "      <td>...</td>\n",
              "      <td>...</td>\n",
              "      <td>...</td>\n",
              "      <td>...</td>\n",
              "      <td>...</td>\n",
              "      <td>...</td>\n",
              "    </tr>\n",
              "    <tr>\n",
              "      <th>29996</th>\n",
              "      <td>220000</td>\n",
              "      <td>39</td>\n",
              "      <td>0</td>\n",
              "      <td>0</td>\n",
              "      <td>0</td>\n",
              "      <td>0</td>\n",
              "      <td>0</td>\n",
              "      <td>0</td>\n",
              "      <td>188948</td>\n",
              "      <td>192815</td>\n",
              "      <td>208365</td>\n",
              "      <td>88004</td>\n",
              "      <td>31237</td>\n",
              "      <td>15980</td>\n",
              "      <td>8500</td>\n",
              "      <td>20000</td>\n",
              "      <td>5003</td>\n",
              "      <td>3047</td>\n",
              "      <td>5000</td>\n",
              "      <td>1000</td>\n",
              "      <td>0</td>\n",
              "      <td>4</td>\n",
              "      <td>1</td>\n",
              "      <td>0</td>\n",
              "      <td>0</td>\n",
              "      <td>0</td>\n",
              "      <td>1</td>\n",
              "      <td>0</td>\n",
              "      <td>1</td>\n",
              "      <td>0</td>\n",
              "      <td>0</td>\n",
              "    </tr>\n",
              "    <tr>\n",
              "      <th>29997</th>\n",
              "      <td>150000</td>\n",
              "      <td>43</td>\n",
              "      <td>0</td>\n",
              "      <td>0</td>\n",
              "      <td>0</td>\n",
              "      <td>0</td>\n",
              "      <td>0</td>\n",
              "      <td>0</td>\n",
              "      <td>1683</td>\n",
              "      <td>1828</td>\n",
              "      <td>3502</td>\n",
              "      <td>8979</td>\n",
              "      <td>5190</td>\n",
              "      <td>0</td>\n",
              "      <td>1837</td>\n",
              "      <td>3526</td>\n",
              "      <td>8998</td>\n",
              "      <td>129</td>\n",
              "      <td>0</td>\n",
              "      <td>0</td>\n",
              "      <td>0</td>\n",
              "      <td>4</td>\n",
              "      <td>1</td>\n",
              "      <td>0</td>\n",
              "      <td>0</td>\n",
              "      <td>0</td>\n",
              "      <td>1</td>\n",
              "      <td>0</td>\n",
              "      <td>0</td>\n",
              "      <td>1</td>\n",
              "      <td>0</td>\n",
              "    </tr>\n",
              "    <tr>\n",
              "      <th>29998</th>\n",
              "      <td>30000</td>\n",
              "      <td>37</td>\n",
              "      <td>4</td>\n",
              "      <td>3</td>\n",
              "      <td>2</td>\n",
              "      <td>0</td>\n",
              "      <td>0</td>\n",
              "      <td>0</td>\n",
              "      <td>3565</td>\n",
              "      <td>3356</td>\n",
              "      <td>2758</td>\n",
              "      <td>20878</td>\n",
              "      <td>20582</td>\n",
              "      <td>19357</td>\n",
              "      <td>0</td>\n",
              "      <td>0</td>\n",
              "      <td>22000</td>\n",
              "      <td>4200</td>\n",
              "      <td>2000</td>\n",
              "      <td>3100</td>\n",
              "      <td>1</td>\n",
              "      <td>3</td>\n",
              "      <td>1</td>\n",
              "      <td>0</td>\n",
              "      <td>0</td>\n",
              "      <td>1</td>\n",
              "      <td>0</td>\n",
              "      <td>0</td>\n",
              "      <td>0</td>\n",
              "      <td>1</td>\n",
              "      <td>0</td>\n",
              "    </tr>\n",
              "    <tr>\n",
              "      <th>29999</th>\n",
              "      <td>80000</td>\n",
              "      <td>41</td>\n",
              "      <td>1</td>\n",
              "      <td>0</td>\n",
              "      <td>0</td>\n",
              "      <td>0</td>\n",
              "      <td>0</td>\n",
              "      <td>0</td>\n",
              "      <td>-1645</td>\n",
              "      <td>78379</td>\n",
              "      <td>76304</td>\n",
              "      <td>52774</td>\n",
              "      <td>11855</td>\n",
              "      <td>48944</td>\n",
              "      <td>85900</td>\n",
              "      <td>3409</td>\n",
              "      <td>1178</td>\n",
              "      <td>1926</td>\n",
              "      <td>52964</td>\n",
              "      <td>1804</td>\n",
              "      <td>1</td>\n",
              "      <td>4</td>\n",
              "      <td>1</td>\n",
              "      <td>0</td>\n",
              "      <td>0</td>\n",
              "      <td>0</td>\n",
              "      <td>1</td>\n",
              "      <td>0</td>\n",
              "      <td>1</td>\n",
              "      <td>0</td>\n",
              "      <td>0</td>\n",
              "    </tr>\n",
              "    <tr>\n",
              "      <th>30000</th>\n",
              "      <td>50000</td>\n",
              "      <td>46</td>\n",
              "      <td>0</td>\n",
              "      <td>0</td>\n",
              "      <td>0</td>\n",
              "      <td>0</td>\n",
              "      <td>0</td>\n",
              "      <td>0</td>\n",
              "      <td>47929</td>\n",
              "      <td>48905</td>\n",
              "      <td>49764</td>\n",
              "      <td>36535</td>\n",
              "      <td>32428</td>\n",
              "      <td>15313</td>\n",
              "      <td>2078</td>\n",
              "      <td>1800</td>\n",
              "      <td>1430</td>\n",
              "      <td>1000</td>\n",
              "      <td>1000</td>\n",
              "      <td>1000</td>\n",
              "      <td>1</td>\n",
              "      <td>5</td>\n",
              "      <td>1</td>\n",
              "      <td>0</td>\n",
              "      <td>0</td>\n",
              "      <td>1</td>\n",
              "      <td>0</td>\n",
              "      <td>0</td>\n",
              "      <td>1</td>\n",
              "      <td>0</td>\n",
              "      <td>0</td>\n",
              "    </tr>\n",
              "  </tbody>\n",
              "</table>\n",
              "<p>30000 rows × 31 columns</p>\n",
              "</div>"
            ],
            "text/plain": [
              "       LIMIT_BAL  AGE  PAY_1  ...  MARRIAGE_1  MARRIAGE_2  MARRIAGE_3\n",
              "ID                            ...                                    \n",
              "1          20000   24      2  ...           1           0           0\n",
              "2         120000   26      0  ...           0           1           0\n",
              "3          90000   34      0  ...           0           1           0\n",
              "4          50000   37      0  ...           1           0           0\n",
              "5          50000   57      0  ...           1           0           0\n",
              "...          ...  ...    ...  ...         ...         ...         ...\n",
              "29996     220000   39      0  ...           1           0           0\n",
              "29997     150000   43      0  ...           0           1           0\n",
              "29998      30000   37      4  ...           0           1           0\n",
              "29999      80000   41      1  ...           1           0           0\n",
              "30000      50000   46      0  ...           1           0           0\n",
              "\n",
              "[30000 rows x 31 columns]"
            ]
          },
          "metadata": {
            "tags": []
          },
          "execution_count": 31
        }
      ]
    },
    {
      "cell_type": "markdown",
      "metadata": {
        "id": "zwR_RBLXkv4D",
        "colab_type": "text"
      },
      "source": [
        "## Vector Assembler"
      ]
    },
    {
      "cell_type": "markdown",
      "metadata": {
        "id": "nhb_vwUyObzM",
        "colab_type": "text"
      },
      "source": [
        "Since I'm going to use Spark for model building, and their supervised learning algorithms need a data input with a special format. Where the dataframe has two columns: 'features', where all the features are condensed into a single dense vector representation. And 'label',  with the actual target class for every sample."
      ]
    },
    {
      "cell_type": "code",
      "metadata": {
        "id": "SOntcZ4vkzJM",
        "colab_type": "code",
        "outputId": "bb2b1191-aa23-4891-b0aa-0ff72d181ee9",
        "colab": {
          "base_uri": "https://localhost:8080/"
        }
      },
      "source": [
        "# enable apache_arrow-based columnar data transfers\n",
        "spark.conf.set(\"spark.sql.execution.arrow.enabled\", \"true\")\n",
        "# create spark dataframe\n",
        "df = spark.createDataFrame(binned_df)"
      ],
      "execution_count": 0,
      "outputs": [
        {
          "output_type": "stream",
          "text": [
            "/usr/local/lib/python3.6/dist-packages/pyspark/sql/session.py:714: UserWarning: createDataFrame attempted Arrow optimization because 'spark.sql.execution.arrow.enabled' is set to true; however, failed by the reason below:\n",
            "  Unsupported type in conversion from Arrow: dictionary<values=int64, indices=int8, ordered=1>\n",
            "Attempting non-optimization as 'spark.sql.execution.arrow.fallback.enabled' is set to true.\n",
            "  warnings.warn(msg)\n"
          ],
          "name": "stderr"
        }
      ]
    },
    {
      "cell_type": "code",
      "metadata": {
        "id": "XkDOx4vpmnHn",
        "colab_type": "code",
        "colab": {}
      },
      "source": [
        "from pyspark.ml.feature import VectorAssembler\n",
        "\n",
        "df_assembler = VectorAssembler(inputCols=['LIMIT_BAL', 'AGE', 'PAY_1', 'PAY_2',\n",
        "                                          'PAY_3', 'PAY_4', 'PAY_5', 'PAY_6',\n",
        "                                          'BILL_AMT1', 'BILL_AMT2', 'BILL_AMT3',\n",
        "                                          'BILL_AMT4', 'BILL_AMT5', 'BILL_AMT6',\n",
        "                                          'PAY_AMT1', 'PAY_AMT2', 'PAY_AMT3',\n",
        "                                          'PAY_AMT4', 'PAY_AMT5', 'PAY_AMT6',\n",
        "                                          'AGE_BIN', 'SEX_1', 'SEX_2',\n",
        "                                          'EDUCATION_1', 'EDUCATION_2',\n",
        "                                          'EDUCATION_3', 'MARRIAGE_1',\n",
        "                                          'MARRIAGE_2', 'MARRIAGE_3'],\n",
        "                              outputCol='features')\n",
        "\n",
        "df = df_assembler.transform(df)"
      ],
      "execution_count": 0,
      "outputs": []
    },
    {
      "cell_type": "code",
      "metadata": {
        "id": "JAeNUflFk99G",
        "colab_type": "code",
        "colab": {}
      },
      "source": [
        "df = df.withColumnRenamed('DEFAULT', 'label')"
      ],
      "execution_count": 0,
      "outputs": []
    },
    {
      "cell_type": "code",
      "metadata": {
        "id": "BWHO4seiqQLq",
        "colab_type": "code",
        "outputId": "b413d53a-355f-4b19-b0f0-8d1cce8944ba",
        "colab": {
          "base_uri": "https://localhost:8080/"
        }
      },
      "source": [
        "df.show(10, False)"
      ],
      "execution_count": 0,
      "outputs": [
        {
          "output_type": "stream",
          "text": [
            "+---------+---+-----+-----+-----+-----+-----+-----+---------+---------+---------+---------+---------+---------+--------+--------+--------+--------+--------+--------+-----+-------+-----+-----+-----------+-----------+-----------+-----------+----------+----------+----------+----------------------------------------------------------------------------------------------------------------------------------------------------------------------------------------------+\n",
            "|LIMIT_BAL|AGE|PAY_1|PAY_2|PAY_3|PAY_4|PAY_5|PAY_6|BILL_AMT1|BILL_AMT2|BILL_AMT3|BILL_AMT4|BILL_AMT5|BILL_AMT6|PAY_AMT1|PAY_AMT2|PAY_AMT3|PAY_AMT4|PAY_AMT5|PAY_AMT6|label|AGE_BIN|SEX_1|SEX_2|EDUCATION_1|EDUCATION_2|EDUCATION_3|EDUCATION_4|MARRIAGE_1|MARRIAGE_2|MARRIAGE_3|features                                                                                                                                                                                      |\n",
            "+---------+---+-----+-----+-----+-----+-----+-----+---------+---------+---------+---------+---------+---------+--------+--------+--------+--------+--------+--------+-----+-------+-----+-----+-----------+-----------+-----------+-----------+----------+----------+----------+----------------------------------------------------------------------------------------------------------------------------------------------------------------------------------------------+\n",
            "|20000    |24 |2    |2    |0    |0    |0    |0    |3913     |3102     |689      |0        |0        |0        |0       |689     |0       |0       |0       |0       |1    |1      |0    |1    |0          |1          |0          |0          |1         |0         |0         |(29,[0,1,2,3,8,9,10,15,20,22,24,26],[20000.0,24.0,2.0,2.0,3913.0,3102.0,689.0,689.0,1.0,1.0,1.0,1.0])                                                                                         |\n",
            "|120000   |26 |0    |2    |0    |0    |0    |2    |2682     |1725     |2682     |3272     |3455     |3261     |0       |1000    |1000    |1000    |0       |2000    |1    |1      |0    |1    |0          |1          |0          |0          |0         |1         |0         |(29,[0,1,3,7,8,9,10,11,12,13,15,16,17,19,20,22,24,27],[120000.0,26.0,2.0,2.0,2682.0,1725.0,2682.0,3272.0,3455.0,3261.0,1000.0,1000.0,1000.0,2000.0,1.0,1.0,1.0,1.0])                          |\n",
            "|90000    |34 |0    |0    |0    |0    |0    |0    |29239    |14027    |13559    |14331    |14948    |15549    |1518    |1500    |1000    |1000    |1000    |5000    |0    |3      |0    |1    |0          |1          |0          |0          |0         |1         |0         |(29,[0,1,8,9,10,11,12,13,14,15,16,17,18,19,20,22,24,27],[90000.0,34.0,29239.0,14027.0,13559.0,14331.0,14948.0,15549.0,1518.0,1500.0,1000.0,1000.0,1000.0,5000.0,3.0,1.0,1.0,1.0])             |\n",
            "|50000    |37 |0    |0    |0    |0    |0    |0    |46990    |48233    |49291    |28314    |28959    |29547    |2000    |2019    |1200    |1100    |1069    |1000    |0    |3      |0    |1    |0          |1          |0          |0          |1         |0         |0         |(29,[0,1,8,9,10,11,12,13,14,15,16,17,18,19,20,22,24,26],[50000.0,37.0,46990.0,48233.0,49291.0,28314.0,28959.0,29547.0,2000.0,2019.0,1200.0,1100.0,1069.0,1000.0,3.0,1.0,1.0,1.0])             |\n",
            "|50000    |57 |0    |0    |0    |0    |0    |0    |8617     |5670     |35835    |20940    |19146    |19131    |2000    |36681   |10000   |9000    |689     |679     |0    |5      |1    |0    |0          |1          |0          |0          |1         |0         |0         |(29,[0,1,8,9,10,11,12,13,14,15,16,17,18,19,20,21,24,26],[50000.0,57.0,8617.0,5670.0,35835.0,20940.0,19146.0,19131.0,2000.0,36681.0,10000.0,9000.0,689.0,679.0,5.0,1.0,1.0,1.0])               |\n",
            "|50000    |37 |0    |0    |0    |0    |0    |0    |64400    |57069    |57608    |19394    |19619    |20024    |2500    |1815    |657     |1000    |1000    |800     |0    |3      |1    |0    |1          |0          |0          |0          |0         |1         |0         |(29,[0,1,8,9,10,11,12,13,14,15,16,17,18,19,20,21,23,27],[50000.0,37.0,64400.0,57069.0,57608.0,19394.0,19619.0,20024.0,2500.0,1815.0,657.0,1000.0,1000.0,800.0,3.0,1.0,1.0,1.0])               |\n",
            "|500000   |29 |0    |0    |0    |0    |0    |0    |367965   |412023   |445007   |542653   |483003   |473944   |55000   |40000   |38000   |20239   |13750   |13770   |0    |2      |1    |0    |1          |0          |0          |0          |0         |1         |0         |(29,[0,1,8,9,10,11,12,13,14,15,16,17,18,19,20,21,23,27],[500000.0,29.0,367965.0,412023.0,445007.0,542653.0,483003.0,473944.0,55000.0,40000.0,38000.0,20239.0,13750.0,13770.0,2.0,1.0,1.0,1.0])|\n",
            "|100000   |23 |0    |0    |0    |0    |0    |0    |11876    |380      |601      |221      |-159     |567      |380     |601     |0       |581     |1687    |1542    |0    |1      |0    |1    |0          |1          |0          |0          |0         |1         |0         |(29,[0,1,8,9,10,11,12,13,14,15,17,18,19,20,22,24,27],[100000.0,23.0,11876.0,380.0,601.0,221.0,-159.0,567.0,380.0,601.0,581.0,1687.0,1542.0,1.0,1.0,1.0,1.0])                                  |\n",
            "|140000   |28 |0    |0    |2    |0    |0    |0    |11285    |14096    |12108    |12211    |11793    |3719     |3329    |0       |432     |1000    |1000    |1000    |0    |2      |0    |1    |0          |0          |1          |0          |1         |0         |0         |(29,[0,1,4,8,9,10,11,12,13,14,16,17,18,19,20,22,25,26],[140000.0,28.0,2.0,11285.0,14096.0,12108.0,12211.0,11793.0,3719.0,3329.0,432.0,1000.0,1000.0,1000.0,2.0,1.0,1.0,1.0])                  |\n",
            "|20000    |35 |0    |0    |0    |0    |0    |0    |0        |0        |0        |0        |13007    |13912    |0       |0       |0       |13007   |1122    |0       |0    |3      |1    |0    |0          |0          |1          |0          |0         |1         |0         |(29,[0,1,12,13,17,18,20,21,25,27],[20000.0,35.0,13007.0,13912.0,13007.0,1122.0,3.0,1.0,1.0,1.0])                                                                                              |\n",
            "+---------+---+-----+-----+-----+-----+-----+-----+---------+---------+---------+---------+---------+---------+--------+--------+--------+--------+--------+--------+-----+-------+-----+-----+-----------+-----------+-----------+-----------+----------+----------+----------+----------------------------------------------------------------------------------------------------------------------------------------------------------------------------------------------+\n",
            "only showing top 10 rows\n",
            "\n"
          ],
          "name": "stdout"
        }
      ]
    },
    {
      "cell_type": "code",
      "metadata": {
        "id": "ibUJRvwylSrU",
        "colab_type": "code",
        "colab": {}
      },
      "source": [
        "model_df = df.select(['features', 'label'])"
      ],
      "execution_count": 0,
      "outputs": []
    },
    {
      "cell_type": "markdown",
      "metadata": {
        "id": "GCXGHjCv_7fK",
        "colab_type": "text"
      },
      "source": [
        "## Data Splitting"
      ]
    },
    {
      "cell_type": "markdown",
      "metadata": {
        "id": "XS0CKIhw3NBz",
        "colab_type": "text"
      },
      "source": [
        "I am going to split the dataset into a training and test set."
      ]
    },
    {
      "cell_type": "code",
      "metadata": {
        "id": "xhoLL0JplQFS",
        "colab_type": "code",
        "colab": {}
      },
      "source": [
        "train, test = model_df.randomSplit([0.75, 0.25])"
      ],
      "execution_count": 0,
      "outputs": []
    },
    {
      "cell_type": "markdown",
      "metadata": {
        "id": "fRKSZwN6qIK1",
        "colab_type": "text"
      },
      "source": [
        "# Model Selection"
      ]
    },
    {
      "cell_type": "markdown",
      "metadata": {
        "id": "9vj16D801WAA",
        "colab_type": "text"
      },
      "source": [
        "## Linear Regression Model\n",
        "\n"
      ]
    },
    {
      "cell_type": "markdown",
      "metadata": {
        "id": "AOIyXjV85364",
        "colab_type": "text"
      },
      "source": [
        "Notes:\n",
        "* Make note of the coefficients.\n",
        "* Perform GridSearchCV with\n",
        "  * `penalty = l1, l2`\n",
        "  * `class_weight = default, balanced`\n",
        "  * `C = 0.1, 1, 10, 100`"
      ]
    },
    {
      "cell_type": "markdown",
      "metadata": {
        "id": "dNybEnNXgdNc",
        "colab_type": "text"
      },
      "source": [
        "First, I will use a simple binary classification algorithm: `LogisticRegression`.\n",
        "\n",
        "I will use Apache Spark for the model building, mainly because is faster than the Scikit-Learn algorithms. "
      ]
    },
    {
      "cell_type": "markdown",
      "metadata": {
        "id": "6QNSWDVNjZfm",
        "colab_type": "text"
      },
      "source": [
        "### Model Training"
      ]
    },
    {
      "cell_type": "code",
      "metadata": {
        "id": "arOTBwhvjY1y",
        "colab_type": "code",
        "colab": {}
      },
      "source": [
        "from pyspark.ml.classification import LogisticRegression\n",
        "\n",
        "logreg = LogisticRegression().fit(train)"
      ],
      "execution_count": 0,
      "outputs": []
    },
    {
      "cell_type": "markdown",
      "metadata": {
        "id": "wbBOFFzaj4A4",
        "colab_type": "text"
      },
      "source": [
        "### Model Performance on Training Set"
      ]
    },
    {
      "cell_type": "code",
      "metadata": {
        "id": "S5F0_ulrj7My",
        "colab_type": "code",
        "outputId": "9d65c8fc-06f9-40de-bf88-e0153ca67922",
        "colab": {
          "base_uri": "https://localhost:8080/"
        }
      },
      "source": [
        "lr_summary = logreg.summary\n",
        "print('Accuracy:', lr_summary.accuracy)\n",
        "print('Area under ROC:', lr_summary.areaUnderROC)\n",
        "print('Precision by label:', lr_summary.precisionByLabel)\n",
        "print('Recall by label:', lr_summary.recallByLabel)"
      ],
      "execution_count": 0,
      "outputs": [
        {
          "output_type": "stream",
          "text": [
            "Accuracy: 0.8177342086586231\n",
            "Area under ROC: 0.7648728331628005\n",
            "Precision by label: [0.8338145972319028, 0.6863303498779495]\n",
            "Recall by label: [0.9559906387350876, 0.33572139303482584]\n"
          ],
          "name": "stdout"
        }
      ]
    },
    {
      "cell_type": "markdown",
      "metadata": {
        "id": "BkO7aAWMkCsN",
        "colab_type": "text"
      },
      "source": [
        "### Model Performance on Test Set"
      ]
    },
    {
      "cell_type": "code",
      "metadata": {
        "id": "PzqMLaI8j88C",
        "colab_type": "code",
        "outputId": "4d066492-8cae-460c-fd48-f74239b4f096",
        "colab": {
          "base_uri": "https://localhost:8080/"
        }
      },
      "source": [
        "predictions = logreg.transform(test)\n",
        "predictions.show(10)"
      ],
      "execution_count": 0,
      "outputs": [
        {
          "output_type": "stream",
          "text": [
            "+--------------------+-----+--------------------+--------------------+----------+\n",
            "|            features|label|       rawPrediction|         probability|prediction|\n",
            "+--------------------+-----+--------------------+--------------------+----------+\n",
            "|(29,[0,1,2,3,4,5,...|    1|[-8.1533612764758...|[2.87683683804101...|       1.0|\n",
            "|(29,[0,1,2,3,4,5,...|    0|[-3.3510082571015...|[0.03386216299960...|       1.0|\n",
            "|(29,[0,1,2,3,4,5,...|    1|[-1.8569362717659...|[0.13506055424208...|       1.0|\n",
            "|(29,[0,1,2,3,4,5,...|    1|[-3.6610264516726...|[0.02506186983648...|       1.0|\n",
            "|(29,[0,1,2,3,4,5,...|    1|[-3.5135240120252...|[0.02892987148319...|       1.0|\n",
            "|(29,[0,1,2,3,4,5,...|    1|[-3.0724264244805...|[0.04425907574944...|       1.0|\n",
            "|(29,[0,1,2,3,4,5,...|    0|[-2.1248866098561...|[0.10670140138269...|       1.0|\n",
            "|(29,[0,1,2,3,4,5,...|    1|[-3.3153922391654...|[0.03504690322851...|       1.0|\n",
            "|(29,[0,1,2,3,4,5,...|    1|[-1.2013503590537...|[0.23123508224278...|       1.0|\n",
            "|(29,[0,1,2,3,4,5,...|    1|[-3.9754976011531...|[0.01842413888173...|       1.0|\n",
            "+--------------------+-----+--------------------+--------------------+----------+\n",
            "only showing top 10 rows\n",
            "\n"
          ],
          "name": "stdout"
        }
      ]
    },
    {
      "cell_type": "code",
      "metadata": {
        "id": "gkiUPxdLkALs",
        "colab_type": "code",
        "colab": {}
      },
      "source": [
        "model_pred = logreg.transform(test)"
      ],
      "execution_count": 0,
      "outputs": []
    },
    {
      "cell_type": "markdown",
      "metadata": {
        "id": "6stZvC2pturA",
        "colab_type": "text"
      },
      "source": [
        "#### Performance Metrics"
      ]
    },
    {
      "cell_type": "code",
      "metadata": {
        "id": "Fl2SjhSTtwu2",
        "colab_type": "code",
        "outputId": "cbd9d26f-3df4-4723-8e2f-f59e443ed75a",
        "colab": {
          "base_uri": "https://localhost:8080/"
        }
      },
      "source": [
        "from pyspark.ml.evaluation import BinaryClassificationEvaluator\n",
        "lr_evaluator = BinaryClassificationEvaluator(metricName='areaUnderROC')\n",
        "lr_auroc = lr_evaluator.evaluate(model_pred)\n",
        "print(f'The auroc value of LogReg model is {lr_auroc}')"
      ],
      "execution_count": 0,
      "outputs": [
        {
          "output_type": "stream",
          "text": [
            "The auroc value of LogReg model is 0.7524069180075573\n"
          ],
          "name": "stdout"
        }
      ]
    },
    {
      "cell_type": "code",
      "metadata": {
        "id": "wBTtJ-1mhEHt",
        "colab_type": "code",
        "outputId": "aaf238ab-48f1-403b-c5ec-2d63209da12a",
        "colab": {
          "base_uri": "https://localhost:8080/"
        }
      },
      "source": [
        "lr_evaluator = BinaryClassificationEvaluator(metricName='areaUnderPR')\n",
        "lr_aupr = lr_evaluator.evaluate(model_pred)\n",
        "print(f'The aupr value of LogReg model is {lr_aupr}') "
      ],
      "execution_count": 0,
      "outputs": [
        {
          "output_type": "stream",
          "text": [
            "The aupr value of LogReg model is 0.518103117980912\n"
          ],
          "name": "stdout"
        }
      ]
    },
    {
      "cell_type": "markdown",
      "metadata": {
        "id": "chU8i4Qeu8GI",
        "colab_type": "text"
      },
      "source": [
        "##### Recall and Precision:"
      ]
    },
    {
      "cell_type": "code",
      "metadata": {
        "id": "LH3Y-pXuhU7n",
        "colab_type": "code",
        "outputId": "8f2f6b10-649e-4bbc-f857-61eeea3c1117",
        "colab": {
          "base_uri": "https://localhost:8080/"
        }
      },
      "source": [
        "true_pos = model_pred.filter(model_pred['label']==0).filter(\n",
        "    model_pred['prediction']==0).count()\n",
        "print(true_pos)\n",
        "\n",
        "actual_pos = model_pred.filter(model_pred['label']==0).count()\n",
        "print(actual_pos)\n",
        "\n",
        "pred_pos = model_pred.filter(model_pred['prediction']==0).count()\n",
        "print(pred_pos)"
      ],
      "execution_count": 0,
      "outputs": [
        {
          "output_type": "stream",
          "text": [
            "5590\n",
            "5845\n",
            "6662\n"
          ],
          "name": "stdout"
        }
      ]
    },
    {
      "cell_type": "markdown",
      "metadata": {
        "id": "9PLBqTvRu-xG",
        "colab_type": "text"
      },
      "source": [
        "Recall:"
      ]
    },
    {
      "cell_type": "code",
      "metadata": {
        "id": "OneJGOiShzRt",
        "colab_type": "code",
        "outputId": "326d6700-5f5c-4ae5-9f5d-0795510be355",
        "colab": {
          "base_uri": "https://localhost:8080/"
        }
      },
      "source": [
        "float(true_pos)/(actual_pos)"
      ],
      "execution_count": 0,
      "outputs": [
        {
          "output_type": "execute_result",
          "data": {
            "text/plain": [
              "0.9563729683490163"
            ]
          },
          "metadata": {
            "tags": []
          },
          "execution_count": 45
        }
      ]
    },
    {
      "cell_type": "markdown",
      "metadata": {
        "id": "kieW4BR4vAZr",
        "colab_type": "text"
      },
      "source": [
        "Precision:"
      ]
    },
    {
      "cell_type": "code",
      "metadata": {
        "id": "7AxuQ6-wh-Ix",
        "colab_type": "code",
        "outputId": "e06aee50-35e1-48c3-c494-121fbded7d03",
        "colab": {
          "base_uri": "https://localhost:8080/"
        }
      },
      "source": [
        "float(true_pos)/(pred_pos)"
      ],
      "execution_count": 0,
      "outputs": [
        {
          "output_type": "execute_result",
          "data": {
            "text/plain": [
              "0.8390873611528069"
            ]
          },
          "metadata": {
            "tags": []
          },
          "execution_count": 46
        }
      ]
    },
    {
      "cell_type": "markdown",
      "metadata": {
        "id": "9sXj_Qmu1XVj",
        "colab_type": "text"
      },
      "source": [
        "## Support Vector Machines Model"
      ]
    },
    {
      "cell_type": "markdown",
      "metadata": {
        "id": "jBt8KHwXw4RX",
        "colab_type": "text"
      },
      "source": [
        "### Model Training"
      ]
    },
    {
      "cell_type": "code",
      "metadata": {
        "id": "TXWnh3h_lk9U",
        "colab_type": "code",
        "outputId": "cd177131-a2ec-43ba-9542-5076a3761500",
        "colab": {
          "base_uri": "https://localhost:8080/"
        }
      },
      "source": [
        "from pyspark.ml.classification import LinearSVC\n",
        "\n",
        "lsvc = LinearSVC()\n",
        "lsvc_model = lsvc.fit(train)\n",
        "\n",
        "model_pred = lsvc_model.transform(test)\n",
        "model_pred.columns"
      ],
      "execution_count": 0,
      "outputs": [
        {
          "output_type": "execute_result",
          "data": {
            "text/plain": [
              "['features', 'label', 'rawPrediction', 'prediction']"
            ]
          },
          "metadata": {
            "tags": []
          },
          "execution_count": 47
        }
      ]
    },
    {
      "cell_type": "markdown",
      "metadata": {
        "id": "4HuGQdcrw84m",
        "colab_type": "text"
      },
      "source": [
        "### Model Performance on Test Set"
      ]
    },
    {
      "cell_type": "code",
      "metadata": {
        "id": "nCqIaXDNlmd7",
        "colab_type": "code",
        "outputId": "5dc9cfb3-0cb0-44bf-f91e-59c8d405f7ca",
        "colab": {
          "base_uri": "https://localhost:8080/"
        }
      },
      "source": [
        "model_pred.select(['label', 'prediction']).show(10, False)"
      ],
      "execution_count": 0,
      "outputs": [
        {
          "output_type": "stream",
          "text": [
            "+-----+----------+\n",
            "|label|prediction|\n",
            "+-----+----------+\n",
            "|1    |1.0       |\n",
            "|0    |1.0       |\n",
            "|1    |1.0       |\n",
            "|1    |1.0       |\n",
            "|1    |1.0       |\n",
            "|1    |1.0       |\n",
            "|0    |1.0       |\n",
            "|1    |1.0       |\n",
            "|1    |1.0       |\n",
            "|1    |1.0       |\n",
            "+-----+----------+\n",
            "only showing top 10 rows\n",
            "\n"
          ],
          "name": "stdout"
        }
      ]
    },
    {
      "cell_type": "code",
      "metadata": {
        "id": "qIF3svOJloTz",
        "colab_type": "code",
        "outputId": "d80ece8d-a4e3-4f1d-e4cb-d81bcd219f54",
        "colab": {
          "base_uri": "https://localhost:8080/"
        }
      },
      "source": [
        "from pyspark.ml.evaluation import BinaryClassificationEvaluator\n",
        "svc_evaluator = BinaryClassificationEvaluator(metricName='areaUnderROC')\n",
        "svc_auroc = svc_evaluator.evaluate(model_pred)\n",
        "print(f'The auc value of SVC is {svc_auroc}')"
      ],
      "execution_count": 0,
      "outputs": [
        {
          "output_type": "stream",
          "text": [
            "The auc value of SVC is 0.7430469733584119\n"
          ],
          "name": "stdout"
        }
      ]
    },
    {
      "cell_type": "code",
      "metadata": {
        "id": "jyC4jorjlqD_",
        "colab_type": "code",
        "outputId": "61c6ef2a-52a1-4dbb-c89e-043813ad52ba",
        "colab": {
          "base_uri": "https://localhost:8080/"
        }
      },
      "source": [
        "svc_evaluator = BinaryClassificationEvaluator(metricName='areaUnderPR')\n",
        "svc_aupr = svc_evaluator.evaluate(model_pred)\n",
        "print(f'The aupr value for SVC is {svc_aupr}')"
      ],
      "execution_count": 0,
      "outputs": [
        {
          "output_type": "stream",
          "text": [
            "The aupr value for SVC is 0.5080728765011508\n"
          ],
          "name": "stdout"
        }
      ]
    },
    {
      "cell_type": "markdown",
      "metadata": {
        "id": "YFyLeL1yxEng",
        "colab_type": "text"
      },
      "source": [
        "#### Recall and Precision"
      ]
    },
    {
      "cell_type": "code",
      "metadata": {
        "id": "uIru--1Ilqof",
        "colab_type": "code",
        "outputId": "e5d81b84-475b-4b9d-c11a-1e2ccadb6f36",
        "colab": {
          "base_uri": "https://localhost:8080/"
        }
      },
      "source": [
        "true_pos = model_pred.filter(model_pred['label']==1).filter(\n",
        "    model_pred['prediction']==1).count()\n",
        "print(true_pos)\n",
        "\n",
        "actual_pos = model_pred.filter(model_pred['label']==1).count()\n",
        "print(actual_pos)\n",
        "\n",
        "pred_pos = model_pred.filter(model_pred['prediction']==1).count()\n",
        "print(pred_pos)"
      ],
      "execution_count": 0,
      "outputs": [
        {
          "output_type": "stream",
          "text": [
            "627\n",
            "1611\n",
            "961\n"
          ],
          "name": "stdout"
        }
      ]
    },
    {
      "cell_type": "code",
      "metadata": {
        "id": "_J7TR4nTltOi",
        "colab_type": "code",
        "outputId": "ed6136ee-4759-40a1-fc35-676ce4277c83",
        "colab": {
          "base_uri": "https://localhost:8080/"
        }
      },
      "source": [
        "# Recall\n",
        "print('Recall:', (float(true_pos)/(actual_pos)))\n",
        "# Precision\n",
        "print('Precision:', (float(true_pos)/(pred_pos)))"
      ],
      "execution_count": 0,
      "outputs": [
        {
          "output_type": "stream",
          "text": [
            "Recall: 0.3891992551210428\n",
            "Precision: 0.6524453694068678\n"
          ],
          "name": "stdout"
        }
      ]
    },
    {
      "cell_type": "markdown",
      "metadata": {
        "id": "gSp8uwza1ZvA",
        "colab_type": "text"
      },
      "source": [
        "## Random Forest Model"
      ]
    },
    {
      "cell_type": "markdown",
      "metadata": {
        "id": "sEYy76OMvVZm",
        "colab_type": "text"
      },
      "source": [
        "### Model Training"
      ]
    },
    {
      "cell_type": "code",
      "metadata": {
        "id": "gD71lyTxvgs4",
        "colab_type": "code",
        "colab": {}
      },
      "source": [
        "from pyspark.ml.classification import RandomForestClassifier\n",
        "rf = RandomForestClassifier(numTrees=50, maxDepth=30)\n",
        "rf_model = rf.fit(train)"
      ],
      "execution_count": 0,
      "outputs": []
    },
    {
      "cell_type": "markdown",
      "metadata": {
        "id": "u1dJhdvGve0N",
        "colab_type": "text"
      },
      "source": [
        "### Model Performance on Test Set"
      ]
    },
    {
      "cell_type": "code",
      "metadata": {
        "id": "xQ6meKISwhYL",
        "colab_type": "code",
        "outputId": "a22e652d-41da-42f9-830c-9b0d5859087f",
        "colab": {
          "base_uri": "https://localhost:8080/"
        }
      },
      "source": [
        "model_pred = rf_model.transform(test)\n",
        "model_pred.select(['label', 'probability', 'prediction']).show(10, False)"
      ],
      "execution_count": 0,
      "outputs": [
        {
          "output_type": "stream",
          "text": [
            "+-----+-----------------------------------------+----------+\n",
            "|label|probability                              |prediction|\n",
            "+-----+-----------------------------------------+----------+\n",
            "|1    |[0.5771428571428572,0.4228571428571428]  |0.0       |\n",
            "|0    |[0.11683181225554107,0.8831681877444589] |1.0       |\n",
            "|1    |[0.2207571868809157,0.7792428131190843]  |1.0       |\n",
            "|1    |[0.021457186880915694,0.9785428131190844]|1.0       |\n",
            "|1    |[0.04309052021424902,0.9569094797857509] |1.0       |\n",
            "|1    |[0.10309052021424904,0.896909479785751]  |1.0       |\n",
            "|0    |[0.044090520214249015,0.955909479785751] |1.0       |\n",
            "|1    |[0.003090520214249028,0.996909479785751] |1.0       |\n",
            "|1    |[0.5152444444444444,0.4847555555555555]  |0.0       |\n",
            "|1    |[0.0,1.0]                                |1.0       |\n",
            "+-----+-----------------------------------------+----------+\n",
            "only showing top 10 rows\n",
            "\n"
          ],
          "name": "stdout"
        }
      ]
    },
    {
      "cell_type": "code",
      "metadata": {
        "id": "xQoRJVaewpiY",
        "colab_type": "code",
        "outputId": "0c699567-5424-465d-ed43-8caa132a8fd6",
        "colab": {
          "base_uri": "https://localhost:8080/"
        }
      },
      "source": [
        "rf_evaluator = BinaryClassificationEvaluator(metricName='areaUnderROC')\n",
        "rf_auroc = rf_evaluator.evaluate(model_pred)\n",
        "print(f'The area under ROC value of Random Forest Classifier Model is {rf_auroc}')"
      ],
      "execution_count": 0,
      "outputs": [
        {
          "output_type": "stream",
          "text": [
            "The area under ROC value of Random Forest Classifier Model is 0.7596364599877157\n"
          ],
          "name": "stdout"
        }
      ]
    },
    {
      "cell_type": "code",
      "metadata": {
        "colab_type": "code",
        "outputId": "82c84545-0a1d-4d05-d73a-b55fb45b75ee",
        "id": "Xh2I4Bjmt0Bp",
        "colab": {
          "base_uri": "https://localhost:8080/"
        }
      },
      "source": [
        "rf_evaluator = BinaryClassificationEvaluator(metricName='areaUnderPR')\n",
        "rf_aupr = rf_evaluator.evaluate(model_pred)\n",
        "print(f'The area under PR value of Random Forest Classifier Model is {rf_aupr}')"
      ],
      "execution_count": 0,
      "outputs": [
        {
          "output_type": "stream",
          "text": [
            "The area under PR value of Random Forest Classifier Model is 0.5209617165888759\n"
          ],
          "name": "stdout"
        }
      ]
    },
    {
      "cell_type": "markdown",
      "metadata": {
        "id": "0UxqL47yxXnK",
        "colab_type": "text"
      },
      "source": [
        "##### Recall and Precision"
      ]
    },
    {
      "cell_type": "code",
      "metadata": {
        "colab_type": "code",
        "outputId": "6ad00b90-a34e-4c15-d87c-40a9b3dfd393",
        "id": "wPfNjN6at0Bx",
        "colab": {
          "base_uri": "https://localhost:8080/"
        }
      },
      "source": [
        "true_pos = model_pred.filter(model_pred['label']==1).filter(\n",
        "    model_pred['prediction']==1).count()\n",
        "print('True positives:', true_pos)\n",
        "\n",
        "actual_pos = model_pred.filter(model_pred['label']==1).count()\n",
        "print('Actual positives:', actual_pos)\n",
        "\n",
        "pred_pos = model_pred.filter(model_pred['prediction']==1).count()\n",
        "print('Predicted positives:', pred_pos)"
      ],
      "execution_count": 0,
      "outputs": [
        {
          "output_type": "stream",
          "text": [
            "True positives: 593\n",
            "Actual positives: 1611\n",
            "Predicted positives: 929\n"
          ],
          "name": "stdout"
        }
      ]
    },
    {
      "cell_type": "code",
      "metadata": {
        "colab_type": "code",
        "outputId": "d8b553c1-56f6-48ae-d8b4-fba8bbe8a0d0",
        "id": "jKkG3tm7t0B3",
        "colab": {
          "base_uri": "https://localhost:8080/"
        }
      },
      "source": [
        "# Recall\n",
        "float(true_pos)/(actual_pos)"
      ],
      "execution_count": 0,
      "outputs": [
        {
          "output_type": "execute_result",
          "data": {
            "text/plain": [
              "0.3680943513345748"
            ]
          },
          "metadata": {
            "tags": []
          },
          "execution_count": 58
        }
      ]
    },
    {
      "cell_type": "code",
      "metadata": {
        "colab_type": "code",
        "id": "S9zd0CT5t0B9",
        "outputId": "a9b82e89-0a8c-460f-843e-5b8554f898b9",
        "colab": {
          "base_uri": "https://localhost:8080/"
        }
      },
      "source": [
        "# Precision\n",
        "float(true_pos)/(pred_pos)"
      ],
      "execution_count": 0,
      "outputs": [
        {
          "output_type": "execute_result",
          "data": {
            "text/plain": [
              "0.6383207750269106"
            ]
          },
          "metadata": {
            "tags": []
          },
          "execution_count": 59
        }
      ]
    },
    {
      "cell_type": "markdown",
      "metadata": {
        "id": "P3bBa-6kqYVV",
        "colab_type": "text"
      },
      "source": [
        "# Hyperparameter-Tuning"
      ]
    },
    {
      "cell_type": "markdown",
      "metadata": {
        "id": "9hFut-uzqjU-",
        "colab_type": "text"
      },
      "source": [
        "Select the best model using GridSearchCV and CrossValidation."
      ]
    },
    {
      "cell_type": "markdown",
      "metadata": {
        "id": "38ZVgpVC3Z3E",
        "colab_type": "text"
      },
      "source": [
        "## Random Forest Classifier Model"
      ]
    },
    {
      "cell_type": "code",
      "metadata": {
        "id": "Zy-3t8G13boo",
        "colab_type": "code",
        "colab": {}
      },
      "source": [
        "from pyspark.ml.tuning import ParamGridBuilder, CrossValidator\n",
        "paramGrid = (ParamGridBuilder().\n",
        "             addGrid(rf.maxDepth, [10, 20, 30]).\n",
        "             addGrid(rf.maxBins, [20, 60]).\n",
        "             addGrid(rf.numTrees, [10, 30, 50]).\n",
        "             build())\n",
        "\n",
        "cv = CrossValidator(estimator=rf, estimatorParamMaps=paramGrid, \n",
        "                    evaluator=rf_evaluator, numFolds=5)\n",
        "cv_model = cv.fit(train)\n",
        "best_rf_model = cv_model.bestModel"
      ],
      "execution_count": 0,
      "outputs": []
    },
    {
      "cell_type": "markdown",
      "metadata": {
        "id": "RXCaWW-I3g-p",
        "colab_type": "text"
      },
      "source": [
        "# Final Test of the Model"
      ]
    },
    {
      "cell_type": "code",
      "metadata": {
        "id": "ffsw7u4b3jxS",
        "colab_type": "code",
        "outputId": "3fc1c6f1-9c81-47f9-dc4b-d9ce6787c4ec",
        "colab": {
          "base_uri": "https://localhost:8080/",
          "height": 50
        }
      },
      "source": [
        "model_prediction = best_rf_model.transform(test)\n",
        "\n",
        "rf_evaluator = BinaryClassificationEvaluator(metricName='areaUnderROC')\n",
        "rf_auroc = rf_evaluator.evaluate(model_prediction)\n",
        "print(f'The auc value of Random Forest Classifier Model is {rf_auroc}')\n",
        "\n",
        "rf_evaluator = BinaryClassificationEvaluator(metricName='areaUnderPR')\n",
        "rf_aupr = rf_evaluator.evaluate(model_prediction)\n",
        "print(f'The aupr value of Random Forest Classifier Model is {rf_aupr}')"
      ],
      "execution_count": 0,
      "outputs": [
        {
          "output_type": "stream",
          "text": [
            "The auc value of Random Forest Classifier Model is 0.7692255818238487\n",
            "The aupr value of Random Forest Classifier Model is 0.544139240900792\n"
          ],
          "name": "stdout"
        }
      ]
    },
    {
      "cell_type": "code",
      "metadata": {
        "colab_type": "code",
        "outputId": "e4440687-df70-4397-c067-e8f5075f80df",
        "id": "surTrTZeed6i",
        "colab": {
          "base_uri": "https://localhost:8080/",
          "height": 67
        }
      },
      "source": [
        "true_pos = model_prediction.filter(model_prediction['label']==1).filter(\n",
        "    model_prediction['prediction']==1).count()\n",
        "print('True positives:', true_pos)\n",
        "\n",
        "actual_pos = model_prediction.filter(model_prediction['label']==1).count()\n",
        "print('Actual positives:', actual_pos)\n",
        "\n",
        "pred_pos = model_prediction.filter(model_prediction['prediction']==1).count()\n",
        "print('Predicted positives:', pred_pos)"
      ],
      "execution_count": 0,
      "outputs": [
        {
          "output_type": "stream",
          "text": [
            "True positives: 587\n",
            "Actual positives: 1611\n",
            "Predicted positives: 873\n"
          ],
          "name": "stdout"
        }
      ]
    },
    {
      "cell_type": "code",
      "metadata": {
        "colab_type": "code",
        "outputId": "4e7c1960-bc1a-4230-f09b-18f5cd847519",
        "id": "kxeZwKSIed6o",
        "colab": {
          "base_uri": "https://localhost:8080/",
          "height": 34
        }
      },
      "source": [
        "# Recall\n",
        "float(true_pos)/(actual_pos)"
      ],
      "execution_count": 0,
      "outputs": [
        {
          "output_type": "execute_result",
          "data": {
            "text/plain": [
              "0.3643699565487275"
            ]
          },
          "metadata": {
            "tags": []
          },
          "execution_count": 65
        }
      ]
    },
    {
      "cell_type": "code",
      "metadata": {
        "colab_type": "code",
        "outputId": "e84d65bf-0276-456c-d711-795b07262acc",
        "id": "AM_UXlq7ed6r",
        "colab": {
          "base_uri": "https://localhost:8080/",
          "height": 34
        }
      },
      "source": [
        "# Precision\n",
        "float(true_pos)/(pred_pos)"
      ],
      "execution_count": 0,
      "outputs": [
        {
          "output_type": "execute_result",
          "data": {
            "text/plain": [
              "0.6723940435280642"
            ]
          },
          "metadata": {
            "tags": []
          },
          "execution_count": 66
        }
      ]
    },
    {
      "cell_type": "markdown",
      "metadata": {
        "id": "B70NuQez8XUp",
        "colab_type": "text"
      },
      "source": [
        "# Summary"
      ]
    },
    {
      "cell_type": "markdown",
      "metadata": {
        "id": "ZmXgILVv8ZdU",
        "colab_type": "text"
      },
      "source": [
        "# Future Work/Next Steps"
      ]
    }
  ]
}