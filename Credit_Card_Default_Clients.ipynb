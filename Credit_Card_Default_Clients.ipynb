{
  "nbformat": 4,
  "nbformat_minor": 0,
  "metadata": {
    "colab": {
      "name": "Credit Card Default Clients.ipynb",
      "provenance": [],
      "collapsed_sections": [
        "FFxD7E1eMNTz",
        "npFG6ZoZ8UbJ",
        "Y-7Qn9Kv8cms",
        "I3Nk43inlKDV",
        "YujmP45DskYL",
        "r0vGzg7LUSKs",
        "8a4M6OwDg3Wl",
        "PtMh1uZO1i_c",
        "_ZmC8WmT1m6C",
        "k6wQzcfo1pJh",
        "nxDiuuHQg7D7",
        "IkGs0tH7QdvH",
        "VWgcVsQk0uk5",
        "lZJJdPI-01xf",
        "cP1KZWkn04x2",
        "hbBeqB_I1EQn",
        "CVYhZGMWyBAn",
        "F6hHUYn8Adoo",
        "Zi902JxQAkDB",
        "9sXj_Qmu1XVj"
      ],
      "authorship_tag": "ABX9TyPSKgP+UbzWqik1xHtMogZJ",
      "include_colab_link": true
    },
    "kernelspec": {
      "name": "python3",
      "display_name": "Python 3"
    },
    "accelerator": "TPU"
  },
  "cells": [
    {
      "cell_type": "markdown",
      "metadata": {
        "id": "view-in-github",
        "colab_type": "text"
      },
      "source": [
        "<a href=\"https://colab.research.google.com/github/ruizleandro/Credit_Card_Default_Clients/blob/master/Credit_Card_Default_Clients.ipynb\" target=\"_parent\"><img src=\"https://colab.research.google.com/assets/colab-badge.svg\" alt=\"Open In Colab\"/></a>"
      ]
    },
    {
      "cell_type": "markdown",
      "metadata": {
        "id": "N_ntLK8DMLRh",
        "colab_type": "text"
      },
      "source": [
        "# Introduction"
      ]
    },
    {
      "cell_type": "markdown",
      "metadata": {
        "id": "FFxD7E1eMNTz",
        "colab_type": "text"
      },
      "source": [
        "## Project Objectives"
      ]
    },
    {
      "cell_type": "markdown",
      "metadata": {
        "id": "EKty8KBn8r04",
        "colab_type": "text"
      },
      "source": [
        "The main objective of this project is to predict if a client of a bank will default their payments using information from the last 6 months."
      ]
    },
    {
      "cell_type": "markdown",
      "metadata": {
        "id": "npFG6ZoZ8UbJ",
        "colab_type": "text"
      },
      "source": [
        "## Necessary installations"
      ]
    },
    {
      "cell_type": "code",
      "metadata": {
        "id": "zZS6wjsSha6B",
        "colab_type": "code",
        "colab": {
          "base_uri": "https://localhost:8080/",
          "height": 70
        },
        "outputId": "dd1c7f38-25c4-4766-a90e-8eefd866b731"
      },
      "source": [
        "import pandas as pd\n",
        "import numpy as np\n",
        "import matplotlib.pyplot as plt\n",
        "import seaborn as sns"
      ],
      "execution_count": 4,
      "outputs": [
        {
          "output_type": "stream",
          "text": [
            "/usr/local/lib/python3.6/dist-packages/statsmodels/tools/_testing.py:19: FutureWarning: pandas.util.testing is deprecated. Use the functions in the public API at pandas.testing instead.\n",
            "  import pandas.util.testing as tm\n"
          ],
          "name": "stderr"
        }
      ]
    },
    {
      "cell_type": "markdown",
      "metadata": {
        "id": "qLJxJLvAjGJv",
        "colab_type": "text"
      },
      "source": [
        "### Downgrading Java so Spark works properly"
      ]
    },
    {
      "cell_type": "code",
      "metadata": {
        "id": "-k5IaIInjKET",
        "colab_type": "code",
        "colab": {
          "base_uri": "https://localhost:8080/",
          "height": 84
        },
        "outputId": "6b13085a-fda2-4eb7-da1f-e64c43dc7fe8"
      },
      "source": [
        "!apt-get install openjdk-8-jdk-headless -qq > /dev/null\n",
        "import os\n",
        "os.environ[\"JAVA_HOME\"] = \"/usr/lib/jvm/java-8-openjdk-amd64\"\n",
        "!update-alternatives --set java /usr/lib/jvm/java-8-openjdk-amd64/jre/bin/java\n",
        "!java -version"
      ],
      "execution_count": 63,
      "outputs": [
        {
          "output_type": "stream",
          "text": [
            "update-alternatives: using /usr/lib/jvm/java-8-openjdk-amd64/jre/bin/java to provide /usr/bin/java (java) in manual mode\n",
            "openjdk version \"1.8.0_252\"\n",
            "OpenJDK Runtime Environment (build 1.8.0_252-8u252-b09-1~18.04-b09)\n",
            "OpenJDK 64-Bit Server VM (build 25.252-b09, mixed mode)\n"
          ],
          "name": "stdout"
        }
      ]
    },
    {
      "cell_type": "markdown",
      "metadata": {
        "id": "kRRQKZrHjTRz",
        "colab_type": "text"
      },
      "source": [
        "###### Spark Installation"
      ]
    },
    {
      "cell_type": "code",
      "metadata": {
        "id": "c8q3CtvmjSGp",
        "colab_type": "code",
        "colab": {
          "base_uri": "https://localhost:8080/",
          "height": 235
        },
        "outputId": "4e93aee0-e833-4ddb-a14e-6ea5519954e0"
      },
      "source": [
        "!pip install pyspark\n",
        "\n",
        "from pyspark.sql import SparkSession\n",
        "spark = SparkSession.builder.appName(\n",
        "    'portfolio_default_of_credit_card_clients').getOrCreate()"
      ],
      "execution_count": 64,
      "outputs": [
        {
          "output_type": "stream",
          "text": [
            "Collecting pyspark\n",
            "\u001b[?25l  Downloading https://files.pythonhosted.org/packages/8e/b0/bf9020b56492281b9c9d8aae8f44ff51e1bc91b3ef5a884385cb4e389a40/pyspark-3.0.0.tar.gz (204.7MB)\n",
            "\u001b[K     |████████████████████████████████| 204.7MB 84kB/s \n",
            "\u001b[?25hCollecting py4j==0.10.9\n",
            "\u001b[?25l  Downloading https://files.pythonhosted.org/packages/9e/b6/6a4fb90cd235dc8e265a6a2067f2a2c99f0d91787f06aca4bcf7c23f3f80/py4j-0.10.9-py2.py3-none-any.whl (198kB)\n",
            "\u001b[K     |████████████████████████████████| 204kB 51.9MB/s \n",
            "\u001b[?25hBuilding wheels for collected packages: pyspark\n",
            "  Building wheel for pyspark (setup.py) ... \u001b[?25l\u001b[?25hdone\n",
            "  Created wheel for pyspark: filename=pyspark-3.0.0-py2.py3-none-any.whl size=205044182 sha256=dc4788f4e20fd80463bab669d06b3e03331abe6ccc87d325f0798cfbaaba1460\n",
            "  Stored in directory: /root/.cache/pip/wheels/57/27/4d/ddacf7143f8d5b76c45c61ee2e43d9f8492fc5a8e78ebd7d37\n",
            "Successfully built pyspark\n",
            "Installing collected packages: py4j, pyspark\n",
            "Successfully installed py4j-0.10.9 pyspark-3.0.0\n"
          ],
          "name": "stdout"
        }
      ]
    },
    {
      "cell_type": "markdown",
      "metadata": {
        "id": "Y-7Qn9Kv8cms",
        "colab_type": "text"
      },
      "source": [
        "# Getting the data"
      ]
    },
    {
      "cell_type": "markdown",
      "metadata": {
        "id": "hQAL4ySwjPlW",
        "colab_type": "text"
      },
      "source": [
        "[Link to dataset's Kaggle page](https://www.kaggle.com/uciml/default-of-credit-card-clients-dataset)\n"
      ]
    },
    {
      "cell_type": "code",
      "metadata": {
        "id": "mKz-WwJFcd7D",
        "colab_type": "code",
        "colab": {
          "resources": {
            "http://localhost:8080/nbextensions/google.colab/files.js": {
              "data": "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",
              "ok": true,
              "headers": [
                [
                  "content-type",
                  "application/javascript"
                ]
              ],
              "status": 200,
              "status_text": ""
            }
          },
          "base_uri": "https://localhost:8080/",
          "height": 90
        },
        "outputId": "69d8c0a9-7ef1-4d11-f7dc-57637b9bc0cc"
      },
      "source": [
        "from google.colab import files\n",
        "\n",
        "uploaded = files.upload()\n",
        "\n",
        "for fn in uploaded.keys():\n",
        "  print('User uploaded file \"{name}\" with length {length} bytes'.format(\n",
        "      name=fn, length=len(uploaded[fn])))"
      ],
      "execution_count": 10,
      "outputs": [
        {
          "output_type": "display_data",
          "data": {
            "text/html": [
              "\n",
              "     <input type=\"file\" id=\"files-36d3533a-f3aa-41ae-b472-499d65f3d780\" name=\"files[]\" multiple disabled\n",
              "        style=\"border:none\" />\n",
              "     <output id=\"result-36d3533a-f3aa-41ae-b472-499d65f3d780\">\n",
              "      Upload widget is only available when the cell has been executed in the\n",
              "      current browser session. Please rerun this cell to enable.\n",
              "      </output>\n",
              "      <script src=\"/nbextensions/google.colab/files.js\"></script> "
            ],
            "text/plain": [
              "<IPython.core.display.HTML object>"
            ]
          },
          "metadata": {
            "tags": []
          }
        },
        {
          "output_type": "stream",
          "text": [
            "Saving default_of_credit_card_clients.xls to default_of_credit_card_clients.xls\n",
            "User uploaded file \"default_of_credit_card_clients.xls\" with length 5539328 bytes\n"
          ],
          "name": "stdout"
        }
      ]
    },
    {
      "cell_type": "code",
      "metadata": {
        "id": "o3AW23LdRhGw",
        "colab_type": "code",
        "colab": {}
      },
      "source": [
        "df = pd.read_excel(\"default_of_credit_card_clients.xls\", skiprows=1)\n",
        "df.set_index('ID', inplace=True)"
      ],
      "execution_count": 12,
      "outputs": []
    },
    {
      "cell_type": "markdown",
      "metadata": {
        "id": "I3Nk43inlKDV",
        "colab_type": "text"
      },
      "source": [
        "# Data Cleaning"
      ]
    },
    {
      "cell_type": "markdown",
      "metadata": {
        "id": "YujmP45DskYL",
        "colab_type": "text"
      },
      "source": [
        " ## Variable description"
      ]
    },
    {
      "cell_type": "markdown",
      "metadata": {
        "id": "OS0WxnuLe7Kt",
        "colab_type": "text"
      },
      "source": [
        "There are 25 variables:\n",
        "\n",
        "* ID: ID of each client\n",
        "* LIMIT_BAL: Amount of given credit in NT dollars (includes individual and family/supplementary credit\n",
        "* SEX: Gender (1=male, 2=female)\n",
        "* EDUCATION: (1=graduate school, 2=university, 3=high school, 4=others, 5=unknown, 6=unknown)\n",
        "* MARRIAGE: Marital status (1=married, 2=single, 3=others)\n",
        "* AGE: Age in years\n",
        "* PAY_0: Repayment status in September, 2005 (-1=pay duly, 1=payment delay for one month, 2=payment delay for two months, … 8=payment delay for eight months, 9=payment delay for nine months and above)\n",
        "* PAY_2: Repayment status in August, 2005 (scale same as above)\n",
        "* PAY_3: Repayment status in July, 2005 (scale same as above)\n",
        "* PAY_4: Repayment status in June, 2005 (scale same as above)\n",
        "* PAY_5: Repayment status in May, 2005 (scale same as above)\n",
        "* PAY_6: Repayment status in April, 2005 (scale same as above)\n",
        "* BILL_AMT1: Amount of bill statement in September, 2005 (NT dollar)\n",
        "* BILL_AMT2: Amount of bill statement in August, 2005 (NT dollar)\n",
        "* BILL_AMT3: Amount of bill statement in July, 2005 (NT dollar)\n",
        "* BILL_AMT4: Amount of bill statement in June, 2005 (NT dollar)\n",
        "* BILL_AMT5: Amount of bill statement in May, 2005 (NT dollar)\n",
        "* BILL_AMT6: Amount of bill statement in April, 2005 (NT dollar)\n",
        "* PAY_AMT1: Amount of previous payment in September, 2005 (NT dollar)\n",
        "* PAY_AMT2: Amount of previous payment in August, 2005 (NT dollar)\n",
        "* PAY_AMT3: Amount of previous payment in July, 2005 (NT dollar)\n",
        "* PAY_AMT4: Amount of previous payment in June, 2005 (NT dollar)\n",
        "* PAY_AMT5: Amount of previous payment in May, 2005 (NT dollar)\n",
        "* PAY_AMT6: Amount of previous payment in April, 2005 (NT dollar)\n",
        "* default.payment.next.month: Default payment (1=yes, 0=no)"
      ]
    },
    {
      "cell_type": "markdown",
      "metadata": {
        "id": "XkSDCSTcseIq",
        "colab_type": "text"
      },
      "source": [
        "## Feature edition"
      ]
    },
    {
      "cell_type": "markdown",
      "metadata": {
        "id": "qpze5bGot4Fx",
        "colab_type": "text"
      },
      "source": [
        "I'll change the name of the target column and the name of `PAY_0` to `PAY_1` just for simplicity sake."
      ]
    },
    {
      "cell_type": "code",
      "metadata": {
        "id": "vu5waaK1tPLT",
        "colab_type": "code",
        "colab": {}
      },
      "source": [
        "df = df.rename(columns={'default payment next month': 'default', \n",
        "                        'PAY_0': 'PAY_1'})"
      ],
      "execution_count": 13,
      "outputs": []
    },
    {
      "cell_type": "markdown",
      "metadata": {
        "id": "WrLDonxouRYY",
        "colab_type": "text"
      },
      "source": [
        "In the variable description we can see that a value of `-1` on `PAY_N` means pay duly, so it has more sense if I change that value to `0`, meaning that the client doesn't have payment delay. And the value `-2` is undocumented, but we can guess that means the same as `-1`."
      ]
    },
    {
      "cell_type": "code",
      "metadata": {
        "id": "dWh5g3xQssvn",
        "colab_type": "code",
        "colab": {}
      },
      "source": [
        "df.loc[df.PAY_1 == -2, 'PAY_1'] = 0\n",
        "df.loc[df.PAY_1 == -1, 'PAY_1'] = 0\n",
        "df.loc[df.PAY_2 == -2, 'PAY_2'] = 0\n",
        "df.loc[df.PAY_2 == -1, 'PAY_2'] = 0\n",
        "df.loc[df.PAY_3 == -2, 'PAY_3'] = 0\n",
        "df.loc[df.PAY_3 == -1, 'PAY_3'] = 0\n",
        "df.loc[df.PAY_4 == -2, 'PAY_4'] = 0\n",
        "df.loc[df.PAY_4 == -1, 'PAY_4'] = 0\n",
        "df.loc[df.PAY_5 == -2, 'PAY_5'] = 0\n",
        "df.loc[df.PAY_5 == -1, 'PAY_5'] = 0\n",
        "df.loc[df.PAY_6 == -2, 'PAY_6'] = 0\n",
        "df.loc[df.PAY_6 == -1, 'PAY_6'] = 0"
      ],
      "execution_count": 14,
      "outputs": []
    },
    {
      "cell_type": "markdown",
      "metadata": {
        "id": "tJchW4XQnBjB",
        "colab_type": "text"
      },
      "source": [
        "I am going to group the label `MARRIAGE = 0` (that is undocumented) with `MARRAIAGE = 3` (others). "
      ]
    },
    {
      "cell_type": "code",
      "metadata": {
        "id": "-kkTXptel-pk",
        "colab_type": "code",
        "colab": {
          "base_uri": "https://localhost:8080/",
          "height": 84
        },
        "outputId": "be17707e-6e34-4f0a-a40c-60f96105435f"
      },
      "source": [
        "df.loc[df.MARRIAGE == 0, 'MARRIAGE'] = 3\n",
        "df.MARRIAGE.value_counts()"
      ],
      "execution_count": 15,
      "outputs": [
        {
          "output_type": "execute_result",
          "data": {
            "text/plain": [
              "2    15964\n",
              "1    13659\n",
              "3      377\n",
              "Name: MARRIAGE, dtype: int64"
            ]
          },
          "metadata": {
            "tags": []
          },
          "execution_count": 15
        }
      ]
    },
    {
      "cell_type": "markdown",
      "metadata": {
        "id": "Qg7z2JIUnQo8",
        "colab_type": "text"
      },
      "source": [
        "And I'll do the same with `EDUCATION = 0` (undocumented), `EDUCATION = 5` (unknown), and `EDUCATION = 6` (also unknown). I am going to group all this labels in `EDUCATION = 4` (others)."
      ]
    },
    {
      "cell_type": "code",
      "metadata": {
        "id": "dznQVkSzmRyW",
        "colab_type": "code",
        "colab": {
          "base_uri": "https://localhost:8080/",
          "height": 101
        },
        "outputId": "7fe1e9be-81ab-4908-82e2-fd7a31c72f32"
      },
      "source": [
        "df.loc[(df.EDUCATION == 0) | (df.EDUCATION == 5) | (df.EDUCATION == 6),\n",
        "       'EDUCATION'] = 4\n",
        "df.EDUCATION.value_counts()"
      ],
      "execution_count": 16,
      "outputs": [
        {
          "output_type": "execute_result",
          "data": {
            "text/plain": [
              "2    14030\n",
              "1    10585\n",
              "3     4917\n",
              "4      468\n",
              "Name: EDUCATION, dtype: int64"
            ]
          },
          "metadata": {
            "tags": []
          },
          "execution_count": 16
        }
      ]
    },
    {
      "cell_type": "markdown",
      "metadata": {
        "id": "r0vGzg7LUSKs",
        "colab_type": "text"
      },
      "source": [
        "# Exploratory Data Analysis"
      ]
    },
    {
      "cell_type": "markdown",
      "metadata": {
        "id": "HKExF6eB3Bbs",
        "colab_type": "text"
      },
      "source": [
        "### Shape and quick look to the dataset"
      ]
    },
    {
      "cell_type": "code",
      "metadata": {
        "id": "69u1ZfiAUPNb",
        "colab_type": "code",
        "colab": {
          "base_uri": "https://localhost:8080/",
          "height": 34
        },
        "outputId": "1d5359e3-f87e-4b16-c2dc-c79a6374d3fc"
      },
      "source": [
        "df.shape"
      ],
      "execution_count": 40,
      "outputs": [
        {
          "output_type": "execute_result",
          "data": {
            "text/plain": [
              "(30000, 25)"
            ]
          },
          "metadata": {
            "tags": []
          },
          "execution_count": 40
        }
      ]
    },
    {
      "cell_type": "code",
      "metadata": {
        "id": "IRNlN3plRsMj",
        "colab_type": "code",
        "colab": {
          "base_uri": "https://localhost:8080/",
          "height": 393
        },
        "outputId": "573c3582-dbf9-4565-a16c-6882491d18c7"
      },
      "source": [
        "df.head(10) "
      ],
      "execution_count": 41,
      "outputs": [
        {
          "output_type": "execute_result",
          "data": {
            "text/html": [
              "<div>\n",
              "<style scoped>\n",
              "    .dataframe tbody tr th:only-of-type {\n",
              "        vertical-align: middle;\n",
              "    }\n",
              "\n",
              "    .dataframe tbody tr th {\n",
              "        vertical-align: top;\n",
              "    }\n",
              "\n",
              "    .dataframe thead th {\n",
              "        text-align: right;\n",
              "    }\n",
              "</style>\n",
              "<table border=\"1\" class=\"dataframe\">\n",
              "  <thead>\n",
              "    <tr style=\"text-align: right;\">\n",
              "      <th></th>\n",
              "      <th>LIMIT_BAL</th>\n",
              "      <th>SEX</th>\n",
              "      <th>EDUCATION</th>\n",
              "      <th>MARRIAGE</th>\n",
              "      <th>AGE</th>\n",
              "      <th>PAY_1</th>\n",
              "      <th>PAY_2</th>\n",
              "      <th>PAY_3</th>\n",
              "      <th>PAY_4</th>\n",
              "      <th>PAY_5</th>\n",
              "      <th>PAY_6</th>\n",
              "      <th>BILL_AMT1</th>\n",
              "      <th>BILL_AMT2</th>\n",
              "      <th>BILL_AMT3</th>\n",
              "      <th>BILL_AMT4</th>\n",
              "      <th>BILL_AMT5</th>\n",
              "      <th>BILL_AMT6</th>\n",
              "      <th>PAY_AMT1</th>\n",
              "      <th>PAY_AMT2</th>\n",
              "      <th>PAY_AMT3</th>\n",
              "      <th>PAY_AMT4</th>\n",
              "      <th>PAY_AMT5</th>\n",
              "      <th>PAY_AMT6</th>\n",
              "      <th>default</th>\n",
              "      <th>AGE_BIN</th>\n",
              "    </tr>\n",
              "    <tr>\n",
              "      <th>ID</th>\n",
              "      <th></th>\n",
              "      <th></th>\n",
              "      <th></th>\n",
              "      <th></th>\n",
              "      <th></th>\n",
              "      <th></th>\n",
              "      <th></th>\n",
              "      <th></th>\n",
              "      <th></th>\n",
              "      <th></th>\n",
              "      <th></th>\n",
              "      <th></th>\n",
              "      <th></th>\n",
              "      <th></th>\n",
              "      <th></th>\n",
              "      <th></th>\n",
              "      <th></th>\n",
              "      <th></th>\n",
              "      <th></th>\n",
              "      <th></th>\n",
              "      <th></th>\n",
              "      <th></th>\n",
              "      <th></th>\n",
              "      <th></th>\n",
              "      <th></th>\n",
              "    </tr>\n",
              "  </thead>\n",
              "  <tbody>\n",
              "    <tr>\n",
              "      <th>1</th>\n",
              "      <td>20000</td>\n",
              "      <td>2</td>\n",
              "      <td>2</td>\n",
              "      <td>1</td>\n",
              "      <td>24</td>\n",
              "      <td>2</td>\n",
              "      <td>2</td>\n",
              "      <td>0</td>\n",
              "      <td>0</td>\n",
              "      <td>0</td>\n",
              "      <td>0</td>\n",
              "      <td>3913</td>\n",
              "      <td>3102</td>\n",
              "      <td>689</td>\n",
              "      <td>0</td>\n",
              "      <td>0</td>\n",
              "      <td>0</td>\n",
              "      <td>0</td>\n",
              "      <td>689</td>\n",
              "      <td>0</td>\n",
              "      <td>0</td>\n",
              "      <td>0</td>\n",
              "      <td>0</td>\n",
              "      <td>1</td>\n",
              "      <td>1</td>\n",
              "    </tr>\n",
              "    <tr>\n",
              "      <th>2</th>\n",
              "      <td>120000</td>\n",
              "      <td>2</td>\n",
              "      <td>2</td>\n",
              "      <td>2</td>\n",
              "      <td>26</td>\n",
              "      <td>0</td>\n",
              "      <td>2</td>\n",
              "      <td>0</td>\n",
              "      <td>0</td>\n",
              "      <td>0</td>\n",
              "      <td>2</td>\n",
              "      <td>2682</td>\n",
              "      <td>1725</td>\n",
              "      <td>2682</td>\n",
              "      <td>3272</td>\n",
              "      <td>3455</td>\n",
              "      <td>3261</td>\n",
              "      <td>0</td>\n",
              "      <td>1000</td>\n",
              "      <td>1000</td>\n",
              "      <td>1000</td>\n",
              "      <td>0</td>\n",
              "      <td>2000</td>\n",
              "      <td>1</td>\n",
              "      <td>1</td>\n",
              "    </tr>\n",
              "    <tr>\n",
              "      <th>3</th>\n",
              "      <td>90000</td>\n",
              "      <td>2</td>\n",
              "      <td>2</td>\n",
              "      <td>2</td>\n",
              "      <td>34</td>\n",
              "      <td>0</td>\n",
              "      <td>0</td>\n",
              "      <td>0</td>\n",
              "      <td>0</td>\n",
              "      <td>0</td>\n",
              "      <td>0</td>\n",
              "      <td>29239</td>\n",
              "      <td>14027</td>\n",
              "      <td>13559</td>\n",
              "      <td>14331</td>\n",
              "      <td>14948</td>\n",
              "      <td>15549</td>\n",
              "      <td>1518</td>\n",
              "      <td>1500</td>\n",
              "      <td>1000</td>\n",
              "      <td>1000</td>\n",
              "      <td>1000</td>\n",
              "      <td>5000</td>\n",
              "      <td>0</td>\n",
              "      <td>3</td>\n",
              "    </tr>\n",
              "    <tr>\n",
              "      <th>4</th>\n",
              "      <td>50000</td>\n",
              "      <td>2</td>\n",
              "      <td>2</td>\n",
              "      <td>1</td>\n",
              "      <td>37</td>\n",
              "      <td>0</td>\n",
              "      <td>0</td>\n",
              "      <td>0</td>\n",
              "      <td>0</td>\n",
              "      <td>0</td>\n",
              "      <td>0</td>\n",
              "      <td>46990</td>\n",
              "      <td>48233</td>\n",
              "      <td>49291</td>\n",
              "      <td>28314</td>\n",
              "      <td>28959</td>\n",
              "      <td>29547</td>\n",
              "      <td>2000</td>\n",
              "      <td>2019</td>\n",
              "      <td>1200</td>\n",
              "      <td>1100</td>\n",
              "      <td>1069</td>\n",
              "      <td>1000</td>\n",
              "      <td>0</td>\n",
              "      <td>3</td>\n",
              "    </tr>\n",
              "    <tr>\n",
              "      <th>5</th>\n",
              "      <td>50000</td>\n",
              "      <td>1</td>\n",
              "      <td>2</td>\n",
              "      <td>1</td>\n",
              "      <td>57</td>\n",
              "      <td>0</td>\n",
              "      <td>0</td>\n",
              "      <td>0</td>\n",
              "      <td>0</td>\n",
              "      <td>0</td>\n",
              "      <td>0</td>\n",
              "      <td>8617</td>\n",
              "      <td>5670</td>\n",
              "      <td>35835</td>\n",
              "      <td>20940</td>\n",
              "      <td>19146</td>\n",
              "      <td>19131</td>\n",
              "      <td>2000</td>\n",
              "      <td>36681</td>\n",
              "      <td>10000</td>\n",
              "      <td>9000</td>\n",
              "      <td>689</td>\n",
              "      <td>679</td>\n",
              "      <td>0</td>\n",
              "      <td>5</td>\n",
              "    </tr>\n",
              "    <tr>\n",
              "      <th>6</th>\n",
              "      <td>50000</td>\n",
              "      <td>1</td>\n",
              "      <td>1</td>\n",
              "      <td>2</td>\n",
              "      <td>37</td>\n",
              "      <td>0</td>\n",
              "      <td>0</td>\n",
              "      <td>0</td>\n",
              "      <td>0</td>\n",
              "      <td>0</td>\n",
              "      <td>0</td>\n",
              "      <td>64400</td>\n",
              "      <td>57069</td>\n",
              "      <td>57608</td>\n",
              "      <td>19394</td>\n",
              "      <td>19619</td>\n",
              "      <td>20024</td>\n",
              "      <td>2500</td>\n",
              "      <td>1815</td>\n",
              "      <td>657</td>\n",
              "      <td>1000</td>\n",
              "      <td>1000</td>\n",
              "      <td>800</td>\n",
              "      <td>0</td>\n",
              "      <td>3</td>\n",
              "    </tr>\n",
              "    <tr>\n",
              "      <th>7</th>\n",
              "      <td>500000</td>\n",
              "      <td>1</td>\n",
              "      <td>1</td>\n",
              "      <td>2</td>\n",
              "      <td>29</td>\n",
              "      <td>0</td>\n",
              "      <td>0</td>\n",
              "      <td>0</td>\n",
              "      <td>0</td>\n",
              "      <td>0</td>\n",
              "      <td>0</td>\n",
              "      <td>367965</td>\n",
              "      <td>412023</td>\n",
              "      <td>445007</td>\n",
              "      <td>542653</td>\n",
              "      <td>483003</td>\n",
              "      <td>473944</td>\n",
              "      <td>55000</td>\n",
              "      <td>40000</td>\n",
              "      <td>38000</td>\n",
              "      <td>20239</td>\n",
              "      <td>13750</td>\n",
              "      <td>13770</td>\n",
              "      <td>0</td>\n",
              "      <td>2</td>\n",
              "    </tr>\n",
              "    <tr>\n",
              "      <th>8</th>\n",
              "      <td>100000</td>\n",
              "      <td>2</td>\n",
              "      <td>2</td>\n",
              "      <td>2</td>\n",
              "      <td>23</td>\n",
              "      <td>0</td>\n",
              "      <td>0</td>\n",
              "      <td>0</td>\n",
              "      <td>0</td>\n",
              "      <td>0</td>\n",
              "      <td>0</td>\n",
              "      <td>11876</td>\n",
              "      <td>380</td>\n",
              "      <td>601</td>\n",
              "      <td>221</td>\n",
              "      <td>-159</td>\n",
              "      <td>567</td>\n",
              "      <td>380</td>\n",
              "      <td>601</td>\n",
              "      <td>0</td>\n",
              "      <td>581</td>\n",
              "      <td>1687</td>\n",
              "      <td>1542</td>\n",
              "      <td>0</td>\n",
              "      <td>1</td>\n",
              "    </tr>\n",
              "    <tr>\n",
              "      <th>9</th>\n",
              "      <td>140000</td>\n",
              "      <td>2</td>\n",
              "      <td>3</td>\n",
              "      <td>1</td>\n",
              "      <td>28</td>\n",
              "      <td>0</td>\n",
              "      <td>0</td>\n",
              "      <td>2</td>\n",
              "      <td>0</td>\n",
              "      <td>0</td>\n",
              "      <td>0</td>\n",
              "      <td>11285</td>\n",
              "      <td>14096</td>\n",
              "      <td>12108</td>\n",
              "      <td>12211</td>\n",
              "      <td>11793</td>\n",
              "      <td>3719</td>\n",
              "      <td>3329</td>\n",
              "      <td>0</td>\n",
              "      <td>432</td>\n",
              "      <td>1000</td>\n",
              "      <td>1000</td>\n",
              "      <td>1000</td>\n",
              "      <td>0</td>\n",
              "      <td>2</td>\n",
              "    </tr>\n",
              "    <tr>\n",
              "      <th>10</th>\n",
              "      <td>20000</td>\n",
              "      <td>1</td>\n",
              "      <td>3</td>\n",
              "      <td>2</td>\n",
              "      <td>35</td>\n",
              "      <td>0</td>\n",
              "      <td>0</td>\n",
              "      <td>0</td>\n",
              "      <td>0</td>\n",
              "      <td>0</td>\n",
              "      <td>0</td>\n",
              "      <td>0</td>\n",
              "      <td>0</td>\n",
              "      <td>0</td>\n",
              "      <td>0</td>\n",
              "      <td>13007</td>\n",
              "      <td>13912</td>\n",
              "      <td>0</td>\n",
              "      <td>0</td>\n",
              "      <td>0</td>\n",
              "      <td>13007</td>\n",
              "      <td>1122</td>\n",
              "      <td>0</td>\n",
              "      <td>0</td>\n",
              "      <td>3</td>\n",
              "    </tr>\n",
              "  </tbody>\n",
              "</table>\n",
              "</div>"
            ],
            "text/plain": [
              "    LIMIT_BAL  SEX  EDUCATION  MARRIAGE  ...  PAY_AMT5  PAY_AMT6  default  AGE_BIN\n",
              "ID                                       ...                                      \n",
              "1       20000    2          2         1  ...         0         0        1        1\n",
              "2      120000    2          2         2  ...         0      2000        1        1\n",
              "3       90000    2          2         2  ...      1000      5000        0        3\n",
              "4       50000    2          2         1  ...      1069      1000        0        3\n",
              "5       50000    1          2         1  ...       689       679        0        5\n",
              "6       50000    1          1         2  ...      1000       800        0        3\n",
              "7      500000    1          1         2  ...     13750     13770        0        2\n",
              "8      100000    2          2         2  ...      1687      1542        0        1\n",
              "9      140000    2          3         1  ...      1000      1000        0        2\n",
              "10      20000    1          3         2  ...      1122         0        0        3\n",
              "\n",
              "[10 rows x 25 columns]"
            ]
          },
          "metadata": {
            "tags": []
          },
          "execution_count": 41
        }
      ]
    },
    {
      "cell_type": "code",
      "metadata": {
        "id": "-mvHXBoHUVfi",
        "colab_type": "code",
        "colab": {
          "base_uri": "https://localhost:8080/",
          "height": 554
        },
        "outputId": "e503c230-1f37-42af-b05a-f295f5d57a9a"
      },
      "source": [
        "df.info()"
      ],
      "execution_count": 42,
      "outputs": [
        {
          "output_type": "stream",
          "text": [
            "<class 'pandas.core.frame.DataFrame'>\n",
            "Int64Index: 30000 entries, 1 to 30000\n",
            "Data columns (total 25 columns):\n",
            " #   Column     Non-Null Count  Dtype   \n",
            "---  ------     --------------  -----   \n",
            " 0   LIMIT_BAL  30000 non-null  int64   \n",
            " 1   SEX        30000 non-null  int64   \n",
            " 2   EDUCATION  30000 non-null  int64   \n",
            " 3   MARRIAGE   30000 non-null  int64   \n",
            " 4   AGE        30000 non-null  int64   \n",
            " 5   PAY_1      30000 non-null  int64   \n",
            " 6   PAY_2      30000 non-null  int64   \n",
            " 7   PAY_3      30000 non-null  int64   \n",
            " 8   PAY_4      30000 non-null  int64   \n",
            " 9   PAY_5      30000 non-null  int64   \n",
            " 10  PAY_6      30000 non-null  int64   \n",
            " 11  BILL_AMT1  30000 non-null  int64   \n",
            " 12  BILL_AMT2  30000 non-null  int64   \n",
            " 13  BILL_AMT3  30000 non-null  int64   \n",
            " 14  BILL_AMT4  30000 non-null  int64   \n",
            " 15  BILL_AMT5  30000 non-null  int64   \n",
            " 16  BILL_AMT6  30000 non-null  int64   \n",
            " 17  PAY_AMT1   30000 non-null  int64   \n",
            " 18  PAY_AMT2   30000 non-null  int64   \n",
            " 19  PAY_AMT3   30000 non-null  int64   \n",
            " 20  PAY_AMT4   30000 non-null  int64   \n",
            " 21  PAY_AMT5   30000 non-null  int64   \n",
            " 22  PAY_AMT6   30000 non-null  int64   \n",
            " 23  default    30000 non-null  int64   \n",
            " 24  AGE_BIN    30000 non-null  category\n",
            "dtypes: category(1), int64(24)\n",
            "memory usage: 7.0 MB\n"
          ],
          "name": "stdout"
        }
      ]
    },
    {
      "cell_type": "markdown",
      "metadata": {
        "id": "AuoC2_H9273E",
        "colab_type": "text"
      },
      "source": [
        "### Correlation Matrix"
      ]
    },
    {
      "cell_type": "code",
      "metadata": {
        "id": "zVXtMGaliK5w",
        "colab_type": "code",
        "colab": {
          "base_uri": "https://localhost:8080/",
          "height": 437
        },
        "outputId": "7fa2e74f-5ffd-4149-dcc8-aada25956a0b"
      },
      "source": [
        "corr_matrix = df.corr()\n",
        "corr_matrix['default'].sort_values(ascending=False)"
      ],
      "execution_count": 43,
      "outputs": [
        {
          "output_type": "execute_result",
          "data": {
            "text/plain": [
              "default      1.000000\n",
              "PAY_1        0.396019\n",
              "PAY_2        0.327093\n",
              "PAY_3        0.286999\n",
              "PAY_4        0.269055\n",
              "PAY_5        0.260850\n",
              "PAY_6        0.244437\n",
              "EDUCATION    0.033842\n",
              "AGE          0.013890\n",
              "BILL_AMT6   -0.005372\n",
              "BILL_AMT5   -0.006760\n",
              "BILL_AMT4   -0.010156\n",
              "BILL_AMT3   -0.014076\n",
              "BILL_AMT2   -0.014193\n",
              "BILL_AMT1   -0.019644\n",
              "MARRIAGE    -0.027575\n",
              "SEX         -0.039961\n",
              "PAY_AMT6    -0.053183\n",
              "PAY_AMT5    -0.055124\n",
              "PAY_AMT3    -0.056250\n",
              "PAY_AMT4    -0.056827\n",
              "PAY_AMT2    -0.058579\n",
              "PAY_AMT1    -0.072929\n",
              "LIMIT_BAL   -0.153520\n",
              "Name: default, dtype: float64"
            ]
          },
          "metadata": {
            "tags": []
          },
          "execution_count": 43
        }
      ]
    },
    {
      "cell_type": "markdown",
      "metadata": {
        "id": "-ekvWAXM3RAT",
        "colab_type": "text"
      },
      "source": [
        "Heatmap of the correlation matrix:"
      ]
    },
    {
      "cell_type": "code",
      "metadata": {
        "id": "A0XeFsvk3QkI",
        "colab_type": "code",
        "colab": {
          "base_uri": "https://localhost:8080/",
          "height": 603
        },
        "outputId": "33da142f-f7a9-4ef5-a372-eb6cb2880ebb"
      },
      "source": [
        "mask = np.triu(np.ones_like(corr_matrix, dtype=np.bool))\n",
        "f, ax = plt.subplots(figsize=(11, 9))\n",
        "cmap = sns.diverging_palette(220, 10, as_cmap=True)\n",
        "sns.heatmap(corr_matrix, mask=mask, cmap=cmap, vmax=.3, center=0,\n",
        "            square=True, linewidths=.5, cbar_kws={\"shrink\": .5})"
      ],
      "execution_count": 44,
      "outputs": [
        {
          "output_type": "execute_result",
          "data": {
            "text/plain": [
              "<matplotlib.axes._subplots.AxesSubplot at 0x7f85aac39c88>"
            ]
          },
          "metadata": {
            "tags": []
          },
          "execution_count": 44
        },
        {
          "output_type": "display_data",
          "data": {
            "image/png": "[encoded data removed]",
            "text/plain": [
              "<Figure size 792x648 with 2 Axes>"
            ]
          },
          "metadata": {
            "tags": [],
            "needs_background": "light"
          }
        }
      ]
    },
    {
      "cell_type": "markdown",
      "metadata": {
        "id": "8a4M6OwDg3Wl",
        "colab_type": "text"
      },
      "source": [
        "## Feature Exploration"
      ]
    },
    {
      "cell_type": "markdown",
      "metadata": {
        "id": "mODW7-KBiv_a",
        "colab_type": "text"
      },
      "source": [
        "### Description of categorical features:"
      ]
    },
    {
      "cell_type": "markdown",
      "metadata": {
        "id": "UTRClo5zizM7",
        "colab_type": "text"
      },
      "source": [
        "Here, I have to count the values of every categorical variabel (SEX, AGE, EDUCATION and MARRIAGE)."
      ]
    },
    {
      "cell_type": "markdown",
      "metadata": {
        "id": "PtMh1uZO1i_c",
        "colab_type": "text"
      },
      "source": [
        "#### Gender"
      ]
    },
    {
      "cell_type": "markdown",
      "metadata": {
        "id": "mWGPbAQRFiQ0",
        "colab_type": "text"
      },
      "source": [
        "* 1 corresponds to MEN.\n",
        "* 2 corresponds to WOMEN."
      ]
    },
    {
      "cell_type": "markdown",
      "metadata": {
        "id": "O2aDdnrRDnX0",
        "colab_type": "text"
      },
      "source": [
        "Value counts:"
      ]
    },
    {
      "cell_type": "code",
      "metadata": {
        "id": "mTUM2ivgDpGG",
        "colab_type": "code",
        "colab": {
          "base_uri": "https://localhost:8080/",
          "height": 101
        },
        "outputId": "fd3eae32-7a5f-478d-fe68-ff0f306d63dc"
      },
      "source": [
        "print(df.SEX.value_counts(), '\\n')\n",
        "print('Women are the', (sum(df.SEX == 2) * 100 / 30000), '% of the samples.')"
      ],
      "execution_count": 45,
      "outputs": [
        {
          "output_type": "stream",
          "text": [
            "2    18112\n",
            "1    11888\n",
            "Name: SEX, dtype: int64 \n",
            "\n",
            "Women are the 60.373333333333335 % of the samples.\n"
          ],
          "name": "stdout"
        }
      ]
    },
    {
      "cell_type": "markdown",
      "metadata": {
        "id": "FrlR3UtOzn-m",
        "colab_type": "text"
      },
      "source": [
        "Default probabilities according to the gender of the clients:"
      ]
    },
    {
      "cell_type": "code",
      "metadata": {
        "id": "WPf3J1VjzaVc",
        "colab_type": "code",
        "colab": {
          "base_uri": "https://localhost:8080/",
          "height": 293
        },
        "outputId": "a64c95b2-18ea-4d86-b463-eb90369678ea"
      },
      "source": [
        "gender = df.groupby(['SEX', 'default']).size().unstack(1)\n",
        "gender.plot(kind='bar', stacked = True)"
      ],
      "execution_count": 46,
      "outputs": [
        {
          "output_type": "execute_result",
          "data": {
            "text/plain": [
              "<matplotlib.axes._subplots.AxesSubplot at 0x7f85aabc1828>"
            ]
          },
          "metadata": {
            "tags": []
          },
          "execution_count": 46
        },
        {
          "output_type": "display_data",
          "data": {
            "image/png": "[encoded data removed]",
            "text/plain": [
              "<Figure size 432x288 with 1 Axes>"
            ]
          },
          "metadata": {
            "tags": [],
            "needs_background": "light"
          }
        }
      ]
    },
    {
      "cell_type": "code",
      "metadata": {
        "id": "fBs2wgG00Vpk",
        "colab_type": "code",
        "colab": {
          "base_uri": "https://localhost:8080/",
          "height": 136
        },
        "outputId": "d57eade4-d5f6-46f6-d550-8f605cd73b03"
      },
      "source": [
        "gender['probability'] = (gender[1]/(gender[0] + gender[1]))\n",
        "gender"
      ],
      "execution_count": 47,
      "outputs": [
        {
          "output_type": "execute_result",
          "data": {
            "text/html": [
              "<div>\n",
              "<style scoped>\n",
              "    .dataframe tbody tr th:only-of-type {\n",
              "        vertical-align: middle;\n",
              "    }\n",
              "\n",
              "    .dataframe tbody tr th {\n",
              "        vertical-align: top;\n",
              "    }\n",
              "\n",
              "    .dataframe thead th {\n",
              "        text-align: right;\n",
              "    }\n",
              "</style>\n",
              "<table border=\"1\" class=\"dataframe\">\n",
              "  <thead>\n",
              "    <tr style=\"text-align: right;\">\n",
              "      <th>default</th>\n",
              "      <th>0</th>\n",
              "      <th>1</th>\n",
              "      <th>probability</th>\n",
              "    </tr>\n",
              "    <tr>\n",
              "      <th>SEX</th>\n",
              "      <th></th>\n",
              "      <th></th>\n",
              "      <th></th>\n",
              "    </tr>\n",
              "  </thead>\n",
              "  <tbody>\n",
              "    <tr>\n",
              "      <th>1</th>\n",
              "      <td>9015</td>\n",
              "      <td>2873</td>\n",
              "      <td>0.241672</td>\n",
              "    </tr>\n",
              "    <tr>\n",
              "      <th>2</th>\n",
              "      <td>14349</td>\n",
              "      <td>3763</td>\n",
              "      <td>0.207763</td>\n",
              "    </tr>\n",
              "  </tbody>\n",
              "</table>\n",
              "</div>"
            ],
            "text/plain": [
              "default      0     1  probability\n",
              "SEX                              \n",
              "1         9015  2873     0.241672\n",
              "2        14349  3763     0.207763"
            ]
          },
          "metadata": {
            "tags": []
          },
          "execution_count": 47
        }
      ]
    },
    {
      "cell_type": "markdown",
      "metadata": {
        "id": "-ZpwzAk42grJ",
        "colab_type": "text"
      },
      "source": [
        "We can see that men are 20 % more likely to default than women."
      ]
    },
    {
      "cell_type": "markdown",
      "metadata": {
        "id": "KDphFqLrJ6gf",
        "colab_type": "text"
      },
      "source": [
        "\n",
        "\n",
        "---\n",
        "\n"
      ]
    },
    {
      "cell_type": "markdown",
      "metadata": {
        "id": "_ZmC8WmT1m6C",
        "colab_type": "text"
      },
      "source": [
        "#### Education"
      ]
    },
    {
      "cell_type": "markdown",
      "metadata": {
        "id": "oaWEC7dNGRAr",
        "colab_type": "text"
      },
      "source": [
        "* 1 corresponds to school graduated.\n",
        "* 2 corresponds to university graduated.\n",
        "* 3 corresponds to high school graduated.\n",
        "* 4 corresponds to others."
      ]
    },
    {
      "cell_type": "markdown",
      "metadata": {
        "id": "0sQqSDarF1WI",
        "colab_type": "text"
      },
      "source": [
        "Value counts:"
      ]
    },
    {
      "cell_type": "code",
      "metadata": {
        "id": "rIA-GrbzF4aA",
        "colab_type": "code",
        "colab": {
          "base_uri": "https://localhost:8080/",
          "height": 0
        },
        "outputId": "db9a2e30-d8a4-4399-fff9-e1faf2cb3c77"
      },
      "source": [
        "print(df.EDUCATION.value_counts(), '\\n')\n",
        "print('The', (sum(df.EDUCATION == 1) * 100 / 30000), \n",
        "      '% of the clients are school graduates.')\n",
        "print('The', (sum(df.EDUCATION == 2) * 100 / 30000), \n",
        "      '% of the clients are university graduates.')\n",
        "print('The', (sum(df.EDUCATION == 3) * 100 / 30000), \n",
        "      '% of the clients are high school graduates.')\n",
        "print('The', (sum(df.EDUCATION == 4) * 100 / 30000), \n",
        "      '% of the clients have other education level.')"
      ],
      "execution_count": 48,
      "outputs": [
        {
          "output_type": "stream",
          "text": [
            "2    14030\n",
            "1    10585\n",
            "3     4917\n",
            "4      468\n",
            "Name: EDUCATION, dtype: int64 \n",
            "\n",
            "The 35.28333333333333 % of the clients are school graduates.\n",
            "The 46.766666666666666 % of the clients are university graduates.\n",
            "The 16.39 % of the clients are high school graduates.\n",
            "The 1.56 % of the clients have other education level.\n"
          ],
          "name": "stdout"
        }
      ]
    },
    {
      "cell_type": "markdown",
      "metadata": {
        "id": "jNVuwMhTF2gv",
        "colab_type": "text"
      },
      "source": [
        "Default probabilities according to education of the clients:"
      ]
    },
    {
      "cell_type": "code",
      "metadata": {
        "id": "nhTZU2PC0DUa",
        "colab_type": "code",
        "colab": {
          "base_uri": "https://localhost:8080/",
          "height": 0
        },
        "outputId": "9520950a-5abb-42f0-9d7e-3ac414900461"
      },
      "source": [
        "default_by_education = df.groupby(['EDUCATION', 'default']).size().unstack(1)\n",
        "default_by_education.plot(kind='bar', stacked = True)"
      ],
      "execution_count": 49,
      "outputs": [
        {
          "output_type": "execute_result",
          "data": {
            "text/plain": [
              "<matplotlib.axes._subplots.AxesSubplot at 0x7f85aa502860>"
            ]
          },
          "metadata": {
            "tags": []
          },
          "execution_count": 49
        },
        {
          "output_type": "display_data",
          "data": {
            "image/png": "[encoded data removed]",
            "text/plain": [
              "<Figure size 432x288 with 1 Axes>"
            ]
          },
          "metadata": {
            "tags": [],
            "needs_background": "light"
          }
        }
      ]
    },
    {
      "cell_type": "code",
      "metadata": {
        "id": "NwxRl86z0-Nz",
        "colab_type": "code",
        "colab": {
          "base_uri": "https://localhost:8080/",
          "height": 0
        },
        "outputId": "57d24510-4478-4775-8f1a-ef6a8f0535fd"
      },
      "source": [
        "default_by_education['probability'] = (default_by_education[1]/\n",
        "                                      (default_by_education[0] +\n",
        "                                       default_by_education[1]))\n",
        "default_by_education"
      ],
      "execution_count": 50,
      "outputs": [
        {
          "output_type": "execute_result",
          "data": {
            "text/html": [
              "<div>\n",
              "<style scoped>\n",
              "    .dataframe tbody tr th:only-of-type {\n",
              "        vertical-align: middle;\n",
              "    }\n",
              "\n",
              "    .dataframe tbody tr th {\n",
              "        vertical-align: top;\n",
              "    }\n",
              "\n",
              "    .dataframe thead th {\n",
              "        text-align: right;\n",
              "    }\n",
              "</style>\n",
              "<table border=\"1\" class=\"dataframe\">\n",
              "  <thead>\n",
              "    <tr style=\"text-align: right;\">\n",
              "      <th>default</th>\n",
              "      <th>0</th>\n",
              "      <th>1</th>\n",
              "      <th>probability</th>\n",
              "    </tr>\n",
              "    <tr>\n",
              "      <th>EDUCATION</th>\n",
              "      <th></th>\n",
              "      <th></th>\n",
              "      <th></th>\n",
              "    </tr>\n",
              "  </thead>\n",
              "  <tbody>\n",
              "    <tr>\n",
              "      <th>1</th>\n",
              "      <td>8549</td>\n",
              "      <td>2036</td>\n",
              "      <td>0.192348</td>\n",
              "    </tr>\n",
              "    <tr>\n",
              "      <th>2</th>\n",
              "      <td>10700</td>\n",
              "      <td>3330</td>\n",
              "      <td>0.237349</td>\n",
              "    </tr>\n",
              "    <tr>\n",
              "      <th>3</th>\n",
              "      <td>3680</td>\n",
              "      <td>1237</td>\n",
              "      <td>0.251576</td>\n",
              "    </tr>\n",
              "    <tr>\n",
              "      <th>4</th>\n",
              "      <td>435</td>\n",
              "      <td>33</td>\n",
              "      <td>0.070513</td>\n",
              "    </tr>\n",
              "  </tbody>\n",
              "</table>\n",
              "</div>"
            ],
            "text/plain": [
              "default        0     1  probability\n",
              "EDUCATION                          \n",
              "1           8549  2036     0.192348\n",
              "2          10700  3330     0.237349\n",
              "3           3680  1237     0.251576\n",
              "4            435    33     0.070513"
            ]
          },
          "metadata": {
            "tags": []
          },
          "execution_count": 50
        }
      ]
    },
    {
      "cell_type": "markdown",
      "metadata": {
        "id": "6OWLrsNQJVWf",
        "colab_type": "text"
      },
      "source": [
        "Surprisingly, we can see that clients that only completed high school are more likely to default than university graduates."
      ]
    },
    {
      "cell_type": "markdown",
      "metadata": {
        "id": "dz6KnbLqJ4Gi",
        "colab_type": "text"
      },
      "source": [
        "\n",
        "\n",
        "---\n",
        "\n"
      ]
    },
    {
      "cell_type": "markdown",
      "metadata": {
        "id": "k6wQzcfo1pJh",
        "colab_type": "text"
      },
      "source": [
        "#### Marriage"
      ]
    },
    {
      "cell_type": "markdown",
      "metadata": {
        "id": "9b4VdLC4HoP2",
        "colab_type": "text"
      },
      "source": [
        "\n",
        "* 1 corresponds to married clients.\n",
        "* 2 corresponds to single clients.\n",
        "* 3 corresponds to clients with other marital status."
      ]
    },
    {
      "cell_type": "markdown",
      "metadata": {
        "id": "QlRQqvSXHmmW",
        "colab_type": "text"
      },
      "source": [
        "Value counts:"
      ]
    },
    {
      "cell_type": "code",
      "metadata": {
        "id": "fsRaX9C8Hl2E",
        "colab_type": "code",
        "colab": {
          "base_uri": "https://localhost:8080/",
          "height": 0
        },
        "outputId": "bd8b9d19-2811-48c2-b920-e3d4063f52c6"
      },
      "source": [
        "print(df.MARRIAGE.value_counts(), '\\n')\n",
        "print('The', (sum(df.MARRIAGE == 1) * 100 / 30000), \n",
        "      '% of the clients are married.')\n",
        "print('The', (sum(df.MARRIAGE == 2) * 100 / 30000), \n",
        "      '% of the clients are single.')\n",
        "print('The', (sum(df.MARRIAGE == 3) * 100 / 30000), \n",
        "      '% of the clients have other marital status.')"
      ],
      "execution_count": 51,
      "outputs": [
        {
          "output_type": "stream",
          "text": [
            "2    15964\n",
            "1    13659\n",
            "3      377\n",
            "Name: MARRIAGE, dtype: int64 \n",
            "\n",
            "The 45.53 % of the clients are married.\n",
            "The 53.21333333333333 % of the clients are single.\n",
            "The 1.2566666666666666 % of the clients have other marital status.\n"
          ],
          "name": "stdout"
        }
      ]
    },
    {
      "cell_type": "markdown",
      "metadata": {
        "id": "L_wFMBntHbkR",
        "colab_type": "text"
      },
      "source": [
        "Default probabilities according to the marital status of the clients:"
      ]
    },
    {
      "cell_type": "code",
      "metadata": {
        "id": "7uJQfYEd1Skj",
        "colab_type": "code",
        "colab": {
          "base_uri": "https://localhost:8080/",
          "height": 0
        },
        "outputId": "525acb73-64ac-4cc5-e98c-149c8d107934"
      },
      "source": [
        "default_marriage = df.groupby(['MARRIAGE', 'default']).size().unstack(1)\n",
        "default_marriage.plot(kind='bar', stacked = True)"
      ],
      "execution_count": 52,
      "outputs": [
        {
          "output_type": "execute_result",
          "data": {
            "text/plain": [
              "<matplotlib.axes._subplots.AxesSubplot at 0x7f85aaca4198>"
            ]
          },
          "metadata": {
            "tags": []
          },
          "execution_count": 52
        },
        {
          "output_type": "display_data",
          "data": {
            "image/png": "[encoded data removed]",
            "text/plain": [
              "<Figure size 432x288 with 1 Axes>"
            ]
          },
          "metadata": {
            "tags": [],
            "needs_background": "light"
          }
        }
      ]
    },
    {
      "cell_type": "code",
      "metadata": {
        "id": "fVpjQzGZ1VLW",
        "colab_type": "code",
        "colab": {
          "base_uri": "https://localhost:8080/",
          "height": 0
        },
        "outputId": "12195233-a2d6-4338-85fb-f74f74fe4198"
      },
      "source": [
        "default_marriage['probability'] = (default_marriage[1]/\n",
        "                                  (default_marriage[0] + \n",
        "                                   default_marriage[1]))\n",
        "default_marriage"
      ],
      "execution_count": 53,
      "outputs": [
        {
          "output_type": "execute_result",
          "data": {
            "text/html": [
              "<div>\n",
              "<style scoped>\n",
              "    .dataframe tbody tr th:only-of-type {\n",
              "        vertical-align: middle;\n",
              "    }\n",
              "\n",
              "    .dataframe tbody tr th {\n",
              "        vertical-align: top;\n",
              "    }\n",
              "\n",
              "    .dataframe thead th {\n",
              "        text-align: right;\n",
              "    }\n",
              "</style>\n",
              "<table border=\"1\" class=\"dataframe\">\n",
              "  <thead>\n",
              "    <tr style=\"text-align: right;\">\n",
              "      <th>default</th>\n",
              "      <th>0</th>\n",
              "      <th>1</th>\n",
              "      <th>probability</th>\n",
              "    </tr>\n",
              "    <tr>\n",
              "      <th>MARRIAGE</th>\n",
              "      <th></th>\n",
              "      <th></th>\n",
              "      <th></th>\n",
              "    </tr>\n",
              "  </thead>\n",
              "  <tbody>\n",
              "    <tr>\n",
              "      <th>1</th>\n",
              "      <td>10453</td>\n",
              "      <td>3206</td>\n",
              "      <td>0.234717</td>\n",
              "    </tr>\n",
              "    <tr>\n",
              "      <th>2</th>\n",
              "      <td>12623</td>\n",
              "      <td>3341</td>\n",
              "      <td>0.209283</td>\n",
              "    </tr>\n",
              "    <tr>\n",
              "      <th>3</th>\n",
              "      <td>288</td>\n",
              "      <td>89</td>\n",
              "      <td>0.236074</td>\n",
              "    </tr>\n",
              "  </tbody>\n",
              "</table>\n",
              "</div>"
            ],
            "text/plain": [
              "default       0     1  probability\n",
              "MARRIAGE                          \n",
              "1         10453  3206     0.234717\n",
              "2         12623  3341     0.209283\n",
              "3           288    89     0.236074"
            ]
          },
          "metadata": {
            "tags": []
          },
          "execution_count": 53
        }
      ]
    },
    {
      "cell_type": "markdown",
      "metadata": {
        "id": "84jKUOOvJH3-",
        "colab_type": "text"
      },
      "source": [
        "We can see that single clients have less probabilities of default than clients that are married or have other marital status."
      ]
    },
    {
      "cell_type": "markdown",
      "metadata": {
        "id": "luIantVqJ_Gi",
        "colab_type": "text"
      },
      "source": [
        "\n",
        "\n",
        "---\n",
        "\n"
      ]
    },
    {
      "cell_type": "markdown",
      "metadata": {
        "id": "nxDiuuHQg7D7",
        "colab_type": "text"
      },
      "source": [
        "### Numerical features"
      ]
    },
    {
      "cell_type": "markdown",
      "metadata": {
        "id": "IkGs0tH7QdvH",
        "colab_type": "text"
      },
      "source": [
        "#### Age"
      ]
    },
    {
      "cell_type": "code",
      "metadata": {
        "id": "iNk-o5pRQffI",
        "colab_type": "code",
        "colab": {
          "base_uri": "https://localhost:8080/",
          "height": 0
        },
        "outputId": "9a24f511-384b-4c56-a052-4015b6688d63"
      },
      "source": [
        "class_0 = df.loc[df['default'] == 0][\"AGE\"]\n",
        "class_1 = df.loc[df['default'] == 1][\"AGE\"]\n",
        "plt.figure(figsize = (20,10))\n",
        "plt.title('Distribution of Default Clients According to their age')\n",
        "sns.set_color_codes(\"pastel\")\n",
        "sns.distplot(class_1, kde=True, bins=200, color=\"red\", label='No Default')\n",
        "sns.distplot(class_0, kde=True, bins=200, color=\"blue\", label='Default')\n",
        "plt.legend()\n",
        "plt.show()"
      ],
      "execution_count": 54,
      "outputs": [
        {
          "output_type": "display_data",
          "data": {
            "image/png": "[encoded data removed]",
            "text/plain": [
              "<Figure size 1440x720 with 1 Axes>"
            ]
          },
          "metadata": {
            "tags": [],
            "needs_background": "light"
          }
        }
      ]
    },
    {
      "cell_type": "markdown",
      "metadata": {
        "id": "VWgcVsQk0uk5",
        "colab_type": "text"
      },
      "source": [
        "#### Billing Amount"
      ]
    },
    {
      "cell_type": "code",
      "metadata": {
        "id": "7DSlNMfZg5az",
        "colab_type": "code",
        "colab": {
          "base_uri": "https://localhost:8080/",
          "height": 0
        },
        "outputId": "8b2e4312-a32c-4376-995c-cddae8c5f201"
      },
      "source": [
        "bills = df[['BILL_AMT1', 'BILL_AMT2', 'BILL_AMT3',\n",
        "            'BILL_AMT4', 'BILL_AMT5', 'BILL_AMT6']]\n",
        "\n",
        "bills.hist(bins=20, figsize=(10,10))\n",
        "plt.show()"
      ],
      "execution_count": 55,
      "outputs": [
        {
          "output_type": "display_data",
          "data": {
            "image/png": "[encoded data removed]",
            "text/plain": [
              "<Figure size 720x720 with 6 Axes>"
            ]
          },
          "metadata": {
            "tags": [],
            "needs_background": "light"
          }
        }
      ]
    },
    {
      "cell_type": "markdown",
      "metadata": {
        "id": "lZJJdPI-01xf",
        "colab_type": "text"
      },
      "source": [
        "#### Payment Amount"
      ]
    },
    {
      "cell_type": "code",
      "metadata": {
        "id": "UQ-wg6HyhYvi",
        "colab_type": "code",
        "colab": {
          "base_uri": "https://localhost:8080/",
          "height": 0
        },
        "outputId": "3ef69f24-791f-4488-cbae-a9728fcf8351"
      },
      "source": [
        "payments = df[['PAY_AMT1', 'PAY_AMT2', 'PAY_AMT3',\n",
        "               'PAY_AMT4', 'PAY_AMT5', 'PAY_AMT6']]\n",
        "payments.hist(bins=20, figsize=(10,10))\n",
        "plt.show()"
      ],
      "execution_count": 56,
      "outputs": [
        {
          "output_type": "display_data",
          "data": {
            "image/png": "[encoded data removed]",
            "text/plain": [
              "<Figure size 720x720 with 6 Axes>"
            ]
          },
          "metadata": {
            "tags": [],
            "needs_background": "light"
          }
        }
      ]
    },
    {
      "cell_type": "markdown",
      "metadata": {
        "id": "cP1KZWkn04x2",
        "colab_type": "text"
      },
      "source": [
        "#### Months Owed"
      ]
    },
    {
      "cell_type": "code",
      "metadata": {
        "id": "L6SA-ZfnhsVt",
        "colab_type": "code",
        "colab": {
          "base_uri": "https://localhost:8080/",
          "height": 0
        },
        "outputId": "63ceaf1f-5930-4a12-ec7c-775ec84985e3"
      },
      "source": [
        "late = df[['PAY_1', 'PAY_2', 'PAY_3',\n",
        "           'PAY_4', 'PAY_5', 'PAY_6']]\n",
        "\n",
        "late.hist(bins=20, figsize=(10,10))\n",
        "plt.show()"
      ],
      "execution_count": 57,
      "outputs": [
        {
          "output_type": "display_data",
          "data": {
            "image/png": "[encoded data removed]",
            "text/plain": [
              "<Figure size 720x720 with 6 Axes>"
            ]
          },
          "metadata": {
            "tags": [],
            "needs_background": "light"
          }
        }
      ]
    },
    {
      "cell_type": "markdown",
      "metadata": {
        "id": "hbBeqB_I1EQn",
        "colab_type": "text"
      },
      "source": [
        "#### Default According to Credit Limit"
      ]
    },
    {
      "cell_type": "code",
      "metadata": {
        "id": "7CxOrupf2aJ-",
        "colab_type": "code",
        "colab": {
          "base_uri": "https://localhost:8080/",
          "height": 0
        },
        "outputId": "029f457a-3ba2-4cc6-b183-606255b6db18"
      },
      "source": [
        "class_0 = df.loc[df['default'] == 0][\"LIMIT_BAL\"]\n",
        "class_1 = df.loc[df['default'] == 1][\"LIMIT_BAL\"]\n",
        "plt.figure(figsize = (20,10))\n",
        "plt.title('Distribution of Default Clients According to Credit Limit')\n",
        "sns.set_color_codes(\"pastel\")\n",
        "sns.distplot(class_1, kde=True, bins=200, color=\"red\", label='No Default')\n",
        "sns.distplot(class_0, kde=True, bins=200, color=\"blue\", label='Default')\n",
        "plt.legend()\n",
        "plt.show()"
      ],
      "execution_count": 58,
      "outputs": [
        {
          "output_type": "display_data",
          "data": {
            "image/png": "[encoded data removed]",
            "text/plain": [
              "<Figure size 1440x720 with 1 Axes>"
            ]
          },
          "metadata": {
            "tags": [],
            "needs_background": "light"
          }
        }
      ]
    },
    {
      "cell_type": "markdown",
      "metadata": {
        "id": "6g1BWNOWFkA6",
        "colab_type": "text"
      },
      "source": [
        "In this graph we can see that the proportion of defaults according to the credit limit starts to go up around the $10,000 limit (the bast majority is below this limit). Above that limit, more than the half of the clients end defaulting."
      ]
    },
    {
      "cell_type": "markdown",
      "metadata": {
        "id": "CVYhZGMWyBAn",
        "colab_type": "text"
      },
      "source": [
        "## Summary of the Exploratory Data Analysis"
      ]
    },
    {
      "cell_type": "markdown",
      "metadata": {
        "id": "-vKHo6DLyF1k",
        "colab_type": "text"
      },
      "source": [
        "* Male clients and those who only are high school graduates are more prone to default their credit card payments.\n",
        "* More than half of customers with a monthly limit of more than $ 10,000 ends up in default.\n",
        "* You might think that younger clients would be more likely to default, but the data shows that clients in their 30s are the most likely to default."
      ]
    },
    {
      "cell_type": "markdown",
      "metadata": {
        "id": "MOOYV1eNp2X4",
        "colab_type": "text"
      },
      "source": [
        "# Data Preprocessing"
      ]
    },
    {
      "cell_type": "markdown",
      "metadata": {
        "id": "wcP7_Ll2qgC1",
        "colab_type": "text"
      },
      "source": [
        "The preprocessing of the data is a very important step before pass it through algorithm. We need to adjust the features of our set so that the data representation is more suitable for these algorithms. For example, some machine learning algorithms, like Neural Networks and Support Vector Machines, are very sensitive to the scaling of the data."
      ]
    },
    {
      "cell_type": "markdown",
      "metadata": {
        "id": "F6hHUYn8Adoo",
        "colab_type": "text"
      },
      "source": [
        "### Age Bining"
      ]
    },
    {
      "cell_type": "markdown",
      "metadata": {
        "id": "wXNfS8AE_lLt",
        "colab_type": "text"
      },
      "source": [
        "Next, I'll bin the `age` feature so we have a good idea of to what age group every client belongs, but without having to deal with a lot of unique values."
      ]
    },
    {
      "cell_type": "code",
      "metadata": {
        "id": "uOtbH3du_n5D",
        "colab_type": "code",
        "colab": {
          "base_uri": "https://localhost:8080/",
          "height": 118
        },
        "outputId": "7d2e7774-75cf-4456-e7f5-9325769a2449"
      },
      "source": [
        "df['AGE_BIN'] = pd.qcut(df['AGE'], 5)\n",
        "df.AGE_BIN.value_counts()"
      ],
      "execution_count": 59,
      "outputs": [
        {
          "output_type": "execute_result",
          "data": {
            "text/plain": [
              "(31.0, 37.0]      6728\n",
              "(20.999, 27.0]    6604\n",
              "(43.0, 79.0]      5986\n",
              "(27.0, 31.0]      5626\n",
              "(37.0, 43.0]      5056\n",
              "Name: AGE_BIN, dtype: int64"
            ]
          },
          "metadata": {
            "tags": []
          },
          "execution_count": 59
        }
      ]
    },
    {
      "cell_type": "code",
      "metadata": {
        "id": "tVkKdULMAMnw",
        "colab_type": "code",
        "colab": {
          "base_uri": "https://localhost:8080/",
          "height": 284
        },
        "outputId": "33a02f7f-0694-45ba-ea1f-f6556b44e0b0"
      },
      "source": [
        "bins_names = [1, 2, 3, 4, 5]\n",
        "df['AGE_BIN'] = pd.qcut(df['AGE'], 5, labels=bins_names)\n",
        "df.AGE_BIN.hist()"
      ],
      "execution_count": 60,
      "outputs": [
        {
          "output_type": "execute_result",
          "data": {
            "text/plain": [
              "<matplotlib.axes._subplots.AxesSubplot at 0x7f85aaaea128>"
            ]
          },
          "metadata": {
            "tags": []
          },
          "execution_count": 60
        },
        {
          "output_type": "display_data",
          "data": {
            "image/png": "[encoded data removed]",
            "text/plain": [
              "<Figure size 432x288 with 1 Axes>"
            ]
          },
          "metadata": {
            "tags": [],
            "needs_background": "light"
          }
        }
      ]
    },
    {
      "cell_type": "markdown",
      "metadata": {
        "id": "Zi902JxQAkDB",
        "colab_type": "text"
      },
      "source": [
        "### Encoding Categorical Variables"
      ]
    },
    {
      "cell_type": "markdown",
      "metadata": {
        "id": "64DzbfCc9UYj",
        "colab_type": "text"
      },
      "source": [
        "I need to encode the categorical features (that in this case have a numerical value), because as they are categories they lack of order against each other."
      ]
    },
    {
      "cell_type": "code",
      "metadata": {
        "id": "PaKAjWKsE73J",
        "colab_type": "code",
        "colab": {
          "base_uri": "https://localhost:8080/",
          "height": 451
        },
        "outputId": "1fc60ffa-d853-4835-fc13-7882803135df"
      },
      "source": [
        "gender_dummies = pd.get_dummies(df.SEX, prefix='SEX')\n",
        "education_dummies = pd.get_dummies(df.EDUCATION, prefix='EDUCATION')\n",
        "marriage_dummies = pd.get_dummies(df.MARRIAGE, prefix='MARRIAGE')\n",
        "\n",
        "binned_df = df.join(gender_dummies).join(education_dummies).join(\n",
        "    marriage_dummies)\n",
        "\n",
        "binned_df = binned_df.drop(['SEX', 'EDUCATION', 'MARRIAGE'], axis=1)\n",
        "binned_df"
      ],
      "execution_count": 61,
      "outputs": [
        {
          "output_type": "execute_result",
          "data": {
            "text/html": [
              "<div>\n",
              "<style scoped>\n",
              "    .dataframe tbody tr th:only-of-type {\n",
              "        vertical-align: middle;\n",
              "    }\n",
              "\n",
              "    .dataframe tbody tr th {\n",
              "        vertical-align: top;\n",
              "    }\n",
              "\n",
              "    .dataframe thead th {\n",
              "        text-align: right;\n",
              "    }\n",
              "</style>\n",
              "<table border=\"1\" class=\"dataframe\">\n",
              "  <thead>\n",
              "    <tr style=\"text-align: right;\">\n",
              "      <th></th>\n",
              "      <th>LIMIT_BAL</th>\n",
              "      <th>AGE</th>\n",
              "      <th>PAY_1</th>\n",
              "      <th>PAY_2</th>\n",
              "      <th>PAY_3</th>\n",
              "      <th>PAY_4</th>\n",
              "      <th>PAY_5</th>\n",
              "      <th>PAY_6</th>\n",
              "      <th>BILL_AMT1</th>\n",
              "      <th>BILL_AMT2</th>\n",
              "      <th>BILL_AMT3</th>\n",
              "      <th>BILL_AMT4</th>\n",
              "      <th>BILL_AMT5</th>\n",
              "      <th>BILL_AMT6</th>\n",
              "      <th>PAY_AMT1</th>\n",
              "      <th>PAY_AMT2</th>\n",
              "      <th>PAY_AMT3</th>\n",
              "      <th>PAY_AMT4</th>\n",
              "      <th>PAY_AMT5</th>\n",
              "      <th>PAY_AMT6</th>\n",
              "      <th>default</th>\n",
              "      <th>AGE_BIN</th>\n",
              "      <th>SEX_1</th>\n",
              "      <th>SEX_2</th>\n",
              "      <th>EDUCATION_1</th>\n",
              "      <th>EDUCATION_2</th>\n",
              "      <th>EDUCATION_3</th>\n",
              "      <th>EDUCATION_4</th>\n",
              "      <th>MARRIAGE_1</th>\n",
              "      <th>MARRIAGE_2</th>\n",
              "      <th>MARRIAGE_3</th>\n",
              "    </tr>\n",
              "    <tr>\n",
              "      <th>ID</th>\n",
              "      <th></th>\n",
              "      <th></th>\n",
              "      <th></th>\n",
              "      <th></th>\n",
              "      <th></th>\n",
              "      <th></th>\n",
              "      <th></th>\n",
              "      <th></th>\n",
              "      <th></th>\n",
              "      <th></th>\n",
              "      <th></th>\n",
              "      <th></th>\n",
              "      <th></th>\n",
              "      <th></th>\n",
              "      <th></th>\n",
              "      <th></th>\n",
              "      <th></th>\n",
              "      <th></th>\n",
              "      <th></th>\n",
              "      <th></th>\n",
              "      <th></th>\n",
              "      <th></th>\n",
              "      <th></th>\n",
              "      <th></th>\n",
              "      <th></th>\n",
              "      <th></th>\n",
              "      <th></th>\n",
              "      <th></th>\n",
              "      <th></th>\n",
              "      <th></th>\n",
              "      <th></th>\n",
              "    </tr>\n",
              "  </thead>\n",
              "  <tbody>\n",
              "    <tr>\n",
              "      <th>1</th>\n",
              "      <td>20000</td>\n",
              "      <td>24</td>\n",
              "      <td>2</td>\n",
              "      <td>2</td>\n",
              "      <td>0</td>\n",
              "      <td>0</td>\n",
              "      <td>0</td>\n",
              "      <td>0</td>\n",
              "      <td>3913</td>\n",
              "      <td>3102</td>\n",
              "      <td>689</td>\n",
              "      <td>0</td>\n",
              "      <td>0</td>\n",
              "      <td>0</td>\n",
              "      <td>0</td>\n",
              "      <td>689</td>\n",
              "      <td>0</td>\n",
              "      <td>0</td>\n",
              "      <td>0</td>\n",
              "      <td>0</td>\n",
              "      <td>1</td>\n",
              "      <td>1</td>\n",
              "      <td>0</td>\n",
              "      <td>1</td>\n",
              "      <td>0</td>\n",
              "      <td>1</td>\n",
              "      <td>0</td>\n",
              "      <td>0</td>\n",
              "      <td>1</td>\n",
              "      <td>0</td>\n",
              "      <td>0</td>\n",
              "    </tr>\n",
              "    <tr>\n",
              "      <th>2</th>\n",
              "      <td>120000</td>\n",
              "      <td>26</td>\n",
              "      <td>0</td>\n",
              "      <td>2</td>\n",
              "      <td>0</td>\n",
              "      <td>0</td>\n",
              "      <td>0</td>\n",
              "      <td>2</td>\n",
              "      <td>2682</td>\n",
              "      <td>1725</td>\n",
              "      <td>2682</td>\n",
              "      <td>3272</td>\n",
              "      <td>3455</td>\n",
              "      <td>3261</td>\n",
              "      <td>0</td>\n",
              "      <td>1000</td>\n",
              "      <td>1000</td>\n",
              "      <td>1000</td>\n",
              "      <td>0</td>\n",
              "      <td>2000</td>\n",
              "      <td>1</td>\n",
              "      <td>1</td>\n",
              "      <td>0</td>\n",
              "      <td>1</td>\n",
              "      <td>0</td>\n",
              "      <td>1</td>\n",
              "      <td>0</td>\n",
              "      <td>0</td>\n",
              "      <td>0</td>\n",
              "      <td>1</td>\n",
              "      <td>0</td>\n",
              "    </tr>\n",
              "    <tr>\n",
              "      <th>3</th>\n",
              "      <td>90000</td>\n",
              "      <td>34</td>\n",
              "      <td>0</td>\n",
              "      <td>0</td>\n",
              "      <td>0</td>\n",
              "      <td>0</td>\n",
              "      <td>0</td>\n",
              "      <td>0</td>\n",
              "      <td>29239</td>\n",
              "      <td>14027</td>\n",
              "      <td>13559</td>\n",
              "      <td>14331</td>\n",
              "      <td>14948</td>\n",
              "      <td>15549</td>\n",
              "      <td>1518</td>\n",
              "      <td>1500</td>\n",
              "      <td>1000</td>\n",
              "      <td>1000</td>\n",
              "      <td>1000</td>\n",
              "      <td>5000</td>\n",
              "      <td>0</td>\n",
              "      <td>3</td>\n",
              "      <td>0</td>\n",
              "      <td>1</td>\n",
              "      <td>0</td>\n",
              "      <td>1</td>\n",
              "      <td>0</td>\n",
              "      <td>0</td>\n",
              "      <td>0</td>\n",
              "      <td>1</td>\n",
              "      <td>0</td>\n",
              "    </tr>\n",
              "    <tr>\n",
              "      <th>4</th>\n",
              "      <td>50000</td>\n",
              "      <td>37</td>\n",
              "      <td>0</td>\n",
              "      <td>0</td>\n",
              "      <td>0</td>\n",
              "      <td>0</td>\n",
              "      <td>0</td>\n",
              "      <td>0</td>\n",
              "      <td>46990</td>\n",
              "      <td>48233</td>\n",
              "      <td>49291</td>\n",
              "      <td>28314</td>\n",
              "      <td>28959</td>\n",
              "      <td>29547</td>\n",
              "      <td>2000</td>\n",
              "      <td>2019</td>\n",
              "      <td>1200</td>\n",
              "      <td>1100</td>\n",
              "      <td>1069</td>\n",
              "      <td>1000</td>\n",
              "      <td>0</td>\n",
              "      <td>3</td>\n",
              "      <td>0</td>\n",
              "      <td>1</td>\n",
              "      <td>0</td>\n",
              "      <td>1</td>\n",
              "      <td>0</td>\n",
              "      <td>0</td>\n",
              "      <td>1</td>\n",
              "      <td>0</td>\n",
              "      <td>0</td>\n",
              "    </tr>\n",
              "    <tr>\n",
              "      <th>5</th>\n",
              "      <td>50000</td>\n",
              "      <td>57</td>\n",
              "      <td>0</td>\n",
              "      <td>0</td>\n",
              "      <td>0</td>\n",
              "      <td>0</td>\n",
              "      <td>0</td>\n",
              "      <td>0</td>\n",
              "      <td>8617</td>\n",
              "      <td>5670</td>\n",
              "      <td>35835</td>\n",
              "      <td>20940</td>\n",
              "      <td>19146</td>\n",
              "      <td>19131</td>\n",
              "      <td>2000</td>\n",
              "      <td>36681</td>\n",
              "      <td>10000</td>\n",
              "      <td>9000</td>\n",
              "      <td>689</td>\n",
              "      <td>679</td>\n",
              "      <td>0</td>\n",
              "      <td>5</td>\n",
              "      <td>1</td>\n",
              "      <td>0</td>\n",
              "      <td>0</td>\n",
              "      <td>1</td>\n",
              "      <td>0</td>\n",
              "      <td>0</td>\n",
              "      <td>1</td>\n",
              "      <td>0</td>\n",
              "      <td>0</td>\n",
              "    </tr>\n",
              "    <tr>\n",
              "      <th>...</th>\n",
              "      <td>...</td>\n",
              "      <td>...</td>\n",
              "      <td>...</td>\n",
              "      <td>...</td>\n",
              "      <td>...</td>\n",
              "      <td>...</td>\n",
              "      <td>...</td>\n",
              "      <td>...</td>\n",
              "      <td>...</td>\n",
              "      <td>...</td>\n",
              "      <td>...</td>\n",
              "      <td>...</td>\n",
              "      <td>...</td>\n",
              "      <td>...</td>\n",
              "      <td>...</td>\n",
              "      <td>...</td>\n",
              "      <td>...</td>\n",
              "      <td>...</td>\n",
              "      <td>...</td>\n",
              "      <td>...</td>\n",
              "      <td>...</td>\n",
              "      <td>...</td>\n",
              "      <td>...</td>\n",
              "      <td>...</td>\n",
              "      <td>...</td>\n",
              "      <td>...</td>\n",
              "      <td>...</td>\n",
              "      <td>...</td>\n",
              "      <td>...</td>\n",
              "      <td>...</td>\n",
              "      <td>...</td>\n",
              "    </tr>\n",
              "    <tr>\n",
              "      <th>29996</th>\n",
              "      <td>220000</td>\n",
              "      <td>39</td>\n",
              "      <td>0</td>\n",
              "      <td>0</td>\n",
              "      <td>0</td>\n",
              "      <td>0</td>\n",
              "      <td>0</td>\n",
              "      <td>0</td>\n",
              "      <td>188948</td>\n",
              "      <td>192815</td>\n",
              "      <td>208365</td>\n",
              "      <td>88004</td>\n",
              "      <td>31237</td>\n",
              "      <td>15980</td>\n",
              "      <td>8500</td>\n",
              "      <td>20000</td>\n",
              "      <td>5003</td>\n",
              "      <td>3047</td>\n",
              "      <td>5000</td>\n",
              "      <td>1000</td>\n",
              "      <td>0</td>\n",
              "      <td>4</td>\n",
              "      <td>1</td>\n",
              "      <td>0</td>\n",
              "      <td>0</td>\n",
              "      <td>0</td>\n",
              "      <td>1</td>\n",
              "      <td>0</td>\n",
              "      <td>1</td>\n",
              "      <td>0</td>\n",
              "      <td>0</td>\n",
              "    </tr>\n",
              "    <tr>\n",
              "      <th>29997</th>\n",
              "      <td>150000</td>\n",
              "      <td>43</td>\n",
              "      <td>0</td>\n",
              "      <td>0</td>\n",
              "      <td>0</td>\n",
              "      <td>0</td>\n",
              "      <td>0</td>\n",
              "      <td>0</td>\n",
              "      <td>1683</td>\n",
              "      <td>1828</td>\n",
              "      <td>3502</td>\n",
              "      <td>8979</td>\n",
              "      <td>5190</td>\n",
              "      <td>0</td>\n",
              "      <td>1837</td>\n",
              "      <td>3526</td>\n",
              "      <td>8998</td>\n",
              "      <td>129</td>\n",
              "      <td>0</td>\n",
              "      <td>0</td>\n",
              "      <td>0</td>\n",
              "      <td>4</td>\n",
              "      <td>1</td>\n",
              "      <td>0</td>\n",
              "      <td>0</td>\n",
              "      <td>0</td>\n",
              "      <td>1</td>\n",
              "      <td>0</td>\n",
              "      <td>0</td>\n",
              "      <td>1</td>\n",
              "      <td>0</td>\n",
              "    </tr>\n",
              "    <tr>\n",
              "      <th>29998</th>\n",
              "      <td>30000</td>\n",
              "      <td>37</td>\n",
              "      <td>4</td>\n",
              "      <td>3</td>\n",
              "      <td>2</td>\n",
              "      <td>0</td>\n",
              "      <td>0</td>\n",
              "      <td>0</td>\n",
              "      <td>3565</td>\n",
              "      <td>3356</td>\n",
              "      <td>2758</td>\n",
              "      <td>20878</td>\n",
              "      <td>20582</td>\n",
              "      <td>19357</td>\n",
              "      <td>0</td>\n",
              "      <td>0</td>\n",
              "      <td>22000</td>\n",
              "      <td>4200</td>\n",
              "      <td>2000</td>\n",
              "      <td>3100</td>\n",
              "      <td>1</td>\n",
              "      <td>3</td>\n",
              "      <td>1</td>\n",
              "      <td>0</td>\n",
              "      <td>0</td>\n",
              "      <td>1</td>\n",
              "      <td>0</td>\n",
              "      <td>0</td>\n",
              "      <td>0</td>\n",
              "      <td>1</td>\n",
              "      <td>0</td>\n",
              "    </tr>\n",
              "    <tr>\n",
              "      <th>29999</th>\n",
              "      <td>80000</td>\n",
              "      <td>41</td>\n",
              "      <td>1</td>\n",
              "      <td>0</td>\n",
              "      <td>0</td>\n",
              "      <td>0</td>\n",
              "      <td>0</td>\n",
              "      <td>0</td>\n",
              "      <td>-1645</td>\n",
              "      <td>78379</td>\n",
              "      <td>76304</td>\n",
              "      <td>52774</td>\n",
              "      <td>11855</td>\n",
              "      <td>48944</td>\n",
              "      <td>85900</td>\n",
              "      <td>3409</td>\n",
              "      <td>1178</td>\n",
              "      <td>1926</td>\n",
              "      <td>52964</td>\n",
              "      <td>1804</td>\n",
              "      <td>1</td>\n",
              "      <td>4</td>\n",
              "      <td>1</td>\n",
              "      <td>0</td>\n",
              "      <td>0</td>\n",
              "      <td>0</td>\n",
              "      <td>1</td>\n",
              "      <td>0</td>\n",
              "      <td>1</td>\n",
              "      <td>0</td>\n",
              "      <td>0</td>\n",
              "    </tr>\n",
              "    <tr>\n",
              "      <th>30000</th>\n",
              "      <td>50000</td>\n",
              "      <td>46</td>\n",
              "      <td>0</td>\n",
              "      <td>0</td>\n",
              "      <td>0</td>\n",
              "      <td>0</td>\n",
              "      <td>0</td>\n",
              "      <td>0</td>\n",
              "      <td>47929</td>\n",
              "      <td>48905</td>\n",
              "      <td>49764</td>\n",
              "      <td>36535</td>\n",
              "      <td>32428</td>\n",
              "      <td>15313</td>\n",
              "      <td>2078</td>\n",
              "      <td>1800</td>\n",
              "      <td>1430</td>\n",
              "      <td>1000</td>\n",
              "      <td>1000</td>\n",
              "      <td>1000</td>\n",
              "      <td>1</td>\n",
              "      <td>5</td>\n",
              "      <td>1</td>\n",
              "      <td>0</td>\n",
              "      <td>0</td>\n",
              "      <td>1</td>\n",
              "      <td>0</td>\n",
              "      <td>0</td>\n",
              "      <td>1</td>\n",
              "      <td>0</td>\n",
              "      <td>0</td>\n",
              "    </tr>\n",
              "  </tbody>\n",
              "</table>\n",
              "<p>30000 rows × 31 columns</p>\n",
              "</div>"
            ],
            "text/plain": [
              "       LIMIT_BAL  AGE  PAY_1  ...  MARRIAGE_1  MARRIAGE_2  MARRIAGE_3\n",
              "ID                            ...                                    \n",
              "1          20000   24      2  ...           1           0           0\n",
              "2         120000   26      0  ...           0           1           0\n",
              "3          90000   34      0  ...           0           1           0\n",
              "4          50000   37      0  ...           1           0           0\n",
              "5          50000   57      0  ...           1           0           0\n",
              "...          ...  ...    ...  ...         ...         ...         ...\n",
              "29996     220000   39      0  ...           1           0           0\n",
              "29997     150000   43      0  ...           0           1           0\n",
              "29998      30000   37      4  ...           0           1           0\n",
              "29999      80000   41      1  ...           1           0           0\n",
              "30000      50000   46      0  ...           1           0           0\n",
              "\n",
              "[30000 rows x 31 columns]"
            ]
          },
          "metadata": {
            "tags": []
          },
          "execution_count": 61
        }
      ]
    },
    {
      "cell_type": "markdown",
      "metadata": {
        "id": "zwR_RBLXkv4D",
        "colab_type": "text"
      },
      "source": [
        "## Vector Assembler"
      ]
    },
    {
      "cell_type": "markdown",
      "metadata": {
        "id": "nhb_vwUyObzM",
        "colab_type": "text"
      },
      "source": [
        "Since I'm going to use Spark for model building, and their supervised learning algorithms need a data input with a special format. Where the dataframe has two columns: 'features', where all the features are condensed into a single dense vector representation. And 'label',  with the actual target class for every sample."
      ]
    },
    {
      "cell_type": "code",
      "metadata": {
        "id": "SOntcZ4vkzJM",
        "colab_type": "code",
        "colab": {
          "base_uri": "https://localhost:8080/",
          "height": 104
        },
        "outputId": "41b00ec4-a7a3-4e07-d50a-e9250e08420f"
      },
      "source": [
        "# enable apache_arrow-based columnar data transfers\n",
        "spark.conf.set(\"spark.sql.execution.arrow.enabled\", \"true\")\n",
        "# create spark dataframe\n",
        "df = spark.createDataFrame(binned_df)"
      ],
      "execution_count": 65,
      "outputs": [
        {
          "output_type": "stream",
          "text": [
            "/usr/local/lib/python3.6/dist-packages/pyspark/sql/pandas/conversion.py:289: UserWarning: createDataFrame attempted Arrow optimization because 'spark.sql.execution.arrow.pyspark.enabled' is set to true; however, failed by the reason below:\n",
            "  PyArrow >= 0.15.1 must be installed; however, your version was 0.14.1.\n",
            "Attempting non-optimization as 'spark.sql.execution.arrow.pyspark.fallback.enabled' is set to true.\n",
            "  warnings.warn(msg)\n"
          ],
          "name": "stderr"
        }
      ]
    },
    {
      "cell_type": "code",
      "metadata": {
        "id": "XkDOx4vpmnHn",
        "colab_type": "code",
        "colab": {}
      },
      "source": [
        "from pyspark.ml.feature import VectorAssembler\n",
        "\n",
        "df_assembler = VectorAssembler(inputCols=['LIMIT_BAL', 'AGE', 'PAY_1', 'PAY_2',\n",
        "                                          'PAY_3', 'PAY_4', 'PAY_5', 'PAY_6',\n",
        "                                          'BILL_AMT1', 'BILL_AMT2', 'BILL_AMT3',\n",
        "                                          'BILL_AMT4', 'BILL_AMT5', 'BILL_AMT6',\n",
        "                                          'PAY_AMT1', 'PAY_AMT2', 'PAY_AMT3',\n",
        "                                          'PAY_AMT4', 'PAY_AMT5', 'PAY_AMT6',\n",
        "                                          'AGE_BIN', 'SEX_1', 'SEX_2',\n",
        "                                          'EDUCATION_1', 'EDUCATION_2',\n",
        "                                          'EDUCATION_3', 'MARRIAGE_1',\n",
        "                                          'MARRIAGE_2', 'MARRIAGE_3'],\n",
        "                              outputCol='features')\n",
        "\n",
        "df = df_assembler.transform(df)"
      ],
      "execution_count": 66,
      "outputs": []
    },
    {
      "cell_type": "code",
      "metadata": {
        "id": "JAeNUflFk99G",
        "colab_type": "code",
        "colab": {}
      },
      "source": [
        "df = df.withColumnRenamed('DEFAULT', 'label')"
      ],
      "execution_count": 67,
      "outputs": []
    },
    {
      "cell_type": "code",
      "metadata": {
        "id": "BWHO4seiqQLq",
        "colab_type": "code",
        "colab": {
          "base_uri": "https://localhost:8080/",
          "height": 306
        },
        "outputId": "0eca938c-6a62-4d05-aa4e-49b01ab25554"
      },
      "source": [
        "df.show(10, False)"
      ],
      "execution_count": 68,
      "outputs": [
        {
          "output_type": "stream",
          "text": [
            "+---------+---+-----+-----+-----+-----+-----+-----+---------+---------+---------+---------+---------+---------+--------+--------+--------+--------+--------+--------+-----+-------+-----+-----+-----------+-----------+-----------+-----------+----------+----------+----------+----------------------------------------------------------------------------------------------------------------------------------------------------------------------------------------------+\n",
            "|LIMIT_BAL|AGE|PAY_1|PAY_2|PAY_3|PAY_4|PAY_5|PAY_6|BILL_AMT1|BILL_AMT2|BILL_AMT3|BILL_AMT4|BILL_AMT5|BILL_AMT6|PAY_AMT1|PAY_AMT2|PAY_AMT3|PAY_AMT4|PAY_AMT5|PAY_AMT6|label|AGE_BIN|SEX_1|SEX_2|EDUCATION_1|EDUCATION_2|EDUCATION_3|EDUCATION_4|MARRIAGE_1|MARRIAGE_2|MARRIAGE_3|features                                                                                                                                                                                      |\n",
            "+---------+---+-----+-----+-----+-----+-----+-----+---------+---------+---------+---------+---------+---------+--------+--------+--------+--------+--------+--------+-----+-------+-----+-----+-----------+-----------+-----------+-----------+----------+----------+----------+----------------------------------------------------------------------------------------------------------------------------------------------------------------------------------------------+\n",
            "|20000    |24 |2    |2    |0    |0    |0    |0    |3913     |3102     |689      |0        |0        |0        |0       |689     |0       |0       |0       |0       |1    |1      |0    |1    |0          |1          |0          |0          |1         |0         |0         |(29,[0,1,2,3,8,9,10,15,20,22,24,26],[20000.0,24.0,2.0,2.0,3913.0,3102.0,689.0,689.0,1.0,1.0,1.0,1.0])                                                                                         |\n",
            "|120000   |26 |0    |2    |0    |0    |0    |2    |2682     |1725     |2682     |3272     |3455     |3261     |0       |1000    |1000    |1000    |0       |2000    |1    |1      |0    |1    |0          |1          |0          |0          |0         |1         |0         |(29,[0,1,3,7,8,9,10,11,12,13,15,16,17,19,20,22,24,27],[120000.0,26.0,2.0,2.0,2682.0,1725.0,2682.0,3272.0,3455.0,3261.0,1000.0,1000.0,1000.0,2000.0,1.0,1.0,1.0,1.0])                          |\n",
            "|90000    |34 |0    |0    |0    |0    |0    |0    |29239    |14027    |13559    |14331    |14948    |15549    |1518    |1500    |1000    |1000    |1000    |5000    |0    |3      |0    |1    |0          |1          |0          |0          |0         |1         |0         |(29,[0,1,8,9,10,11,12,13,14,15,16,17,18,19,20,22,24,27],[90000.0,34.0,29239.0,14027.0,13559.0,14331.0,14948.0,15549.0,1518.0,1500.0,1000.0,1000.0,1000.0,5000.0,3.0,1.0,1.0,1.0])             |\n",
            "|50000    |37 |0    |0    |0    |0    |0    |0    |46990    |48233    |49291    |28314    |28959    |29547    |2000    |2019    |1200    |1100    |1069    |1000    |0    |3      |0    |1    |0          |1          |0          |0          |1         |0         |0         |(29,[0,1,8,9,10,11,12,13,14,15,16,17,18,19,20,22,24,26],[50000.0,37.0,46990.0,48233.0,49291.0,28314.0,28959.0,29547.0,2000.0,2019.0,1200.0,1100.0,1069.0,1000.0,3.0,1.0,1.0,1.0])             |\n",
            "|50000    |57 |0    |0    |0    |0    |0    |0    |8617     |5670     |35835    |20940    |19146    |19131    |2000    |36681   |10000   |9000    |689     |679     |0    |5      |1    |0    |0          |1          |0          |0          |1         |0         |0         |(29,[0,1,8,9,10,11,12,13,14,15,16,17,18,19,20,21,24,26],[50000.0,57.0,8617.0,5670.0,35835.0,20940.0,19146.0,19131.0,2000.0,36681.0,10000.0,9000.0,689.0,679.0,5.0,1.0,1.0,1.0])               |\n",
            "|50000    |37 |0    |0    |0    |0    |0    |0    |64400    |57069    |57608    |19394    |19619    |20024    |2500    |1815    |657     |1000    |1000    |800     |0    |3      |1    |0    |1          |0          |0          |0          |0         |1         |0         |(29,[0,1,8,9,10,11,12,13,14,15,16,17,18,19,20,21,23,27],[50000.0,37.0,64400.0,57069.0,57608.0,19394.0,19619.0,20024.0,2500.0,1815.0,657.0,1000.0,1000.0,800.0,3.0,1.0,1.0,1.0])               |\n",
            "|500000   |29 |0    |0    |0    |0    |0    |0    |367965   |412023   |445007   |542653   |483003   |473944   |55000   |40000   |38000   |20239   |13750   |13770   |0    |2      |1    |0    |1          |0          |0          |0          |0         |1         |0         |(29,[0,1,8,9,10,11,12,13,14,15,16,17,18,19,20,21,23,27],[500000.0,29.0,367965.0,412023.0,445007.0,542653.0,483003.0,473944.0,55000.0,40000.0,38000.0,20239.0,13750.0,13770.0,2.0,1.0,1.0,1.0])|\n",
            "|100000   |23 |0    |0    |0    |0    |0    |0    |11876    |380      |601      |221      |-159     |567      |380     |601     |0       |581     |1687    |1542    |0    |1      |0    |1    |0          |1          |0          |0          |0         |1         |0         |(29,[0,1,8,9,10,11,12,13,14,15,17,18,19,20,22,24,27],[100000.0,23.0,11876.0,380.0,601.0,221.0,-159.0,567.0,380.0,601.0,581.0,1687.0,1542.0,1.0,1.0,1.0,1.0])                                  |\n",
            "|140000   |28 |0    |0    |2    |0    |0    |0    |11285    |14096    |12108    |12211    |11793    |3719     |3329    |0       |432     |1000    |1000    |1000    |0    |2      |0    |1    |0          |0          |1          |0          |1         |0         |0         |(29,[0,1,4,8,9,10,11,12,13,14,16,17,18,19,20,22,25,26],[140000.0,28.0,2.0,11285.0,14096.0,12108.0,12211.0,11793.0,3719.0,3329.0,432.0,1000.0,1000.0,1000.0,2.0,1.0,1.0,1.0])                  |\n",
            "|20000    |35 |0    |0    |0    |0    |0    |0    |0        |0        |0        |0        |13007    |13912    |0       |0       |0       |13007   |1122    |0       |0    |3      |1    |0    |0          |0          |1          |0          |0         |1         |0         |(29,[0,1,12,13,17,18,20,21,25,27],[20000.0,35.0,13007.0,13912.0,13007.0,1122.0,3.0,1.0,1.0,1.0])                                                                                              |\n",
            "+---------+---+-----+-----+-----+-----+-----+-----+---------+---------+---------+---------+---------+---------+--------+--------+--------+--------+--------+--------+-----+-------+-----+-----+-----------+-----------+-----------+-----------+----------+----------+----------+----------------------------------------------------------------------------------------------------------------------------------------------------------------------------------------------+\n",
            "only showing top 10 rows\n",
            "\n"
          ],
          "name": "stdout"
        }
      ]
    },
    {
      "cell_type": "code",
      "metadata": {
        "id": "ibUJRvwylSrU",
        "colab_type": "code",
        "colab": {}
      },
      "source": [
        "model_df = df.select(['features', 'label'])"
      ],
      "execution_count": 69,
      "outputs": []
    },
    {
      "cell_type": "markdown",
      "metadata": {
        "id": "GCXGHjCv_7fK",
        "colab_type": "text"
      },
      "source": [
        "## Data Splitting"
      ]
    },
    {
      "cell_type": "markdown",
      "metadata": {
        "id": "XS0CKIhw3NBz",
        "colab_type": "text"
      },
      "source": [
        "I am going to split the dataset into a training and test set."
      ]
    },
    {
      "cell_type": "code",
      "metadata": {
        "id": "xhoLL0JplQFS",
        "colab_type": "code",
        "colab": {}
      },
      "source": [
        "train, test = model_df.randomSplit([0.75, 0.25])"
      ],
      "execution_count": 70,
      "outputs": []
    },
    {
      "cell_type": "markdown",
      "metadata": {
        "id": "fRKSZwN6qIK1",
        "colab_type": "text"
      },
      "source": [
        "# Model Selection"
      ]
    },
    {
      "cell_type": "markdown",
      "metadata": {
        "id": "9vj16D801WAA",
        "colab_type": "text"
      },
      "source": [
        "## Linear Regression Model\n",
        "\n"
      ]
    },
    {
      "cell_type": "markdown",
      "metadata": {
        "id": "dNybEnNXgdNc",
        "colab_type": "text"
      },
      "source": [
        "First, I will use a simple binary classification algorithm: `LogisticRegression`.\n",
        "\n",
        "I'll use Apache Spark for the model building, mainly because is faster than the Scikit-Learn algorithms. "
      ]
    },
    {
      "cell_type": "markdown",
      "metadata": {
        "id": "6QNSWDVNjZfm",
        "colab_type": "text"
      },
      "source": [
        "### Model Training"
      ]
    },
    {
      "cell_type": "code",
      "metadata": {
        "id": "arOTBwhvjY1y",
        "colab_type": "code",
        "colab": {}
      },
      "source": [
        "from pyspark.ml.classification import LogisticRegression\n",
        "lr = LogisticRegression()\n",
        "logreg = LogisticRegression().fit(train)"
      ],
      "execution_count": 71,
      "outputs": []
    },
    {
      "cell_type": "code",
      "metadata": {
        "id": "Vz7DApaBPiO9",
        "colab_type": "code",
        "colab": {
          "base_uri": "https://localhost:8080/",
          "height": 373
        },
        "outputId": "49cd50fe-05a2-4515-e014-fe29e423d423"
      },
      "source": [
        "logreg.params"
      ],
      "execution_count": 72,
      "outputs": [
        {
          "output_type": "execute_result",
          "data": {
            "text/plain": [
              "[Param(parent='LogisticRegression_08921cfb59fb', name='aggregationDepth', doc='suggested depth for treeAggregate (>= 2).'),\n",
              " Param(parent='LogisticRegression_08921cfb59fb', name='elasticNetParam', doc='the ElasticNet mixing parameter, in range [0, 1]. For alpha = 0, the penalty is an L2 penalty. For alpha = 1, it is an L1 penalty.'),\n",
              " Param(parent='LogisticRegression_08921cfb59fb', name='family', doc='The name of family which is a description of the label distribution to be used in the model. Supported options: auto, binomial, multinomial'),\n",
              " Param(parent='LogisticRegression_08921cfb59fb', name='featuresCol', doc='features column name.'),\n",
              " Param(parent='LogisticRegression_08921cfb59fb', name='fitIntercept', doc='whether to fit an intercept term.'),\n",
              " Param(parent='LogisticRegression_08921cfb59fb', name='labelCol', doc='label column name.'),\n",
              " Param(parent='LogisticRegression_08921cfb59fb', name='lowerBoundsOnCoefficients', doc='The lower bounds on coefficients if fitting under bound constrained optimization. The bound matrix must be compatible with the shape (1, number of features) for binomial regression, or (number of classes, number of features) for multinomial regression.'),\n",
              " Param(parent='LogisticRegression_08921cfb59fb', name='lowerBoundsOnIntercepts', doc='The lower bounds on intercepts if fitting under bound constrained optimization. The bounds vector size must beequal with 1 for binomial regression, or the number oflasses for multinomial regression.'),\n",
              " Param(parent='LogisticRegression_08921cfb59fb', name='maxIter', doc='max number of iterations (>= 0).'),\n",
              " Param(parent='LogisticRegression_08921cfb59fb', name='predictionCol', doc='prediction column name.'),\n",
              " Param(parent='LogisticRegression_08921cfb59fb', name='probabilityCol', doc='Column name for predicted class conditional probabilities. Note: Not all models output well-calibrated probability estimates! These probabilities should be treated as confidences, not precise probabilities.'),\n",
              " Param(parent='LogisticRegression_08921cfb59fb', name='rawPredictionCol', doc='raw prediction (a.k.a. confidence) column name.'),\n",
              " Param(parent='LogisticRegression_08921cfb59fb', name='regParam', doc='regularization parameter (>= 0).'),\n",
              " Param(parent='LogisticRegression_08921cfb59fb', name='standardization', doc='whether to standardize the training features before fitting the model.'),\n",
              " Param(parent='LogisticRegression_08921cfb59fb', name='threshold', doc='Threshold in binary classification prediction, in range [0, 1]. If threshold and thresholds are both set, they must match.e.g. if threshold is p, then thresholds must be equal to [1-p, p].'),\n",
              " Param(parent='LogisticRegression_08921cfb59fb', name='thresholds', doc=\"Thresholds in multi-class classification to adjust the probability of predicting each class. Array must have length equal to the number of classes, with values > 0, excepting that at most one value may be 0. The class with largest value p/t is predicted, where p is the original probability of that class and t is the class's threshold.\"),\n",
              " Param(parent='LogisticRegression_08921cfb59fb', name='tol', doc='the convergence tolerance for iterative algorithms (>= 0).'),\n",
              " Param(parent='LogisticRegression_08921cfb59fb', name='upperBoundsOnCoefficients', doc='The upper bounds on coefficients if fitting under bound constrained optimization. The bound matrix must be compatible with the shape (1, number of features) for binomial regression, or (number of classes, number of features) for multinomial regression.'),\n",
              " Param(parent='LogisticRegression_08921cfb59fb', name='upperBoundsOnIntercepts', doc='The upper bounds on intercepts if fitting under bound constrained optimization. The bound vector size must be equal with 1 for binomial regression, or the number of classes for multinomial regression.'),\n",
              " Param(parent='LogisticRegression_08921cfb59fb', name='weightCol', doc='weight column name. If this is not set or empty, we treat all instance weights as 1.0.')]"
            ]
          },
          "metadata": {
            "tags": []
          },
          "execution_count": 72
        }
      ]
    },
    {
      "cell_type": "markdown",
      "metadata": {
        "id": "wbBOFFzaj4A4",
        "colab_type": "text"
      },
      "source": [
        "### Model Performance on Training Set"
      ]
    },
    {
      "cell_type": "code",
      "metadata": {
        "id": "S5F0_ulrj7My",
        "colab_type": "code",
        "colab": {
          "base_uri": "https://localhost:8080/",
          "height": 84
        },
        "outputId": "ffb127b4-a83f-4056-8c34-f60176419592"
      },
      "source": [
        "lr_summary = logreg.summary\n",
        "print('Accuracy:', lr_summary.accuracy)\n",
        "print('Area under ROC:', lr_summary.areaUnderROC)\n",
        "print('Precision by label:', lr_summary.precisionByLabel)\n",
        "print('Recall by label:', lr_summary.recallByLabel)"
      ],
      "execution_count": 73,
      "outputs": [
        {
          "output_type": "stream",
          "text": [
            "Accuracy: 0.8184808213698387\n",
            "Area under ROC: 0.7608326145712695\n",
            "Precision by label: [0.8349780701754386, 0.6825462012320328]\n",
            "Recall by label: [0.9558941001939975, 0.3342047054092097]\n"
          ],
          "name": "stdout"
        }
      ]
    },
    {
      "cell_type": "markdown",
      "metadata": {
        "id": "BkO7aAWMkCsN",
        "colab_type": "text"
      },
      "source": [
        "### Model Performance on Test Set"
      ]
    },
    {
      "cell_type": "code",
      "metadata": {
        "id": "PzqMLaI8j88C",
        "colab_type": "code",
        "colab": {
          "base_uri": "https://localhost:8080/",
          "height": 286
        },
        "outputId": "bb8c44aa-10c9-4b7a-d8e1-e69a28abdbcd"
      },
      "source": [
        "predictions = logreg.transform(test)\n",
        "predictions.show(10)"
      ],
      "execution_count": 74,
      "outputs": [
        {
          "output_type": "stream",
          "text": [
            "+--------------------+-----+--------------------+--------------------+----------+\n",
            "|            features|label|       rawPrediction|         probability|prediction|\n",
            "+--------------------+-----+--------------------+--------------------+----------+\n",
            "|(29,[0,1,2,3,4,5,...|    1|[-8.0391833071960...|[3.22468265711122...|       1.0|\n",
            "|(29,[0,1,2,3,4,5,...|    1|[-3.8278761096421...|[0.02129253784293...|       1.0|\n",
            "|(29,[0,1,2,3,4,5,...|    1|[-1.8824601256805...|[0.13210655390294...|       1.0|\n",
            "|(29,[0,1,2,3,4,5,...|    1|[-1.1665590726345...|[0.23747751112995...|       1.0|\n",
            "|(29,[0,1,2,3,4,5,...|    1|[-3.2083214107494...|[0.03885377145845...|       1.0|\n",
            "|(29,[0,1,2,3,4,5,...|    0|[-2.2041423296448...|[0.09937912279812...|       1.0|\n",
            "|(29,[0,1,2,3,4,5,...|    0|[-7.9011541291984...|[3.70178818234047...|       1.0|\n",
            "|(29,[0,1,2,3,4,5,...|    1|[-1.2527009381327...|[0.22223294370419...|       1.0|\n",
            "|(29,[0,1,2,3,4,5,...|    0|[-7.8948986438410...|[3.72500859004233...|       1.0|\n",
            "|(29,[0,1,2,3,4,5,...|    1|[-3.1250976737588...|[0.04208379024218...|       1.0|\n",
            "+--------------------+-----+--------------------+--------------------+----------+\n",
            "only showing top 10 rows\n",
            "\n"
          ],
          "name": "stdout"
        }
      ]
    },
    {
      "cell_type": "code",
      "metadata": {
        "id": "gkiUPxdLkALs",
        "colab_type": "code",
        "colab": {}
      },
      "source": [
        "lr_predictions = logreg.transform(test)"
      ],
      "execution_count": 75,
      "outputs": []
    },
    {
      "cell_type": "markdown",
      "metadata": {
        "id": "6stZvC2pturA",
        "colab_type": "text"
      },
      "source": [
        "#### Performance Metrics"
      ]
    },
    {
      "cell_type": "code",
      "metadata": {
        "id": "Fl2SjhSTtwu2",
        "colab_type": "code",
        "colab": {
          "base_uri": "https://localhost:8080/",
          "height": 34
        },
        "outputId": "0bc86bec-bdf4-4c79-eaa8-f9662ab97926"
      },
      "source": [
        "from pyspark.ml.evaluation import BinaryClassificationEvaluator\n",
        "lr_evaluator = BinaryClassificationEvaluator(metricName='areaUnderROC')\n",
        "lr_auroc = lr_evaluator.evaluate(lr_predictions)\n",
        "print(f'The auroc value of LogReg model is {lr_auroc}')"
      ],
      "execution_count": 76,
      "outputs": [
        {
          "output_type": "stream",
          "text": [
            "The auroc value of LogReg model is 0.7608190743170442\n"
          ],
          "name": "stdout"
        }
      ]
    },
    {
      "cell_type": "code",
      "metadata": {
        "id": "wBTtJ-1mhEHt",
        "colab_type": "code",
        "colab": {
          "base_uri": "https://localhost:8080/",
          "height": 34
        },
        "outputId": "9a3005ab-089c-4b74-f963-bb6304da0301"
      },
      "source": [
        "lr_evaluator = BinaryClassificationEvaluator(metricName='areaUnderPR')\n",
        "lr_aupr = lr_evaluator.evaluate(lr_predictions)\n",
        "print(f'The aupr value of LogReg model is {lr_aupr}') "
      ],
      "execution_count": 77,
      "outputs": [
        {
          "output_type": "stream",
          "text": [
            "The aupr value of LogReg model is 0.5241905949877131\n"
          ],
          "name": "stdout"
        }
      ]
    },
    {
      "cell_type": "markdown",
      "metadata": {
        "id": "chU8i4Qeu8GI",
        "colab_type": "text"
      },
      "source": [
        "##### Recall and Precision:"
      ]
    },
    {
      "cell_type": "code",
      "metadata": {
        "id": "LH3Y-pXuhU7n",
        "colab_type": "code",
        "colab": {
          "base_uri": "https://localhost:8080/",
          "height": 101
        },
        "outputId": "f08f3841-928b-4f98-e767-595a6d1a9d71"
      },
      "source": [
        "true_pos = lr_predictions.filter(lr_predictions['label']==0).filter(\n",
        "    lr_predictions['prediction']==0).count()\n",
        "print(\"True positives:\", true_pos)\n",
        "\n",
        "actual_pos = lr_predictions.filter(lr_predictions['label']==0).count()\n",
        "print(\"Actual positives:\", actual_pos)\n",
        "\n",
        "pred_pos = lr_predictions.filter(lr_predictions['prediction']==0).count()\n",
        "print(\"Predicted positives:\", pred_pos)\n",
        "\n",
        "print(\"Recall:\", float(true_pos)/(actual_pos))\n",
        "\n",
        "print(\"Precision:\", float(true_pos)/(pred_pos))"
      ],
      "execution_count": 83,
      "outputs": [
        {
          "output_type": "stream",
          "text": [
            "True positives: 5591\n",
            "Actual positives: 5838\n",
            "Predicted positives: 6708\n",
            "Recall: 0.9576909900650907\n",
            "Precision: 0.8334824090638044\n"
          ],
          "name": "stdout"
        }
      ]
    },
    {
      "cell_type": "markdown",
      "metadata": {
        "id": "ujt-_PRHa7OJ",
        "colab_type": "text"
      },
      "source": [
        "#### Confusion Matrix"
      ]
    },
    {
      "cell_type": "code",
      "metadata": {
        "colab_type": "code",
        "id": "Z99CFfjSa9XS",
        "colab": {
          "base_uri": "https://localhost:8080/",
          "height": 50
        },
        "outputId": "0d47bef1-1c2b-4195-a2e2-87ef80471edb"
      },
      "source": [
        "from sklearn.metrics import confusion_matrix\n",
        "\n",
        "lr_target = np.array(lr_predictions.select('label').collect())\n",
        "lr_pred = np.array(lr_predictions.select('prediction').collect())\n",
        "\n",
        "confusion_matrix(lr_target, lr_pred)"
      ],
      "execution_count": 81,
      "outputs": [
        {
          "output_type": "execute_result",
          "data": {
            "text/plain": [
              "array([[5591,  247],\n",
              "       [1117,  546]])"
            ]
          },
          "metadata": {
            "tags": []
          },
          "execution_count": 81
        }
      ]
    },
    {
      "cell_type": "code",
      "metadata": {
        "colab_type": "code",
        "id": "GspJVaH6a9Xc",
        "colab": {
          "base_uri": "https://localhost:8080/",
          "height": 265
        },
        "outputId": "9660cf88-e6d8-447b-8ffb-3aeeaba7acd6"
      },
      "source": [
        "ax = sns.heatmap(confusion_matrix(lr_target, lr_pred), annot=True, fmt='d')"
      ],
      "execution_count": 84,
      "outputs": [
        {
          "output_type": "display_data",
          "data": {
            "image/png": "[encoded data removed]",
            "text/plain": [
              "<Figure size 432x288 with 2 Axes>"
            ]
          },
          "metadata": {
            "tags": [],
            "needs_background": "light"
          }
        }
      ]
    },
    {
      "cell_type": "markdown",
      "metadata": {
        "id": "9sXj_Qmu1XVj",
        "colab_type": "text"
      },
      "source": [
        "## Support Vector Machines Model"
      ]
    },
    {
      "cell_type": "markdown",
      "metadata": {
        "id": "jBt8KHwXw4RX",
        "colab_type": "text"
      },
      "source": [
        "### Model Training"
      ]
    },
    {
      "cell_type": "code",
      "metadata": {
        "id": "TXWnh3h_lk9U",
        "colab_type": "code",
        "colab": {
          "base_uri": "https://localhost:8080/",
          "height": 34
        },
        "outputId": "0425a530-e54c-4d9e-d1a9-48b2abcb00b0"
      },
      "source": [
        "from pyspark.ml.classification import LinearSVC\n",
        "\n",
        "lsvc = LinearSVC()\n",
        "lsvc_model = lsvc.fit(train)\n",
        "\n",
        "svm_predictions = lsvc_model.transform(test)\n",
        "svm_predictions.columns"
      ],
      "execution_count": 89,
      "outputs": [
        {
          "output_type": "execute_result",
          "data": {
            "text/plain": [
              "['features', 'label', 'rawPrediction', 'prediction']"
            ]
          },
          "metadata": {
            "tags": []
          },
          "execution_count": 89
        }
      ]
    },
    {
      "cell_type": "code",
      "metadata": {
        "id": "H5wQbRNgeOcj",
        "colab_type": "code",
        "colab": {
          "base_uri": "https://localhost:8080/",
          "height": 238
        },
        "outputId": "7fd3a162-c2f4-479e-c8fd-66115b424942"
      },
      "source": [
        "lsvc.params"
      ],
      "execution_count": 90,
      "outputs": [
        {
          "output_type": "execute_result",
          "data": {
            "text/plain": [
              "[Param(parent='LinearSVC_2bbc9f5dc116', name='aggregationDepth', doc='suggested depth for treeAggregate (>= 2).'),\n",
              " Param(parent='LinearSVC_2bbc9f5dc116', name='featuresCol', doc='features column name.'),\n",
              " Param(parent='LinearSVC_2bbc9f5dc116', name='fitIntercept', doc='whether to fit an intercept term.'),\n",
              " Param(parent='LinearSVC_2bbc9f5dc116', name='labelCol', doc='label column name.'),\n",
              " Param(parent='LinearSVC_2bbc9f5dc116', name='maxIter', doc='max number of iterations (>= 0).'),\n",
              " Param(parent='LinearSVC_2bbc9f5dc116', name='predictionCol', doc='prediction column name.'),\n",
              " Param(parent='LinearSVC_2bbc9f5dc116', name='rawPredictionCol', doc='raw prediction (a.k.a. confidence) column name.'),\n",
              " Param(parent='LinearSVC_2bbc9f5dc116', name='regParam', doc='regularization parameter (>= 0).'),\n",
              " Param(parent='LinearSVC_2bbc9f5dc116', name='standardization', doc='whether to standardize the training features before fitting the model.'),\n",
              " Param(parent='LinearSVC_2bbc9f5dc116', name='threshold', doc='The threshold in binary classification applied to the linear model prediction.  This threshold can be any real number, where Inf will make all predictions 0.0 and -Inf will make all predictions 1.0.'),\n",
              " Param(parent='LinearSVC_2bbc9f5dc116', name='tol', doc='the convergence tolerance for iterative algorithms (>= 0).'),\n",
              " Param(parent='LinearSVC_2bbc9f5dc116', name='weightCol', doc='weight column name. If this is not set or empty, we treat all instance weights as 1.0.')]"
            ]
          },
          "metadata": {
            "tags": []
          },
          "execution_count": 90
        }
      ]
    },
    {
      "cell_type": "markdown",
      "metadata": {
        "id": "4HuGQdcrw84m",
        "colab_type": "text"
      },
      "source": [
        "### Model Performance on Test Set"
      ]
    },
    {
      "cell_type": "code",
      "metadata": {
        "id": "nCqIaXDNlmd7",
        "colab_type": "code",
        "colab": {
          "base_uri": "https://localhost:8080/",
          "height": 286
        },
        "outputId": "cf9fc373-da4c-4e01-cd05-30be9743df33"
      },
      "source": [
        "svm_predictions.select(['label', 'prediction']).show(10, False)"
      ],
      "execution_count": 91,
      "outputs": [
        {
          "output_type": "stream",
          "text": [
            "+-----+----------+\n",
            "|label|prediction|\n",
            "+-----+----------+\n",
            "|1    |1.0       |\n",
            "|1    |1.0       |\n",
            "|1    |1.0       |\n",
            "|1    |1.0       |\n",
            "|1    |1.0       |\n",
            "|0    |1.0       |\n",
            "|0    |1.0       |\n",
            "|1    |1.0       |\n",
            "|0    |1.0       |\n",
            "|1    |1.0       |\n",
            "+-----+----------+\n",
            "only showing top 10 rows\n",
            "\n"
          ],
          "name": "stdout"
        }
      ]
    },
    {
      "cell_type": "code",
      "metadata": {
        "id": "qIF3svOJloTz",
        "colab_type": "code",
        "colab": {
          "base_uri": "https://localhost:8080/",
          "height": 34
        },
        "outputId": "9b2765bc-e2af-4a0e-f70c-dfc536e085c1"
      },
      "source": [
        "from pyspark.ml.evaluation import BinaryClassificationEvaluator\n",
        "svc_evaluator = BinaryClassificationEvaluator(metricName='areaUnderROC')\n",
        "svc_auroc = svc_evaluator.evaluate(svm_predictions)\n",
        "print(f'The auc value of SVC is {svc_auroc}')"
      ],
      "execution_count": 92,
      "outputs": [
        {
          "output_type": "stream",
          "text": [
            "The auc value of SVC is 0.7486244661173395\n"
          ],
          "name": "stdout"
        }
      ]
    },
    {
      "cell_type": "code",
      "metadata": {
        "id": "jyC4jorjlqD_",
        "colab_type": "code",
        "colab": {
          "base_uri": "https://localhost:8080/",
          "height": 34
        },
        "outputId": "eb3fa49e-0417-4d78-b264-676e1d1722ab"
      },
      "source": [
        "svc_evaluator = BinaryClassificationEvaluator(metricName='areaUnderPR')\n",
        "svc_aupr = svc_evaluator.evaluate(svm_predictions)\n",
        "print(f'The aupr value for SVC is {svc_aupr}')"
      ],
      "execution_count": 93,
      "outputs": [
        {
          "output_type": "stream",
          "text": [
            "The aupr value for SVC is 0.5170700191595411\n"
          ],
          "name": "stdout"
        }
      ]
    },
    {
      "cell_type": "markdown",
      "metadata": {
        "id": "YFyLeL1yxEng",
        "colab_type": "text"
      },
      "source": [
        "#### Recall and Precision"
      ]
    },
    {
      "cell_type": "code",
      "metadata": {
        "id": "uIru--1Ilqof",
        "colab_type": "code",
        "colab": {
          "base_uri": "https://localhost:8080/",
          "height": 101
        },
        "outputId": "870aa81a-626e-4609-8250-63d97577b220"
      },
      "source": [
        "true_pos = svm_predictions.filter(svm_predictions['label']==1).filter(\n",
        "    svm_predictions['prediction']==1).count()\n",
        "print(\"True positives:\", true_pos)\n",
        "\n",
        "actual_pos = svm_predictions.filter(svm_predictions['label']==1).count()\n",
        "print(\"Actual positives:\", actual_pos)\n",
        "\n",
        "pred_pos = svm_predictions.filter(svm_predictions['prediction']==1).count()\n",
        "print(\"Predicted positives:\", pred_pos)\n",
        "\n",
        "print('Recall:', (float(true_pos)/(actual_pos)))\n",
        "\n",
        "print('Precision:', (float(true_pos)/(pred_pos)))"
      ],
      "execution_count": 94,
      "outputs": [
        {
          "output_type": "stream",
          "text": [
            "True positives: 656\n",
            "Actual positives: 1663\n",
            "Predicted positives: 988\n",
            "Recall: 0.39446782922429346\n",
            "Precision: 0.6639676113360324\n"
          ],
          "name": "stdout"
        }
      ]
    },
    {
      "cell_type": "markdown",
      "metadata": {
        "id": "8H9jdTgwZxsx",
        "colab_type": "text"
      },
      "source": [
        "#### Confusion Matrix"
      ]
    },
    {
      "cell_type": "code",
      "metadata": {
        "colab_type": "code",
        "id": "5DjwH7smZ1zQ",
        "colab": {
          "base_uri": "https://localhost:8080/",
          "height": 50
        },
        "outputId": "bac8b625-08d2-4c5d-b36b-bbf6d1e62d30"
      },
      "source": [
        "from sklearn.metrics import confusion_matrix\n",
        "\n",
        "svm_target = np.array(svm_predictions.select('label').collect())\n",
        "svm_pred = np.array(svm_predictions.select('prediction').collect())\n",
        "\n",
        "confusion_matrix(svm_target, svm_pred)"
      ],
      "execution_count": 95,
      "outputs": [
        {
          "output_type": "execute_result",
          "data": {
            "text/plain": [
              "array([[5506,  332],\n",
              "       [1007,  656]])"
            ]
          },
          "metadata": {
            "tags": []
          },
          "execution_count": 95
        }
      ]
    },
    {
      "cell_type": "code",
      "metadata": {
        "colab_type": "code",
        "id": "BUQv375UZ1zf",
        "colab": {
          "base_uri": "https://localhost:8080/",
          "height": 265
        },
        "outputId": "735f403c-301c-45c9-cdb0-ce112f60f43d"
      },
      "source": [
        "ax = sns.heatmap(confusion_matrix(svm_target, svm_pred), annot=True, fmt='d')"
      ],
      "execution_count": 96,
      "outputs": [
        {
          "output_type": "display_data",
          "data": {
            "image/png": "[encoded data removed]",
            "text/plain": [
              "<Figure size 432x288 with 2 Axes>"
            ]
          },
          "metadata": {
            "tags": [],
            "needs_background": "light"
          }
        }
      ]
    },
    {
      "cell_type": "markdown",
      "metadata": {
        "id": "gSp8uwza1ZvA",
        "colab_type": "text"
      },
      "source": [
        "## Random Forest Model"
      ]
    },
    {
      "cell_type": "markdown",
      "metadata": {
        "id": "sEYy76OMvVZm",
        "colab_type": "text"
      },
      "source": [
        "### Model Training"
      ]
    },
    {
      "cell_type": "code",
      "metadata": {
        "id": "gD71lyTxvgs4",
        "colab_type": "code",
        "colab": {}
      },
      "source": [
        "from pyspark.ml.classification import RandomForestClassifier\n",
        "rf = RandomForestClassifier(numTrees=30)\n",
        "rf_model = rf.fit(train)"
      ],
      "execution_count": 118,
      "outputs": []
    },
    {
      "cell_type": "markdown",
      "metadata": {
        "id": "u1dJhdvGve0N",
        "colab_type": "text"
      },
      "source": [
        "### Model Performance on Test Set"
      ]
    },
    {
      "cell_type": "code",
      "metadata": {
        "id": "xQ6meKISwhYL",
        "colab_type": "code",
        "colab": {
          "base_uri": "https://localhost:8080/",
          "height": 286
        },
        "outputId": "7f155e03-5df2-4679-fbd9-ff8cd16dbb65"
      },
      "source": [
        "rf_predictions = rf_model.transform(test)\n",
        "rf_predictions.select(['label', 'probability', 'prediction']).show(10, False)"
      ],
      "execution_count": 119,
      "outputs": [
        {
          "output_type": "stream",
          "text": [
            "+-----+----------------------------------------+----------+\n",
            "|label|probability                             |prediction|\n",
            "+-----+----------------------------------------+----------+\n",
            "|1    |[0.3289660120424697,0.6710339879575303] |1.0       |\n",
            "|1    |[0.23561835587780658,0.7643816441221934]|1.0       |\n",
            "|1    |[0.23421734915467549,0.7657826508453245]|1.0       |\n",
            "|1    |[0.23493191022628468,0.7650680897737153]|1.0       |\n",
            "|1    |[0.23561835587780658,0.7643816441221934]|1.0       |\n",
            "|0    |[0.23561835587780658,0.7643816441221934]|1.0       |\n",
            "|0    |[0.33179757998320347,0.6682024200167966]|1.0       |\n",
            "|1    |[0.42511171935408304,0.5748882806459169]|1.0       |\n",
            "|0    |[0.336340026246194,0.6636599737538059]  |1.0       |\n",
            "|1    |[0.42681901555259105,0.573180984447409] |1.0       |\n",
            "+-----+----------------------------------------+----------+\n",
            "only showing top 10 rows\n",
            "\n"
          ],
          "name": "stdout"
        }
      ]
    },
    {
      "cell_type": "code",
      "metadata": {
        "id": "xQoRJVaewpiY",
        "colab_type": "code",
        "colab": {
          "base_uri": "https://localhost:8080/",
          "height": 34
        },
        "outputId": "fb543179-9617-40bf-87b7-15e5f2b94c65"
      },
      "source": [
        "rf_evaluator = BinaryClassificationEvaluator(metricName='areaUnderROC')\n",
        "rf_auroc = rf_evaluator.evaluate(rf_predictions)\n",
        "print(f'The area under ROC value of Random Forest Classifier Model is {rf_auroc}')"
      ],
      "execution_count": 120,
      "outputs": [
        {
          "output_type": "stream",
          "text": [
            "The area under ROC value of Random Forest Classifier Model is 0.765648558380338\n"
          ],
          "name": "stdout"
        }
      ]
    },
    {
      "cell_type": "code",
      "metadata": {
        "colab_type": "code",
        "id": "Xh2I4Bjmt0Bp",
        "colab": {
          "base_uri": "https://localhost:8080/",
          "height": 34
        },
        "outputId": "20f5ec5c-6604-474e-a670-5653ef49c157"
      },
      "source": [
        "rf_evaluator = BinaryClassificationEvaluator(metricName='areaUnderPR')\n",
        "rf_aupr = rf_evaluator.evaluate(rf_predictions)\n",
        "print(f'The area under PR value of Random Forest Classifier Model is {rf_aupr}')"
      ],
      "execution_count": 121,
      "outputs": [
        {
          "output_type": "stream",
          "text": [
            "The area under PR value of Random Forest Classifier Model is 0.5406257852228511\n"
          ],
          "name": "stdout"
        }
      ]
    },
    {
      "cell_type": "markdown",
      "metadata": {
        "id": "0UxqL47yxXnK",
        "colab_type": "text"
      },
      "source": [
        "#### Recall and Precision"
      ]
    },
    {
      "cell_type": "code",
      "metadata": {
        "colab_type": "code",
        "id": "wPfNjN6at0Bx",
        "colab": {
          "base_uri": "https://localhost:8080/",
          "height": 101
        },
        "outputId": "acc8a547-ded0-4f15-f55c-5c25ce18097c"
      },
      "source": [
        "true_pos = rf_predictions.filter(rf_predictions['label']==1).filter(\n",
        "    rf_predictions['prediction']==1).count()\n",
        "print('True positives:', true_pos)\n",
        "\n",
        "actual_pos = rf_predictions.filter(rf_predictions['label']==1).count()\n",
        "print('Actual positives:', actual_pos)\n",
        "\n",
        "pred_pos = rf_predictions.filter(rf_predictions['prediction']==1).count()\n",
        "print('Predicted positives:', pred_pos)\n",
        "\n",
        "print('Recall:', float(true_pos)/(actual_pos))\n",
        "\n",
        "print('Precision:', float(true_pos)/(pred_pos))"
      ],
      "execution_count": 122,
      "outputs": [
        {
          "output_type": "stream",
          "text": [
            "True positives: 553\n",
            "Actual positives: 1663\n",
            "Predicted positives: 793\n",
            "Recall: 0.33253156945279616\n",
            "Precision: 0.6973518284993695\n"
          ],
          "name": "stdout"
        }
      ]
    },
    {
      "cell_type": "markdown",
      "metadata": {
        "id": "WRXMztZnbqdl",
        "colab_type": "text"
      },
      "source": [
        "#### Confusion Matrix"
      ]
    },
    {
      "cell_type": "code",
      "metadata": {
        "colab_type": "code",
        "id": "xTIC7R9ibs-Z",
        "colab": {
          "base_uri": "https://localhost:8080/",
          "height": 50
        },
        "outputId": "997a154f-09a7-4a96-f265-eeca084ceeab"
      },
      "source": [
        "from sklearn.metrics import confusion_matrix\n",
        "\n",
        "rf_target = np.array(rf_predictions.select('label').collect())\n",
        "rf_pred = np.array(rf_predictions.select('prediction').collect())\n",
        "\n",
        "confusion_matrix(rf_target, rf_pred)"
      ],
      "execution_count": 102,
      "outputs": [
        {
          "output_type": "execute_result",
          "data": {
            "text/plain": [
              "array([[5545,  293],\n",
              "       [1083,  580]])"
            ]
          },
          "metadata": {
            "tags": []
          },
          "execution_count": 102
        }
      ]
    },
    {
      "cell_type": "code",
      "metadata": {
        "colab_type": "code",
        "id": "yFw7GCDXbs-i",
        "colab": {
          "base_uri": "https://localhost:8080/",
          "height": 265
        },
        "outputId": "7a71ea95-a071-4d18-9ebc-e8e7f57d8e6f"
      },
      "source": [
        "ax = sns.heatmap(confusion_matrix(rf_target, rf_pred), annot=True, fmt='d')"
      ],
      "execution_count": 103,
      "outputs": [
        {
          "output_type": "display_data",
          "data": {
            "image/png": "[encoded data removed]",
            "text/plain": [
              "<Figure size 432x288 with 2 Axes>"
            ]
          },
          "metadata": {
            "tags": [],
            "needs_background": "light"
          }
        }
      ]
    },
    {
      "cell_type": "markdown",
      "metadata": {
        "id": "P3bBa-6kqYVV",
        "colab_type": "text"
      },
      "source": [
        "# Hyperparameter-Tuning"
      ]
    },
    {
      "cell_type": "markdown",
      "metadata": {
        "id": "WpuFuzppdhmY",
        "colab_type": "text"
      },
      "source": [
        "## Logistic Regression"
      ]
    },
    {
      "cell_type": "code",
      "metadata": {
        "id": "cBItErS1Mpi0",
        "colab_type": "code",
        "colab": {}
      },
      "source": [
        "from pyspark.ml.tuning import ParamGridBuilder, CrossValidator\n",
        "\n",
        "paramGrid = (ParamGridBuilder().\n",
        "             addGrid(logreg.threshold, [0.2, 0.4, 0.6, 0.8]).\n",
        "             addGrid(logreg.elasticNetParam, [0, 1]).\n",
        "             build())\n",
        "\n",
        "cv = CrossValidator(estimator=lr, estimatorParamMaps=paramGrid, \n",
        "                    evaluator=lr_evaluator, numFolds=5)\n",
        "cv_model = cv.fit(train)\n",
        "best_lr_model = cv_model.bestModel"
      ],
      "execution_count": 124,
      "outputs": []
    },
    {
      "cell_type": "code",
      "metadata": {
        "id": "YpuN3v240MNW",
        "colab_type": "code",
        "colab": {
          "base_uri": "https://localhost:8080/",
          "height": 373
        },
        "outputId": "295b4203-efe0-4f47-ae65-61e53ae815c0"
      },
      "source": [
        "best_lr_model.params"
      ],
      "execution_count": 125,
      "outputs": [
        {
          "output_type": "execute_result",
          "data": {
            "text/plain": [
              "[Param(parent='LogisticRegression_5c708e827b79', name='aggregationDepth', doc='suggested depth for treeAggregate (>= 2).'),\n",
              " Param(parent='LogisticRegression_5c708e827b79', name='elasticNetParam', doc='the ElasticNet mixing parameter, in range [0, 1]. For alpha = 0, the penalty is an L2 penalty. For alpha = 1, it is an L1 penalty.'),\n",
              " Param(parent='LogisticRegression_5c708e827b79', name='family', doc='The name of family which is a description of the label distribution to be used in the model. Supported options: auto, binomial, multinomial'),\n",
              " Param(parent='LogisticRegression_5c708e827b79', name='featuresCol', doc='features column name.'),\n",
              " Param(parent='LogisticRegression_5c708e827b79', name='fitIntercept', doc='whether to fit an intercept term.'),\n",
              " Param(parent='LogisticRegression_5c708e827b79', name='labelCol', doc='label column name.'),\n",
              " Param(parent='LogisticRegression_5c708e827b79', name='lowerBoundsOnCoefficients', doc='The lower bounds on coefficients if fitting under bound constrained optimization. The bound matrix must be compatible with the shape (1, number of features) for binomial regression, or (number of classes, number of features) for multinomial regression.'),\n",
              " Param(parent='LogisticRegression_5c708e827b79', name='lowerBoundsOnIntercepts', doc='The lower bounds on intercepts if fitting under bound constrained optimization. The bounds vector size must beequal with 1 for binomial regression, or the number oflasses for multinomial regression.'),\n",
              " Param(parent='LogisticRegression_5c708e827b79', name='maxIter', doc='max number of iterations (>= 0).'),\n",
              " Param(parent='LogisticRegression_5c708e827b79', name='predictionCol', doc='prediction column name.'),\n",
              " Param(parent='LogisticRegression_5c708e827b79', name='probabilityCol', doc='Column name for predicted class conditional probabilities. Note: Not all models output well-calibrated probability estimates! These probabilities should be treated as confidences, not precise probabilities.'),\n",
              " Param(parent='LogisticRegression_5c708e827b79', name='rawPredictionCol', doc='raw prediction (a.k.a. confidence) column name.'),\n",
              " Param(parent='LogisticRegression_5c708e827b79', name='regParam', doc='regularization parameter (>= 0).'),\n",
              " Param(parent='LogisticRegression_5c708e827b79', name='standardization', doc='whether to standardize the training features before fitting the model.'),\n",
              " Param(parent='LogisticRegression_5c708e827b79', name='threshold', doc='Threshold in binary classification prediction, in range [0, 1]. If threshold and thresholds are both set, they must match.e.g. if threshold is p, then thresholds must be equal to [1-p, p].'),\n",
              " Param(parent='LogisticRegression_5c708e827b79', name='thresholds', doc=\"Thresholds in multi-class classification to adjust the probability of predicting each class. Array must have length equal to the number of classes, with values > 0, excepting that at most one value may be 0. The class with largest value p/t is predicted, where p is the original probability of that class and t is the class's threshold.\"),\n",
              " Param(parent='LogisticRegression_5c708e827b79', name='tol', doc='the convergence tolerance for iterative algorithms (>= 0).'),\n",
              " Param(parent='LogisticRegression_5c708e827b79', name='upperBoundsOnCoefficients', doc='The upper bounds on coefficients if fitting under bound constrained optimization. The bound matrix must be compatible with the shape (1, number of features) for binomial regression, or (number of classes, number of features) for multinomial regression.'),\n",
              " Param(parent='LogisticRegression_5c708e827b79', name='upperBoundsOnIntercepts', doc='The upper bounds on intercepts if fitting under bound constrained optimization. The bound vector size must be equal with 1 for binomial regression, or the number of classes for multinomial regression.'),\n",
              " Param(parent='LogisticRegression_5c708e827b79', name='weightCol', doc='weight column name. If this is not set or empty, we treat all instance weights as 1.0.')]"
            ]
          },
          "metadata": {
            "tags": []
          },
          "execution_count": 125
        }
      ]
    },
    {
      "cell_type": "markdown",
      "metadata": {
        "id": "BavZXddC2Chk",
        "colab_type": "text"
      },
      "source": [
        "## Random Forest Classifier"
      ]
    },
    {
      "cell_type": "code",
      "metadata": {
        "id": "xfY8Srd-2KBn",
        "colab_type": "code",
        "colab": {}
      },
      "source": [
        "from pyspark.ml.tuning import ParamGridBuilder, CrossValidator\n",
        "\n",
        "paramGrid = (ParamGridBuilder().\n",
        "             addGrid(rf.maxDepth, [5, 10, 20, 30]).\n",
        "             addGrid(rf.maxBins, [20, 50]).\n",
        "             addGrid(rf.numTrees, [5, 20, 50]).\n",
        "             build())\n",
        "\n",
        "cv = CrossValidator(estimator=rf, estimatorParamMaps=paramGrid, \n",
        "                    evaluator=rf_evaluator, numFolds=5)\n",
        "cv_model = cv.fit(train)\n",
        "best_rf_model = cv_model.bestModel"
      ],
      "execution_count": 132,
      "outputs": []
    },
    {
      "cell_type": "code",
      "metadata": {
        "id": "JaxRilrX_nw4",
        "colab_type": "code",
        "colab": {
          "base_uri": "https://localhost:8080/",
          "height": 406
        },
        "outputId": "1de60cc8-e23b-4858-fdda-bc7f7984d11d"
      },
      "source": [
        "best_rf_model.params"
      ],
      "execution_count": 140,
      "outputs": [
        {
          "output_type": "execute_result",
          "data": {
            "text/plain": [
              "[Param(parent='RandomForestClassifier_425566ed71c2', name='bootstrap', doc='Whether bootstrap samples are used when building trees.'),\n",
              " Param(parent='RandomForestClassifier_425566ed71c2', name='cacheNodeIds', doc='If false, the algorithm will pass trees to executors to match instances with nodes. If true, the algorithm will cache node IDs for each instance. Caching can speed up training of deeper trees. Users can set how often should the cache be checkpointed or disable it by setting checkpointInterval.'),\n",
              " Param(parent='RandomForestClassifier_425566ed71c2', name='checkpointInterval', doc='set checkpoint interval (>= 1) or disable checkpoint (-1). E.g. 10 means that the cache will get checkpointed every 10 iterations. Note: this setting will be ignored if the checkpoint directory is not set in the SparkContext.'),\n",
              " Param(parent='RandomForestClassifier_425566ed71c2', name='featureSubsetStrategy', doc=\"The number of features to consider for splits at each tree node. Supported options: 'auto' (choose automatically for task: If numTrees == 1, set to 'all'. If numTrees > 1 (forest), set to 'sqrt' for classification and to 'onethird' for regression), 'all' (use all features), 'onethird' (use 1/3 of the features), 'sqrt' (use sqrt(number of features)), 'log2' (use log2(number of features)), 'n' (when n is in the range (0, 1.0], use n * number of features. When n is in the range (1, number of features), use n features). default = 'auto'\"),\n",
              " Param(parent='RandomForestClassifier_425566ed71c2', name='featuresCol', doc='features column name.'),\n",
              " Param(parent='RandomForestClassifier_425566ed71c2', name='impurity', doc='Criterion used for information gain calculation (case-insensitive). Supported options: entropy, gini'),\n",
              " Param(parent='RandomForestClassifier_425566ed71c2', name='labelCol', doc='label column name.'),\n",
              " Param(parent='RandomForestClassifier_425566ed71c2', name='leafCol', doc='Leaf indices column name. Predicted leaf index of each instance in each tree by preorder.'),\n",
              " Param(parent='RandomForestClassifier_425566ed71c2', name='maxBins', doc='Max number of bins for discretizing continuous features.  Must be >=2 and >= number of categories for any categorical feature.'),\n",
              " Param(parent='RandomForestClassifier_425566ed71c2', name='maxDepth', doc='Maximum depth of the tree. (>= 0) E.g., depth 0 means 1 leaf node; depth 1 means 1 internal node + 2 leaf nodes.'),\n",
              " Param(parent='RandomForestClassifier_425566ed71c2', name='maxMemoryInMB', doc='Maximum memory in MB allocated to histogram aggregation. If too small, then 1 node will be split per iteration, and its aggregates may exceed this size.'),\n",
              " Param(parent='RandomForestClassifier_425566ed71c2', name='minInfoGain', doc='Minimum information gain for a split to be considered at a tree node.'),\n",
              " Param(parent='RandomForestClassifier_425566ed71c2', name='minInstancesPerNode', doc='Minimum number of instances each child must have after split. If a split causes the left or right child to have fewer than minInstancesPerNode, the split will be discarded as invalid. Should be >= 1.'),\n",
              " Param(parent='RandomForestClassifier_425566ed71c2', name='minWeightFractionPerNode', doc='Minimum fraction of the weighted sample count that each child must have after split. If a split causes the fraction of the total weight in the left or right child to be less than minWeightFractionPerNode, the split will be discarded as invalid. Should be in interval [0.0, 0.5).'),\n",
              " Param(parent='RandomForestClassifier_425566ed71c2', name='numTrees', doc='Number of trees to train (>= 1).'),\n",
              " Param(parent='RandomForestClassifier_425566ed71c2', name='predictionCol', doc='prediction column name.'),\n",
              " Param(parent='RandomForestClassifier_425566ed71c2', name='probabilityCol', doc='Column name for predicted class conditional probabilities. Note: Not all models output well-calibrated probability estimates! These probabilities should be treated as confidences, not precise probabilities.'),\n",
              " Param(parent='RandomForestClassifier_425566ed71c2', name='rawPredictionCol', doc='raw prediction (a.k.a. confidence) column name.'),\n",
              " Param(parent='RandomForestClassifier_425566ed71c2', name='seed', doc='random seed.'),\n",
              " Param(parent='RandomForestClassifier_425566ed71c2', name='subsamplingRate', doc='Fraction of the training data used for learning each decision tree, in range (0, 1].'),\n",
              " Param(parent='RandomForestClassifier_425566ed71c2', name='thresholds', doc=\"Thresholds in multi-class classification to adjust the probability of predicting each class. Array must have length equal to the number of classes, with values > 0, excepting that at most one value may be 0. The class with largest value p/t is predicted, where p is the original probability of that class and t is the class's threshold.\"),\n",
              " Param(parent='RandomForestClassifier_425566ed71c2', name='weightCol', doc='weight column name. If this is not set or empty, we treat all instance weights as 1.0.')]"
            ]
          },
          "metadata": {
            "tags": []
          },
          "execution_count": 140
        }
      ]
    },
    {
      "cell_type": "markdown",
      "metadata": {
        "id": "RXCaWW-I3g-p",
        "colab_type": "text"
      },
      "source": [
        "# Final Test of the Model"
      ]
    },
    {
      "cell_type": "markdown",
      "metadata": {
        "id": "QInucJJedk15",
        "colab_type": "text"
      },
      "source": [
        "## Logistic Regression"
      ]
    },
    {
      "cell_type": "code",
      "metadata": {
        "id": "jzrNBm29Rv7C",
        "colab_type": "code",
        "colab": {}
      },
      "source": [
        "lr_predictions = best_lr_model.transform(test)"
      ],
      "execution_count": 126,
      "outputs": []
    },
    {
      "cell_type": "markdown",
      "metadata": {
        "id": "7lMeK5fMZkai",
        "colab_type": "text"
      },
      "source": [
        "### Precision and Recall"
      ]
    },
    {
      "cell_type": "code",
      "metadata": {
        "id": "KRsmi2jXR4-_",
        "colab_type": "code",
        "colab": {
          "base_uri": "https://localhost:8080/",
          "height": 101
        },
        "outputId": "e7db2eec-4a9c-4ca2-e515-17459b099b00"
      },
      "source": [
        "true_pos = predictions.filter(predictions['label']==0).filter(\n",
        "    predictions['prediction']==0).count()\n",
        "print(\"True positives:\", true_pos)\n",
        "\n",
        "actual_pos = predictions.filter(predictions['label']==0).count()\n",
        "print(\"Actual positives:\", actual_pos)\n",
        "\n",
        "pred_pos = predictions.filter(predictions['prediction']==0).count()\n",
        "print(\"Predicted positives:\", pred_pos)\n",
        "\n",
        "print(\"Recall\", float(true_pos)/(actual_pos))\n",
        "\n",
        "print(\"Precision:\", float(true_pos)/(pred_pos))"
      ],
      "execution_count": 128,
      "outputs": [
        {
          "output_type": "stream",
          "text": [
            "True positives: 5591\n",
            "Actual positives: 5838\n",
            "Predicted positives: 6708\n",
            "Recall 0.9576909900650907\n",
            "Precision: 0.8334824090638044\n"
          ],
          "name": "stdout"
        }
      ]
    },
    {
      "cell_type": "markdown",
      "metadata": {
        "id": "8ZYAzA2oZmqr",
        "colab_type": "text"
      },
      "source": [
        "### Confusion Matrix"
      ]
    },
    {
      "cell_type": "code",
      "metadata": {
        "id": "7cOAGUiwTnOW",
        "colab_type": "code",
        "colab": {
          "base_uri": "https://localhost:8080/",
          "height": 50
        },
        "outputId": "94189b31-f608-4702-f380-bede79fb598b"
      },
      "source": [
        "from sklearn.metrics import confusion_matrix\n",
        "\n",
        "targ = np.array(predictions.select('label').collect())\n",
        "pred = np.array(predictions.select('prediction').collect())\n",
        "\n",
        "confusion_matrix(targ, pred)"
      ],
      "execution_count": 129,
      "outputs": [
        {
          "output_type": "execute_result",
          "data": {
            "text/plain": [
              "array([[5591,  247],\n",
              "       [1117,  546]])"
            ]
          },
          "metadata": {
            "tags": []
          },
          "execution_count": 129
        }
      ]
    },
    {
      "cell_type": "code",
      "metadata": {
        "id": "G2M4GKqhX5ws",
        "colab_type": "code",
        "colab": {
          "base_uri": "https://localhost:8080/",
          "height": 265
        },
        "outputId": "779dbae4-b906-463a-9f26-0ce2884ab8d8"
      },
      "source": [
        "ax = sns.heatmap(confusion_matrix(targ, pred), annot=True, fmt='d')"
      ],
      "execution_count": 130,
      "outputs": [
        {
          "output_type": "display_data",
          "data": {
            "image/png": "[encoded data removed]",
            "text/plain": [
              "<Figure size 432x288 with 2 Axes>"
            ]
          },
          "metadata": {
            "tags": [],
            "needs_background": "light"
          }
        }
      ]
    },
    {
      "cell_type": "markdown",
      "metadata": {
        "id": "9sVCM0Jo5cgL",
        "colab_type": "text"
      },
      "source": [
        "## Random Forest Classifier"
      ]
    },
    {
      "cell_type": "code",
      "metadata": {
        "id": "ao9-UWlT5fXo",
        "colab_type": "code",
        "colab": {}
      },
      "source": [
        "rf_predictions = best_rf_model.transform(test)"
      ],
      "execution_count": 134,
      "outputs": []
    },
    {
      "cell_type": "code",
      "metadata": {
        "colab_type": "code",
        "id": "AVHOsQ4M6Qc5",
        "colab": {
          "base_uri": "https://localhost:8080/",
          "height": 34
        },
        "outputId": "e2a1cf6e-955b-4666-fdf2-7fe614becb66"
      },
      "source": [
        "rf_evaluator = BinaryClassificationEvaluator(metricName='areaUnderROC')\n",
        "rf_auroc = rf_evaluator.evaluate(rf_predictions)\n",
        "print(f'The area under ROC value of Random Forest Classifier Model is {rf_auroc}')"
      ],
      "execution_count": 135,
      "outputs": [
        {
          "output_type": "stream",
          "text": [
            "The area under ROC value of Random Forest Classifier Model is 0.7729085694591825\n"
          ],
          "name": "stdout"
        }
      ]
    },
    {
      "cell_type": "code",
      "metadata": {
        "colab_type": "code",
        "id": "A3Zgu6za6QdA",
        "colab": {
          "base_uri": "https://localhost:8080/",
          "height": 34
        },
        "outputId": "fb4fc9a0-358a-40c7-997e-d4d2a6b8522d"
      },
      "source": [
        "rf_evaluator = BinaryClassificationEvaluator(metricName='areaUnderPR')\n",
        "rf_aupr = rf_evaluator.evaluate(rf_predictions)\n",
        "print(f'The area under PR value of Random Forest Classifier Model is {rf_aupr}')"
      ],
      "execution_count": 136,
      "outputs": [
        {
          "output_type": "stream",
          "text": [
            "The area under PR value of Random Forest Classifier Model is 0.5547414186621317\n"
          ],
          "name": "stdout"
        }
      ]
    },
    {
      "cell_type": "markdown",
      "metadata": {
        "id": "pMxUZVot6VyB",
        "colab_type": "text"
      },
      "source": [
        "### Precision and Recall"
      ]
    },
    {
      "cell_type": "code",
      "metadata": {
        "colab_type": "code",
        "id": "F1CoPGMx6hd0",
        "colab": {
          "base_uri": "https://localhost:8080/",
          "height": 101
        },
        "outputId": "cbdc8310-ab01-41eb-fcd2-a7423cc5d930"
      },
      "source": [
        "true_pos = rf_predictions.filter(rf_predictions['label']==1).filter(\n",
        "    rf_predictions['prediction']==1).count()\n",
        "print('True positives:', true_pos)\n",
        "\n",
        "actual_pos = rf_predictions.filter(rf_predictions['label']==1).count()\n",
        "print('Actual positives:', actual_pos)\n",
        "\n",
        "pred_pos = rf_predictions.filter(rf_predictions['prediction']==1).count()\n",
        "print('Predicted positives:', pred_pos)\n",
        "\n",
        "print('Recall:', float(true_pos)/(actual_pos))\n",
        "\n",
        "print('Precision:', float(true_pos)/(pred_pos))"
      ],
      "execution_count": 137,
      "outputs": [
        {
          "output_type": "stream",
          "text": [
            "True positives: 580\n",
            "Actual positives: 1663\n",
            "Predicted positives: 846\n",
            "Recall: 0.34876728803367407\n",
            "Precision: 0.6855791962174941\n"
          ],
          "name": "stdout"
        }
      ]
    },
    {
      "cell_type": "markdown",
      "metadata": {
        "id": "Q8OO0xJS6YEQ",
        "colab_type": "text"
      },
      "source": [
        "### Confusion Matrix"
      ]
    },
    {
      "cell_type": "code",
      "metadata": {
        "colab_type": "code",
        "id": "7a7-23X56ejh",
        "colab": {
          "base_uri": "https://localhost:8080/",
          "height": 50
        },
        "outputId": "bae4d7e2-f039-4a7c-cd8d-eaba60d579b7"
      },
      "source": [
        "from sklearn.metrics import confusion_matrix\n",
        "\n",
        "rf_target = np.array(rf_predictions.select('label').collect())\n",
        "rf_pred = np.array(rf_predictions.select('prediction').collect())\n",
        "\n",
        "confusion_matrix(rf_target, rf_pred)"
      ],
      "execution_count": 138,
      "outputs": [
        {
          "output_type": "execute_result",
          "data": {
            "text/plain": [
              "array([[5572,  266],\n",
              "       [1083,  580]])"
            ]
          },
          "metadata": {
            "tags": []
          },
          "execution_count": 138
        }
      ]
    },
    {
      "cell_type": "code",
      "metadata": {
        "colab_type": "code",
        "id": "V33kewQu6ejw",
        "colab": {
          "base_uri": "https://localhost:8080/",
          "height": 265
        },
        "outputId": "2f3fdad1-d2f8-4d9a-dbf7-2915ece64deb"
      },
      "source": [
        "ax = sns.heatmap(confusion_matrix(rf_target, rf_pred), annot=True, fmt='d')"
      ],
      "execution_count": 139,
      "outputs": [
        {
          "output_type": "display_data",
          "data": {
            "image/png": "[encoded data removed]",
            "text/plain": [
              "<Figure size 432x288 with 2 Axes>"
            ]
          },
          "metadata": {
            "tags": [],
            "needs_background": "light"
          }
        }
      ]
    },
    {
      "cell_type": "markdown",
      "metadata": {
        "id": "B70NuQez8XUp",
        "colab_type": "text"
      },
      "source": [
        "# Summary\n",
        "\n",
        "As we can see, the model that better performed for this task was the Logistic Regression model, with this results:\n",
        "\n",
        "* Precision: `0.83`\n",
        "* Recall: `0.95`\n",
        "\n",
        "We have to take into account that the bank may have two different intentions for this data: predict the default of their clients or prevent it. \n",
        "\n",
        "For this first intention, I should tweak the model so it has fewer false negatives. Thus the bank has more accurate information about the condition of its customers.\n",
        "\n",
        "And for the second, the bank needs more false positives, so the bank can assist its clients in time and prevent them from going into default."
      ]
    },
    {
      "cell_type": "markdown",
      "metadata": {
        "id": "ZmXgILVv8ZdU",
        "colab_type": "text"
      },
      "source": [
        "# Future Work/Next Steps"
      ]
    },
    {
      "cell_type": "markdown",
      "metadata": {
        "id": "zWKYnngG6pnx",
        "colab_type": "text"
      },
      "source": [
        "In the future, I could try more models, like:\n",
        "* Normalized Linear Regression\n",
        "  * Ridge Regression\n",
        "  * Lasso Regression\n",
        "* Neural Networks\n",
        "\n",
        "With their respective hyperparameter tuning.\n",
        "\n",
        "Also, I could use a bigger dataset (+30000 samples), in this way we will have more training examples and the final result of the test will be more reliable.\n",
        "\n",
        "\n"
      ]
    }
  ]
}